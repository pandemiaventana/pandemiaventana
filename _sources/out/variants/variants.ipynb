{
 "cells": [
  {
   "cell_type": "markdown",
   "id": "a4e3e0c9",
   "metadata": {},
   "source": [
    "## Variantes de COVID-19 en Chile\n",
    "\n",
    "En relación al [ISSUE #1089 de la base de datos COVID-19 del Ministerio de Ciencia, Tecnología, Conocimiento e Innovación](https://github.com/MinCiencia/Datos-COVID19/issues/1089), quise aportar con mi granito de arena a incorporar las variantes a nivel nacional (en caso de disponer a nivel Regional, informarlo en este mismo repositorio).\n",
    "\n",
    "> ¿Qué fuente utilizaremos? La página [Covariants](https://covariants.org/), que entrega información sobre las variantes del Coronavirus de distintos países, realizada por Emma Hodcroft y otros autores.\n",
    "\n",
    "> Para los archivos generados en la presente sección, [recurrir al siguiente vínculo](https://github.com/pandemiaventana/pandemiaventana/tree/main/out/variants)."
   ]
  },
  {
   "cell_type": "code",
   "execution_count": 79,
   "id": "3b293f25",
   "metadata": {},
   "outputs": [
    {
     "data": {
      "text/plain": [
       "'es_ES'"
      ]
     },
     "execution_count": 79,
     "metadata": {},
     "output_type": "execute_result"
    }
   ],
   "source": [
    "# Manejo de datos\n",
    "import pandas as pd\n",
    "# Módulo para obtener datos y módulo JSON\n",
    "import requests, json, locale\n",
    "# Módulo para graficar\n",
    "import plotly.graph_objects as go\n",
    "# Para formato local\n",
    "import locale\n",
    "## Según Windows o Ubuntu\n",
    "try:\n",
    "    ### Windows\n",
    "    locale.setlocale(locale.LC_ALL, 'esp')\n",
    "except Exception:\n",
    "    ### Ubuntu (action)\n",
    "    locale.setlocale(locale.LC_ALL, 'es_CL.UTF-8') "
   ]
  },
  {
   "cell_type": "code",
   "execution_count": 2,
   "id": "a006e797",
   "metadata": {},
   "outputs": [],
   "source": [
    "# Pedimos datos de texto con formato JSON con módulo tradicional de Python\n",
    "data = requests.get('https://raw.githubusercontent.com/hodcroftlab/covariants/master/web/data/perCountryData.json')\n",
    "# Transformamos datos anteriores a salida JSON\n",
    "variants = data.json()\n",
    "# En record_path se colocan obs. objetivos, y en meta información añadida, en orden jerárquico según JSON\n",
    "variants_nested = pd.json_normalize(variants, record_path = ['regions', 'distributions', 'distribution'], meta=[['regions', 'distributions', 'country']])\n",
    "# Renombramos algunas columnas\n",
    "variants_nested = variants_nested.rename(columns = {'total_sequences':'Secuencias', 'week': 'Semana', 'regions.distributions.country': 'Pais'})\n",
    "# Mejoramos la legibilidad de las columnas de variantes\n",
    "variants_nested.columns = variants_nested.columns.str.replace(\n",
    "    'cluster_counts.', '', regex=False)\n",
    "# Colocamos índice como datetime\n",
    "variants_nested.index = pd.to_datetime(variants_nested['Semana'])\n",
    "variants_nested.drop('Semana', axis=1, inplace=True)\n",
    "# Guardamos un archivo global\n",
    "variants_nested.to_csv('variantesglobales.csv')"
   ]
  },
  {
   "cell_type": "code",
   "execution_count": 35,
   "id": "0b2c872b",
   "metadata": {},
   "outputs": [],
   "source": [
    "# Filtramos datos de chilito\n",
    "variants_nested_cl = variants_nested.loc[variants_nested['Pais'] == 'Chile']\n",
    "# Eliminamos columas innecesarias\n",
    "variants_nested_cl = variants_nested_cl.drop('Pais', axis=1)\n",
    "variants_nested_cl.dropna(axis=1, how='all', inplace=True)\n",
    "# Guardamos archivo de variantes en Chile\n",
    "variants_nested_cl.to_csv('varianteschile.csv')"
   ]
  },
  {
   "cell_type": "code",
   "execution_count": 95,
   "id": "26d4f9af",
   "metadata": {},
   "outputs": [
    {
     "data": {
      "application/vnd.plotly.v1+json": {
       "config": {
        "plotlyServerURL": "https://plot.ly"
       },
       "data": [
        {
         "mode": "lines",
         "name": "20B/S:732A",
         "type": "scatter",
         "x": [
          "27 abr. 2020",
          "11 may. 2020",
          "25 may. 2020",
          "08 jun. 2020",
          "22 jun. 2020",
          "06 jul. 2020",
          "20 jul. 2020",
          "03 ago. 2020",
          "17 ago. 2020",
          "31 ago. 2020",
          "14 sep. 2020",
          "28 sep. 2020",
          "12 oct. 2020",
          "26 oct. 2020",
          "09 nov. 2020",
          "23 nov. 2020",
          "07 dic. 2020",
          "21 dic. 2020",
          "28 dic. 2020",
          "11 ene. 2021",
          "25 ene. 2021",
          "08 feb. 2021",
          "22 feb. 2021",
          "08 mar. 2021",
          "22 mar. 2021",
          "05 abr. 2021",
          "19 abr. 2021",
          "03 may. 2021",
          "17 may. 2021",
          "31 may. 2021",
          "14 jun. 2021",
          "28 jun. 2021",
          "12 jul. 2021",
          "26 jul. 2021",
          "09 ago. 2021",
          "23 ago. 2021",
          "06 sep. 2021",
          "20 sep. 2021",
          "04 oct. 2021",
          "18 oct. 2021",
          "01 nov. 2021",
          "15 nov. 2021",
          "29 nov. 2021",
          "13 dic. 2021"
         ],
         "y": [
          0,
          0,
          0,
          0,
          0,
          0,
          0,
          0,
          0,
          0,
          0,
          0,
          0,
          0,
          0,
          0,
          0,
          1,
          0,
          1,
          0,
          3,
          1,
          0,
          0,
          1,
          0,
          0,
          0,
          0,
          0,
          0,
          0,
          0,
          0,
          0,
          0,
          0,
          0,
          0,
          0,
          0,
          0,
          0
         ]
        },
        {
         "mode": "lines",
         "name": "20H (Beta, V2)",
         "type": "scatter",
         "x": [
          "27 abr. 2020",
          "11 may. 2020",
          "25 may. 2020",
          "08 jun. 2020",
          "22 jun. 2020",
          "06 jul. 2020",
          "20 jul. 2020",
          "03 ago. 2020",
          "17 ago. 2020",
          "31 ago. 2020",
          "14 sep. 2020",
          "28 sep. 2020",
          "12 oct. 2020",
          "26 oct. 2020",
          "09 nov. 2020",
          "23 nov. 2020",
          "07 dic. 2020",
          "21 dic. 2020",
          "28 dic. 2020",
          "11 ene. 2021",
          "25 ene. 2021",
          "08 feb. 2021",
          "22 feb. 2021",
          "08 mar. 2021",
          "22 mar. 2021",
          "05 abr. 2021",
          "19 abr. 2021",
          "03 may. 2021",
          "17 may. 2021",
          "31 may. 2021",
          "14 jun. 2021",
          "28 jun. 2021",
          "12 jul. 2021",
          "26 jul. 2021",
          "09 ago. 2021",
          "23 ago. 2021",
          "06 sep. 2021",
          "20 sep. 2021",
          "04 oct. 2021",
          "18 oct. 2021",
          "01 nov. 2021",
          "15 nov. 2021",
          "29 nov. 2021",
          "13 dic. 2021"
         ],
         "y": [
          0,
          0,
          0,
          0,
          0,
          0,
          0,
          0,
          0,
          0,
          0,
          0,
          0,
          0,
          0,
          0,
          0,
          0,
          0,
          0,
          0,
          0,
          0,
          0,
          0,
          2,
          0,
          0,
          1,
          0,
          1,
          0,
          0,
          0,
          0,
          0,
          0,
          0,
          0,
          0,
          0,
          0,
          0,
          0
         ]
        },
        {
         "mode": "lines",
         "name": "20I (Alpha, V1)",
         "type": "scatter",
         "x": [
          "27 abr. 2020",
          "11 may. 2020",
          "25 may. 2020",
          "08 jun. 2020",
          "22 jun. 2020",
          "06 jul. 2020",
          "20 jul. 2020",
          "03 ago. 2020",
          "17 ago. 2020",
          "31 ago. 2020",
          "14 sep. 2020",
          "28 sep. 2020",
          "12 oct. 2020",
          "26 oct. 2020",
          "09 nov. 2020",
          "23 nov. 2020",
          "07 dic. 2020",
          "21 dic. 2020",
          "28 dic. 2020",
          "11 ene. 2021",
          "25 ene. 2021",
          "08 feb. 2021",
          "22 feb. 2021",
          "08 mar. 2021",
          "22 mar. 2021",
          "05 abr. 2021",
          "19 abr. 2021",
          "03 may. 2021",
          "17 may. 2021",
          "31 may. 2021",
          "14 jun. 2021",
          "28 jun. 2021",
          "12 jul. 2021",
          "26 jul. 2021",
          "09 ago. 2021",
          "23 ago. 2021",
          "06 sep. 2021",
          "20 sep. 2021",
          "04 oct. 2021",
          "18 oct. 2021",
          "01 nov. 2021",
          "15 nov. 2021",
          "29 nov. 2021",
          "13 dic. 2021"
         ],
         "y": [
          0,
          0,
          0,
          0,
          0,
          0,
          0,
          0,
          0,
          0,
          0,
          0,
          0,
          0,
          0,
          0,
          0,
          8,
          2,
          1,
          1,
          4,
          11,
          11,
          22,
          22,
          20,
          25,
          15,
          13,
          58,
          17,
          7,
          20,
          6,
          3,
          0,
          0,
          0,
          0,
          0,
          0,
          0,
          0
         ]
        },
        {
         "mode": "lines",
         "name": "20J (Gamma, V3)",
         "type": "scatter",
         "x": [
          "27 abr. 2020",
          "11 may. 2020",
          "25 may. 2020",
          "08 jun. 2020",
          "22 jun. 2020",
          "06 jul. 2020",
          "20 jul. 2020",
          "03 ago. 2020",
          "17 ago. 2020",
          "31 ago. 2020",
          "14 sep. 2020",
          "28 sep. 2020",
          "12 oct. 2020",
          "26 oct. 2020",
          "09 nov. 2020",
          "23 nov. 2020",
          "07 dic. 2020",
          "21 dic. 2020",
          "28 dic. 2020",
          "11 ene. 2021",
          "25 ene. 2021",
          "08 feb. 2021",
          "22 feb. 2021",
          "08 mar. 2021",
          "22 mar. 2021",
          "05 abr. 2021",
          "19 abr. 2021",
          "03 may. 2021",
          "17 may. 2021",
          "31 may. 2021",
          "14 jun. 2021",
          "28 jun. 2021",
          "12 jul. 2021",
          "26 jul. 2021",
          "09 ago. 2021",
          "23 ago. 2021",
          "06 sep. 2021",
          "20 sep. 2021",
          "04 oct. 2021",
          "18 oct. 2021",
          "01 nov. 2021",
          "15 nov. 2021",
          "29 nov. 2021",
          "13 dic. 2021"
         ],
         "y": [
          0,
          0,
          0,
          0,
          0,
          0,
          0,
          0,
          0,
          0,
          0,
          0,
          0,
          0,
          0,
          0,
          0,
          0,
          1,
          1,
          1,
          3,
          6,
          30,
          81,
          135,
          255,
          320,
          272,
          419,
          479,
          613,
          380,
          468,
          416,
          303,
          150,
          53,
          14,
          4,
          0,
          0,
          0,
          0
         ]
        },
        {
         "mode": "lines",
         "name": "21A (Delta)",
         "type": "scatter",
         "x": [
          "27 abr. 2020",
          "11 may. 2020",
          "25 may. 2020",
          "08 jun. 2020",
          "22 jun. 2020",
          "06 jul. 2020",
          "20 jul. 2020",
          "03 ago. 2020",
          "17 ago. 2020",
          "31 ago. 2020",
          "14 sep. 2020",
          "28 sep. 2020",
          "12 oct. 2020",
          "26 oct. 2020",
          "09 nov. 2020",
          "23 nov. 2020",
          "07 dic. 2020",
          "21 dic. 2020",
          "28 dic. 2020",
          "11 ene. 2021",
          "25 ene. 2021",
          "08 feb. 2021",
          "22 feb. 2021",
          "08 mar. 2021",
          "22 mar. 2021",
          "05 abr. 2021",
          "19 abr. 2021",
          "03 may. 2021",
          "17 may. 2021",
          "31 may. 2021",
          "14 jun. 2021",
          "28 jun. 2021",
          "12 jul. 2021",
          "26 jul. 2021",
          "09 ago. 2021",
          "23 ago. 2021",
          "06 sep. 2021",
          "20 sep. 2021",
          "04 oct. 2021",
          "18 oct. 2021",
          "01 nov. 2021",
          "15 nov. 2021",
          "29 nov. 2021",
          "13 dic. 2021"
         ],
         "y": [
          0,
          0,
          0,
          0,
          0,
          0,
          0,
          0,
          0,
          0,
          0,
          0,
          0,
          0,
          0,
          0,
          0,
          0,
          0,
          0,
          0,
          0,
          0,
          0,
          0,
          0,
          0,
          0,
          0,
          0,
          0,
          2,
          0,
          0,
          4,
          6,
          1,
          2,
          2,
          1,
          2,
          2,
          1,
          0
         ]
        },
        {
         "mode": "lines",
         "name": "21C (Epsilon)",
         "type": "scatter",
         "x": [
          "27 abr. 2020",
          "11 may. 2020",
          "25 may. 2020",
          "08 jun. 2020",
          "22 jun. 2020",
          "06 jul. 2020",
          "20 jul. 2020",
          "03 ago. 2020",
          "17 ago. 2020",
          "31 ago. 2020",
          "14 sep. 2020",
          "28 sep. 2020",
          "12 oct. 2020",
          "26 oct. 2020",
          "09 nov. 2020",
          "23 nov. 2020",
          "07 dic. 2020",
          "21 dic. 2020",
          "28 dic. 2020",
          "11 ene. 2021",
          "25 ene. 2021",
          "08 feb. 2021",
          "22 feb. 2021",
          "08 mar. 2021",
          "22 mar. 2021",
          "05 abr. 2021",
          "19 abr. 2021",
          "03 may. 2021",
          "17 may. 2021",
          "31 may. 2021",
          "14 jun. 2021",
          "28 jun. 2021",
          "12 jul. 2021",
          "26 jul. 2021",
          "09 ago. 2021",
          "23 ago. 2021",
          "06 sep. 2021",
          "20 sep. 2021",
          "04 oct. 2021",
          "18 oct. 2021",
          "01 nov. 2021",
          "15 nov. 2021",
          "29 nov. 2021",
          "13 dic. 2021"
         ],
         "y": [
          0,
          0,
          0,
          0,
          0,
          0,
          0,
          0,
          0,
          0,
          0,
          0,
          0,
          0,
          0,
          0,
          0,
          1,
          0,
          1,
          1,
          5,
          2,
          4,
          4,
          2,
          3,
          2,
          5,
          2,
          1,
          2,
          0,
          2,
          0,
          0,
          0,
          0,
          0,
          0,
          0,
          0,
          0,
          0
         ]
        },
        {
         "mode": "lines",
         "name": "21F (Iota)",
         "type": "scatter",
         "x": [
          "27 abr. 2020",
          "11 may. 2020",
          "25 may. 2020",
          "08 jun. 2020",
          "22 jun. 2020",
          "06 jul. 2020",
          "20 jul. 2020",
          "03 ago. 2020",
          "17 ago. 2020",
          "31 ago. 2020",
          "14 sep. 2020",
          "28 sep. 2020",
          "12 oct. 2020",
          "26 oct. 2020",
          "09 nov. 2020",
          "23 nov. 2020",
          "07 dic. 2020",
          "21 dic. 2020",
          "28 dic. 2020",
          "11 ene. 2021",
          "25 ene. 2021",
          "08 feb. 2021",
          "22 feb. 2021",
          "08 mar. 2021",
          "22 mar. 2021",
          "05 abr. 2021",
          "19 abr. 2021",
          "03 may. 2021",
          "17 may. 2021",
          "31 may. 2021",
          "14 jun. 2021",
          "28 jun. 2021",
          "12 jul. 2021",
          "26 jul. 2021",
          "09 ago. 2021",
          "23 ago. 2021",
          "06 sep. 2021",
          "20 sep. 2021",
          "04 oct. 2021",
          "18 oct. 2021",
          "01 nov. 2021",
          "15 nov. 2021",
          "29 nov. 2021",
          "13 dic. 2021"
         ],
         "y": [
          0,
          0,
          0,
          0,
          0,
          0,
          0,
          0,
          0,
          0,
          0,
          0,
          0,
          0,
          0,
          0,
          0,
          0,
          0,
          0,
          0,
          1,
          0,
          0,
          1,
          3,
          1,
          0,
          0,
          0,
          0,
          0,
          0,
          0,
          0,
          0,
          0,
          0,
          0,
          0,
          0,
          0,
          0,
          0
         ]
        },
        {
         "mode": "lines",
         "name": "21G (Lambda)",
         "type": "scatter",
         "x": [
          "27 abr. 2020",
          "11 may. 2020",
          "25 may. 2020",
          "08 jun. 2020",
          "22 jun. 2020",
          "06 jul. 2020",
          "20 jul. 2020",
          "03 ago. 2020",
          "17 ago. 2020",
          "31 ago. 2020",
          "14 sep. 2020",
          "28 sep. 2020",
          "12 oct. 2020",
          "26 oct. 2020",
          "09 nov. 2020",
          "23 nov. 2020",
          "07 dic. 2020",
          "21 dic. 2020",
          "28 dic. 2020",
          "11 ene. 2021",
          "25 ene. 2021",
          "08 feb. 2021",
          "22 feb. 2021",
          "08 mar. 2021",
          "22 mar. 2021",
          "05 abr. 2021",
          "19 abr. 2021",
          "03 may. 2021",
          "17 may. 2021",
          "31 may. 2021",
          "14 jun. 2021",
          "28 jun. 2021",
          "12 jul. 2021",
          "26 jul. 2021",
          "09 ago. 2021",
          "23 ago. 2021",
          "06 sep. 2021",
          "20 sep. 2021",
          "04 oct. 2021",
          "18 oct. 2021",
          "01 nov. 2021",
          "15 nov. 2021",
          "29 nov. 2021",
          "13 dic. 2021"
         ],
         "y": [
          0,
          0,
          0,
          0,
          0,
          0,
          0,
          0,
          0,
          0,
          0,
          0,
          0,
          0,
          0,
          0,
          0,
          0,
          0,
          2,
          2,
          7,
          13,
          39,
          94,
          142,
          166,
          229,
          125,
          154,
          159,
          171,
          121,
          139,
          126,
          48,
          20,
          7,
          6,
          0,
          3,
          0,
          1,
          1
         ]
        },
        {
         "mode": "lines",
         "name": "21H (Mu)",
         "type": "scatter",
         "x": [
          "27 abr. 2020",
          "11 may. 2020",
          "25 may. 2020",
          "08 jun. 2020",
          "22 jun. 2020",
          "06 jul. 2020",
          "20 jul. 2020",
          "03 ago. 2020",
          "17 ago. 2020",
          "31 ago. 2020",
          "14 sep. 2020",
          "28 sep. 2020",
          "12 oct. 2020",
          "26 oct. 2020",
          "09 nov. 2020",
          "23 nov. 2020",
          "07 dic. 2020",
          "21 dic. 2020",
          "28 dic. 2020",
          "11 ene. 2021",
          "25 ene. 2021",
          "08 feb. 2021",
          "22 feb. 2021",
          "08 mar. 2021",
          "22 mar. 2021",
          "05 abr. 2021",
          "19 abr. 2021",
          "03 may. 2021",
          "17 may. 2021",
          "31 may. 2021",
          "14 jun. 2021",
          "28 jun. 2021",
          "12 jul. 2021",
          "26 jul. 2021",
          "09 ago. 2021",
          "23 ago. 2021",
          "06 sep. 2021",
          "20 sep. 2021",
          "04 oct. 2021",
          "18 oct. 2021",
          "01 nov. 2021",
          "15 nov. 2021",
          "29 nov. 2021",
          "13 dic. 2021"
         ],
         "y": [
          0,
          0,
          0,
          0,
          0,
          0,
          0,
          0,
          0,
          0,
          0,
          0,
          0,
          0,
          0,
          0,
          0,
          0,
          0,
          0,
          0,
          0,
          0,
          0,
          0,
          0,
          1,
          0,
          3,
          2,
          2,
          25,
          11,
          68,
          140,
          282,
          191,
          155,
          52,
          14,
          14,
          0,
          0,
          1
         ]
        },
        {
         "mode": "lines",
         "name": "21I (Delta)",
         "type": "scatter",
         "x": [
          "27 abr. 2020",
          "11 may. 2020",
          "25 may. 2020",
          "08 jun. 2020",
          "22 jun. 2020",
          "06 jul. 2020",
          "20 jul. 2020",
          "03 ago. 2020",
          "17 ago. 2020",
          "31 ago. 2020",
          "14 sep. 2020",
          "28 sep. 2020",
          "12 oct. 2020",
          "26 oct. 2020",
          "09 nov. 2020",
          "23 nov. 2020",
          "07 dic. 2020",
          "21 dic. 2020",
          "28 dic. 2020",
          "11 ene. 2021",
          "25 ene. 2021",
          "08 feb. 2021",
          "22 feb. 2021",
          "08 mar. 2021",
          "22 mar. 2021",
          "05 abr. 2021",
          "19 abr. 2021",
          "03 may. 2021",
          "17 may. 2021",
          "31 may. 2021",
          "14 jun. 2021",
          "28 jun. 2021",
          "12 jul. 2021",
          "26 jul. 2021",
          "09 ago. 2021",
          "23 ago. 2021",
          "06 sep. 2021",
          "20 sep. 2021",
          "04 oct. 2021",
          "18 oct. 2021",
          "01 nov. 2021",
          "15 nov. 2021",
          "29 nov. 2021",
          "13 dic. 2021"
         ],
         "y": [
          0,
          0,
          0,
          0,
          0,
          0,
          0,
          0,
          0,
          0,
          0,
          0,
          0,
          0,
          0,
          0,
          0,
          0,
          0,
          0,
          0,
          0,
          0,
          0,
          0,
          0,
          0,
          0,
          0,
          1,
          0,
          0,
          5,
          6,
          32,
          20,
          11,
          22,
          8,
          8,
          3,
          1,
          0,
          4
         ]
        },
        {
         "mode": "lines",
         "name": "21J (Delta)",
         "type": "scatter",
         "x": [
          "27 abr. 2020",
          "11 may. 2020",
          "25 may. 2020",
          "08 jun. 2020",
          "22 jun. 2020",
          "06 jul. 2020",
          "20 jul. 2020",
          "03 ago. 2020",
          "17 ago. 2020",
          "31 ago. 2020",
          "14 sep. 2020",
          "28 sep. 2020",
          "12 oct. 2020",
          "26 oct. 2020",
          "09 nov. 2020",
          "23 nov. 2020",
          "07 dic. 2020",
          "21 dic. 2020",
          "28 dic. 2020",
          "11 ene. 2021",
          "25 ene. 2021",
          "08 feb. 2021",
          "22 feb. 2021",
          "08 mar. 2021",
          "22 mar. 2021",
          "05 abr. 2021",
          "19 abr. 2021",
          "03 may. 2021",
          "17 may. 2021",
          "31 may. 2021",
          "14 jun. 2021",
          "28 jun. 2021",
          "12 jul. 2021",
          "26 jul. 2021",
          "09 ago. 2021",
          "23 ago. 2021",
          "06 sep. 2021",
          "20 sep. 2021",
          "04 oct. 2021",
          "18 oct. 2021",
          "01 nov. 2021",
          "15 nov. 2021",
          "29 nov. 2021",
          "13 dic. 2021"
         ],
         "y": [
          0,
          0,
          0,
          0,
          0,
          0,
          0,
          0,
          0,
          0,
          0,
          0,
          0,
          0,
          0,
          0,
          0,
          1,
          0,
          0,
          0,
          0,
          0,
          0,
          0,
          0,
          0,
          0,
          0,
          0,
          2,
          16,
          31,
          70,
          139,
          378,
          843,
          1638,
          1281,
          1264,
          977,
          563,
          417,
          237
         ]
        },
        {
         "mode": "lines",
         "name": "21K (Omicron)",
         "type": "scatter",
         "x": [
          "27 abr. 2020",
          "11 may. 2020",
          "25 may. 2020",
          "08 jun. 2020",
          "22 jun. 2020",
          "06 jul. 2020",
          "20 jul. 2020",
          "03 ago. 2020",
          "17 ago. 2020",
          "31 ago. 2020",
          "14 sep. 2020",
          "28 sep. 2020",
          "12 oct. 2020",
          "26 oct. 2020",
          "09 nov. 2020",
          "23 nov. 2020",
          "07 dic. 2020",
          "21 dic. 2020",
          "28 dic. 2020",
          "11 ene. 2021",
          "25 ene. 2021",
          "08 feb. 2021",
          "22 feb. 2021",
          "08 mar. 2021",
          "22 mar. 2021",
          "05 abr. 2021",
          "19 abr. 2021",
          "03 may. 2021",
          "17 may. 2021",
          "31 may. 2021",
          "14 jun. 2021",
          "28 jun. 2021",
          "12 jul. 2021",
          "26 jul. 2021",
          "09 ago. 2021",
          "23 ago. 2021",
          "06 sep. 2021",
          "20 sep. 2021",
          "04 oct. 2021",
          "18 oct. 2021",
          "01 nov. 2021",
          "15 nov. 2021",
          "29 nov. 2021",
          "13 dic. 2021"
         ],
         "y": [
          0,
          0,
          0,
          0,
          0,
          0,
          0,
          0,
          0,
          0,
          0,
          0,
          0,
          0,
          0,
          0,
          0,
          0,
          0,
          0,
          0,
          0,
          0,
          0,
          0,
          0,
          0,
          0,
          0,
          0,
          0,
          0,
          0,
          0,
          0,
          0,
          0,
          0,
          0,
          0,
          0,
          1,
          40,
          260
         ]
        },
        {
         "mode": "lines",
         "name": "S:677P.Pelican",
         "type": "scatter",
         "x": [
          "27 abr. 2020",
          "11 may. 2020",
          "25 may. 2020",
          "08 jun. 2020",
          "22 jun. 2020",
          "06 jul. 2020",
          "20 jul. 2020",
          "03 ago. 2020",
          "17 ago. 2020",
          "31 ago. 2020",
          "14 sep. 2020",
          "28 sep. 2020",
          "12 oct. 2020",
          "26 oct. 2020",
          "09 nov. 2020",
          "23 nov. 2020",
          "07 dic. 2020",
          "21 dic. 2020",
          "28 dic. 2020",
          "11 ene. 2021",
          "25 ene. 2021",
          "08 feb. 2021",
          "22 feb. 2021",
          "08 mar. 2021",
          "22 mar. 2021",
          "05 abr. 2021",
          "19 abr. 2021",
          "03 may. 2021",
          "17 may. 2021",
          "31 may. 2021",
          "14 jun. 2021",
          "28 jun. 2021",
          "12 jul. 2021",
          "26 jul. 2021",
          "09 ago. 2021",
          "23 ago. 2021",
          "06 sep. 2021",
          "20 sep. 2021",
          "04 oct. 2021",
          "18 oct. 2021",
          "01 nov. 2021",
          "15 nov. 2021",
          "29 nov. 2021",
          "13 dic. 2021"
         ],
         "y": [
          0,
          0,
          0,
          0,
          0,
          0,
          0,
          0,
          0,
          0,
          0,
          0,
          0,
          0,
          0,
          0,
          0,
          0,
          0,
          0,
          0,
          0,
          1,
          0,
          0,
          0,
          0,
          0,
          0,
          0,
          0,
          0,
          0,
          0,
          0,
          0,
          0,
          0,
          0,
          0,
          0,
          0,
          0,
          0
         ]
        }
       ],
       "layout": {
        "plot_bgcolor": "white",
        "template": {
         "data": {
          "bar": [
           {
            "error_x": {
             "color": "#2a3f5f"
            },
            "error_y": {
             "color": "#2a3f5f"
            },
            "marker": {
             "line": {
              "color": "#E5ECF6",
              "width": 0.5
             },
             "pattern": {
              "fillmode": "overlay",
              "size": 10,
              "solidity": 0.2
             }
            },
            "type": "bar"
           }
          ],
          "barpolar": [
           {
            "marker": {
             "line": {
              "color": "#E5ECF6",
              "width": 0.5
             },
             "pattern": {
              "fillmode": "overlay",
              "size": 10,
              "solidity": 0.2
             }
            },
            "type": "barpolar"
           }
          ],
          "carpet": [
           {
            "aaxis": {
             "endlinecolor": "#2a3f5f",
             "gridcolor": "white",
             "linecolor": "white",
             "minorgridcolor": "white",
             "startlinecolor": "#2a3f5f"
            },
            "baxis": {
             "endlinecolor": "#2a3f5f",
             "gridcolor": "white",
             "linecolor": "white",
             "minorgridcolor": "white",
             "startlinecolor": "#2a3f5f"
            },
            "type": "carpet"
           }
          ],
          "choropleth": [
           {
            "colorbar": {
             "outlinewidth": 0,
             "ticks": ""
            },
            "type": "choropleth"
           }
          ],
          "contour": [
           {
            "colorbar": {
             "outlinewidth": 0,
             "ticks": ""
            },
            "colorscale": [
             [
              0,
              "#0d0887"
             ],
             [
              0.1111111111111111,
              "#46039f"
             ],
             [
              0.2222222222222222,
              "#7201a8"
             ],
             [
              0.3333333333333333,
              "#9c179e"
             ],
             [
              0.4444444444444444,
              "#bd3786"
             ],
             [
              0.5555555555555556,
              "#d8576b"
             ],
             [
              0.6666666666666666,
              "#ed7953"
             ],
             [
              0.7777777777777778,
              "#fb9f3a"
             ],
             [
              0.8888888888888888,
              "#fdca26"
             ],
             [
              1,
              "#f0f921"
             ]
            ],
            "type": "contour"
           }
          ],
          "contourcarpet": [
           {
            "colorbar": {
             "outlinewidth": 0,
             "ticks": ""
            },
            "type": "contourcarpet"
           }
          ],
          "heatmap": [
           {
            "colorbar": {
             "outlinewidth": 0,
             "ticks": ""
            },
            "colorscale": [
             [
              0,
              "#0d0887"
             ],
             [
              0.1111111111111111,
              "#46039f"
             ],
             [
              0.2222222222222222,
              "#7201a8"
             ],
             [
              0.3333333333333333,
              "#9c179e"
             ],
             [
              0.4444444444444444,
              "#bd3786"
             ],
             [
              0.5555555555555556,
              "#d8576b"
             ],
             [
              0.6666666666666666,
              "#ed7953"
             ],
             [
              0.7777777777777778,
              "#fb9f3a"
             ],
             [
              0.8888888888888888,
              "#fdca26"
             ],
             [
              1,
              "#f0f921"
             ]
            ],
            "type": "heatmap"
           }
          ],
          "heatmapgl": [
           {
            "colorbar": {
             "outlinewidth": 0,
             "ticks": ""
            },
            "colorscale": [
             [
              0,
              "#0d0887"
             ],
             [
              0.1111111111111111,
              "#46039f"
             ],
             [
              0.2222222222222222,
              "#7201a8"
             ],
             [
              0.3333333333333333,
              "#9c179e"
             ],
             [
              0.4444444444444444,
              "#bd3786"
             ],
             [
              0.5555555555555556,
              "#d8576b"
             ],
             [
              0.6666666666666666,
              "#ed7953"
             ],
             [
              0.7777777777777778,
              "#fb9f3a"
             ],
             [
              0.8888888888888888,
              "#fdca26"
             ],
             [
              1,
              "#f0f921"
             ]
            ],
            "type": "heatmapgl"
           }
          ],
          "histogram": [
           {
            "marker": {
             "pattern": {
              "fillmode": "overlay",
              "size": 10,
              "solidity": 0.2
             }
            },
            "type": "histogram"
           }
          ],
          "histogram2d": [
           {
            "colorbar": {
             "outlinewidth": 0,
             "ticks": ""
            },
            "colorscale": [
             [
              0,
              "#0d0887"
             ],
             [
              0.1111111111111111,
              "#46039f"
             ],
             [
              0.2222222222222222,
              "#7201a8"
             ],
             [
              0.3333333333333333,
              "#9c179e"
             ],
             [
              0.4444444444444444,
              "#bd3786"
             ],
             [
              0.5555555555555556,
              "#d8576b"
             ],
             [
              0.6666666666666666,
              "#ed7953"
             ],
             [
              0.7777777777777778,
              "#fb9f3a"
             ],
             [
              0.8888888888888888,
              "#fdca26"
             ],
             [
              1,
              "#f0f921"
             ]
            ],
            "type": "histogram2d"
           }
          ],
          "histogram2dcontour": [
           {
            "colorbar": {
             "outlinewidth": 0,
             "ticks": ""
            },
            "colorscale": [
             [
              0,
              "#0d0887"
             ],
             [
              0.1111111111111111,
              "#46039f"
             ],
             [
              0.2222222222222222,
              "#7201a8"
             ],
             [
              0.3333333333333333,
              "#9c179e"
             ],
             [
              0.4444444444444444,
              "#bd3786"
             ],
             [
              0.5555555555555556,
              "#d8576b"
             ],
             [
              0.6666666666666666,
              "#ed7953"
             ],
             [
              0.7777777777777778,
              "#fb9f3a"
             ],
             [
              0.8888888888888888,
              "#fdca26"
             ],
             [
              1,
              "#f0f921"
             ]
            ],
            "type": "histogram2dcontour"
           }
          ],
          "mesh3d": [
           {
            "colorbar": {
             "outlinewidth": 0,
             "ticks": ""
            },
            "type": "mesh3d"
           }
          ],
          "parcoords": [
           {
            "line": {
             "colorbar": {
              "outlinewidth": 0,
              "ticks": ""
             }
            },
            "type": "parcoords"
           }
          ],
          "pie": [
           {
            "automargin": true,
            "type": "pie"
           }
          ],
          "scatter": [
           {
            "marker": {
             "colorbar": {
              "outlinewidth": 0,
              "ticks": ""
             }
            },
            "type": "scatter"
           }
          ],
          "scatter3d": [
           {
            "line": {
             "colorbar": {
              "outlinewidth": 0,
              "ticks": ""
             }
            },
            "marker": {
             "colorbar": {
              "outlinewidth": 0,
              "ticks": ""
             }
            },
            "type": "scatter3d"
           }
          ],
          "scattercarpet": [
           {
            "marker": {
             "colorbar": {
              "outlinewidth": 0,
              "ticks": ""
             }
            },
            "type": "scattercarpet"
           }
          ],
          "scattergeo": [
           {
            "marker": {
             "colorbar": {
              "outlinewidth": 0,
              "ticks": ""
             }
            },
            "type": "scattergeo"
           }
          ],
          "scattergl": [
           {
            "marker": {
             "colorbar": {
              "outlinewidth": 0,
              "ticks": ""
             }
            },
            "type": "scattergl"
           }
          ],
          "scattermapbox": [
           {
            "marker": {
             "colorbar": {
              "outlinewidth": 0,
              "ticks": ""
             }
            },
            "type": "scattermapbox"
           }
          ],
          "scatterpolar": [
           {
            "marker": {
             "colorbar": {
              "outlinewidth": 0,
              "ticks": ""
             }
            },
            "type": "scatterpolar"
           }
          ],
          "scatterpolargl": [
           {
            "marker": {
             "colorbar": {
              "outlinewidth": 0,
              "ticks": ""
             }
            },
            "type": "scatterpolargl"
           }
          ],
          "scatterternary": [
           {
            "marker": {
             "colorbar": {
              "outlinewidth": 0,
              "ticks": ""
             }
            },
            "type": "scatterternary"
           }
          ],
          "surface": [
           {
            "colorbar": {
             "outlinewidth": 0,
             "ticks": ""
            },
            "colorscale": [
             [
              0,
              "#0d0887"
             ],
             [
              0.1111111111111111,
              "#46039f"
             ],
             [
              0.2222222222222222,
              "#7201a8"
             ],
             [
              0.3333333333333333,
              "#9c179e"
             ],
             [
              0.4444444444444444,
              "#bd3786"
             ],
             [
              0.5555555555555556,
              "#d8576b"
             ],
             [
              0.6666666666666666,
              "#ed7953"
             ],
             [
              0.7777777777777778,
              "#fb9f3a"
             ],
             [
              0.8888888888888888,
              "#fdca26"
             ],
             [
              1,
              "#f0f921"
             ]
            ],
            "type": "surface"
           }
          ],
          "table": [
           {
            "cells": {
             "fill": {
              "color": "#EBF0F8"
             },
             "line": {
              "color": "white"
             }
            },
            "header": {
             "fill": {
              "color": "#C8D4E3"
             },
             "line": {
              "color": "white"
             }
            },
            "type": "table"
           }
          ]
         },
         "layout": {
          "annotationdefaults": {
           "arrowcolor": "#2a3f5f",
           "arrowhead": 0,
           "arrowwidth": 1
          },
          "autotypenumbers": "strict",
          "coloraxis": {
           "colorbar": {
            "outlinewidth": 0,
            "ticks": ""
           }
          },
          "colorscale": {
           "diverging": [
            [
             0,
             "#8e0152"
            ],
            [
             0.1,
             "#c51b7d"
            ],
            [
             0.2,
             "#de77ae"
            ],
            [
             0.3,
             "#f1b6da"
            ],
            [
             0.4,
             "#fde0ef"
            ],
            [
             0.5,
             "#f7f7f7"
            ],
            [
             0.6,
             "#e6f5d0"
            ],
            [
             0.7,
             "#b8e186"
            ],
            [
             0.8,
             "#7fbc41"
            ],
            [
             0.9,
             "#4d9221"
            ],
            [
             1,
             "#276419"
            ]
           ],
           "sequential": [
            [
             0,
             "#0d0887"
            ],
            [
             0.1111111111111111,
             "#46039f"
            ],
            [
             0.2222222222222222,
             "#7201a8"
            ],
            [
             0.3333333333333333,
             "#9c179e"
            ],
            [
             0.4444444444444444,
             "#bd3786"
            ],
            [
             0.5555555555555556,
             "#d8576b"
            ],
            [
             0.6666666666666666,
             "#ed7953"
            ],
            [
             0.7777777777777778,
             "#fb9f3a"
            ],
            [
             0.8888888888888888,
             "#fdca26"
            ],
            [
             1,
             "#f0f921"
            ]
           ],
           "sequentialminus": [
            [
             0,
             "#0d0887"
            ],
            [
             0.1111111111111111,
             "#46039f"
            ],
            [
             0.2222222222222222,
             "#7201a8"
            ],
            [
             0.3333333333333333,
             "#9c179e"
            ],
            [
             0.4444444444444444,
             "#bd3786"
            ],
            [
             0.5555555555555556,
             "#d8576b"
            ],
            [
             0.6666666666666666,
             "#ed7953"
            ],
            [
             0.7777777777777778,
             "#fb9f3a"
            ],
            [
             0.8888888888888888,
             "#fdca26"
            ],
            [
             1,
             "#f0f921"
            ]
           ]
          },
          "colorway": [
           "#636efa",
           "#EF553B",
           "#00cc96",
           "#ab63fa",
           "#FFA15A",
           "#19d3f3",
           "#FF6692",
           "#B6E880",
           "#FF97FF",
           "#FECB52"
          ],
          "font": {
           "color": "#2a3f5f"
          },
          "geo": {
           "bgcolor": "white",
           "lakecolor": "white",
           "landcolor": "#E5ECF6",
           "showlakes": true,
           "showland": true,
           "subunitcolor": "white"
          },
          "hoverlabel": {
           "align": "left"
          },
          "hovermode": "closest",
          "mapbox": {
           "style": "light"
          },
          "paper_bgcolor": "white",
          "plot_bgcolor": "#E5ECF6",
          "polar": {
           "angularaxis": {
            "gridcolor": "white",
            "linecolor": "white",
            "ticks": ""
           },
           "bgcolor": "#E5ECF6",
           "radialaxis": {
            "gridcolor": "white",
            "linecolor": "white",
            "ticks": ""
           }
          },
          "scene": {
           "xaxis": {
            "backgroundcolor": "#E5ECF6",
            "gridcolor": "white",
            "gridwidth": 2,
            "linecolor": "white",
            "showbackground": true,
            "ticks": "",
            "zerolinecolor": "white"
           },
           "yaxis": {
            "backgroundcolor": "#E5ECF6",
            "gridcolor": "white",
            "gridwidth": 2,
            "linecolor": "white",
            "showbackground": true,
            "ticks": "",
            "zerolinecolor": "white"
           },
           "zaxis": {
            "backgroundcolor": "#E5ECF6",
            "gridcolor": "white",
            "gridwidth": 2,
            "linecolor": "white",
            "showbackground": true,
            "ticks": "",
            "zerolinecolor": "white"
           }
          },
          "shapedefaults": {
           "line": {
            "color": "#2a3f5f"
           }
          },
          "ternary": {
           "aaxis": {
            "gridcolor": "white",
            "linecolor": "white",
            "ticks": ""
           },
           "baxis": {
            "gridcolor": "white",
            "linecolor": "white",
            "ticks": ""
           },
           "bgcolor": "#E5ECF6",
           "caxis": {
            "gridcolor": "white",
            "linecolor": "white",
            "ticks": ""
           }
          },
          "title": {
           "x": 0.05
          },
          "xaxis": {
           "automargin": true,
           "gridcolor": "white",
           "linecolor": "white",
           "ticks": "",
           "title": {
            "standoff": 15
           },
           "zerolinecolor": "white",
           "zerolinewidth": 2
          },
          "yaxis": {
           "automargin": true,
           "gridcolor": "white",
           "linecolor": "white",
           "ticks": "",
           "title": {
            "standoff": 15
           },
           "zerolinecolor": "white",
           "zerolinewidth": 2
          }
         }
        },
        "title": {
         "text": "Variantes de Coronavirus en Chile"
        },
        "xaxis": {
         "linecolor": "rgb(204, 204, 204)",
         "linewidth": 2,
         "nticks": 15,
         "showgrid": true,
         "showline": true,
         "showticklabels": true,
         "tickangle": 20,
         "tickfont": {
          "color": "rgb(82, 82, 82)",
          "family": "Arial",
          "size": 12
         },
         "ticks": "outside"
        },
        "yaxis": {
         "showgrid": true,
         "showline": true,
         "showticklabels": true,
         "zeroline": true
        }
       }
      },
      "text/html": [
       "<div>                            <div id=\"f8163eed-9475-4c6f-80ee-670e71b77b77\" class=\"plotly-graph-div\" style=\"height:525px; width:100%;\"></div>            <script type=\"text/javascript\">                require([\"plotly\"], function(Plotly) {                    window.PLOTLYENV=window.PLOTLYENV || {};                                    if (document.getElementById(\"f8163eed-9475-4c6f-80ee-670e71b77b77\")) {                    Plotly.newPlot(                        \"f8163eed-9475-4c6f-80ee-670e71b77b77\",                        [{\"mode\":\"lines\",\"name\":\"20B/S:732A\",\"x\":[\"27 abr. 2020\",\"11 may. 2020\",\"25 may. 2020\",\"08 jun. 2020\",\"22 jun. 2020\",\"06 jul. 2020\",\"20 jul. 2020\",\"03 ago. 2020\",\"17 ago. 2020\",\"31 ago. 2020\",\"14 sep. 2020\",\"28 sep. 2020\",\"12 oct. 2020\",\"26 oct. 2020\",\"09 nov. 2020\",\"23 nov. 2020\",\"07 dic. 2020\",\"21 dic. 2020\",\"28 dic. 2020\",\"11 ene. 2021\",\"25 ene. 2021\",\"08 feb. 2021\",\"22 feb. 2021\",\"08 mar. 2021\",\"22 mar. 2021\",\"05 abr. 2021\",\"19 abr. 2021\",\"03 may. 2021\",\"17 may. 2021\",\"31 may. 2021\",\"14 jun. 2021\",\"28 jun. 2021\",\"12 jul. 2021\",\"26 jul. 2021\",\"09 ago. 2021\",\"23 ago. 2021\",\"06 sep. 2021\",\"20 sep. 2021\",\"04 oct. 2021\",\"18 oct. 2021\",\"01 nov. 2021\",\"15 nov. 2021\",\"29 nov. 2021\",\"13 dic. 2021\"],\"y\":[0.0,0.0,0.0,0.0,0.0,0.0,0.0,0.0,0.0,0.0,0.0,0.0,0.0,0.0,0.0,0.0,0.0,1.0,0.0,1.0,0.0,3.0,1.0,0.0,0.0,1.0,0.0,0.0,0.0,0.0,0.0,0.0,0.0,0.0,0.0,0.0,0.0,0.0,0.0,0.0,0.0,0.0,0.0,0.0],\"type\":\"scatter\"},{\"mode\":\"lines\",\"name\":\"20H (Beta, V2)\",\"x\":[\"27 abr. 2020\",\"11 may. 2020\",\"25 may. 2020\",\"08 jun. 2020\",\"22 jun. 2020\",\"06 jul. 2020\",\"20 jul. 2020\",\"03 ago. 2020\",\"17 ago. 2020\",\"31 ago. 2020\",\"14 sep. 2020\",\"28 sep. 2020\",\"12 oct. 2020\",\"26 oct. 2020\",\"09 nov. 2020\",\"23 nov. 2020\",\"07 dic. 2020\",\"21 dic. 2020\",\"28 dic. 2020\",\"11 ene. 2021\",\"25 ene. 2021\",\"08 feb. 2021\",\"22 feb. 2021\",\"08 mar. 2021\",\"22 mar. 2021\",\"05 abr. 2021\",\"19 abr. 2021\",\"03 may. 2021\",\"17 may. 2021\",\"31 may. 2021\",\"14 jun. 2021\",\"28 jun. 2021\",\"12 jul. 2021\",\"26 jul. 2021\",\"09 ago. 2021\",\"23 ago. 2021\",\"06 sep. 2021\",\"20 sep. 2021\",\"04 oct. 2021\",\"18 oct. 2021\",\"01 nov. 2021\",\"15 nov. 2021\",\"29 nov. 2021\",\"13 dic. 2021\"],\"y\":[0.0,0.0,0.0,0.0,0.0,0.0,0.0,0.0,0.0,0.0,0.0,0.0,0.0,0.0,0.0,0.0,0.0,0.0,0.0,0.0,0.0,0.0,0.0,0.0,0.0,2.0,0.0,0.0,1.0,0.0,1.0,0.0,0.0,0.0,0.0,0.0,0.0,0.0,0.0,0.0,0.0,0.0,0.0,0.0],\"type\":\"scatter\"},{\"mode\":\"lines\",\"name\":\"20I (Alpha, V1)\",\"x\":[\"27 abr. 2020\",\"11 may. 2020\",\"25 may. 2020\",\"08 jun. 2020\",\"22 jun. 2020\",\"06 jul. 2020\",\"20 jul. 2020\",\"03 ago. 2020\",\"17 ago. 2020\",\"31 ago. 2020\",\"14 sep. 2020\",\"28 sep. 2020\",\"12 oct. 2020\",\"26 oct. 2020\",\"09 nov. 2020\",\"23 nov. 2020\",\"07 dic. 2020\",\"21 dic. 2020\",\"28 dic. 2020\",\"11 ene. 2021\",\"25 ene. 2021\",\"08 feb. 2021\",\"22 feb. 2021\",\"08 mar. 2021\",\"22 mar. 2021\",\"05 abr. 2021\",\"19 abr. 2021\",\"03 may. 2021\",\"17 may. 2021\",\"31 may. 2021\",\"14 jun. 2021\",\"28 jun. 2021\",\"12 jul. 2021\",\"26 jul. 2021\",\"09 ago. 2021\",\"23 ago. 2021\",\"06 sep. 2021\",\"20 sep. 2021\",\"04 oct. 2021\",\"18 oct. 2021\",\"01 nov. 2021\",\"15 nov. 2021\",\"29 nov. 2021\",\"13 dic. 2021\"],\"y\":[0.0,0.0,0.0,0.0,0.0,0.0,0.0,0.0,0.0,0.0,0.0,0.0,0.0,0.0,0.0,0.0,0.0,8.0,2.0,1.0,1.0,4.0,11.0,11.0,22.0,22.0,20.0,25.0,15.0,13.0,58.0,17.0,7.0,20.0,6.0,3.0,0.0,0.0,0.0,0.0,0.0,0.0,0.0,0.0],\"type\":\"scatter\"},{\"mode\":\"lines\",\"name\":\"20J (Gamma, V3)\",\"x\":[\"27 abr. 2020\",\"11 may. 2020\",\"25 may. 2020\",\"08 jun. 2020\",\"22 jun. 2020\",\"06 jul. 2020\",\"20 jul. 2020\",\"03 ago. 2020\",\"17 ago. 2020\",\"31 ago. 2020\",\"14 sep. 2020\",\"28 sep. 2020\",\"12 oct. 2020\",\"26 oct. 2020\",\"09 nov. 2020\",\"23 nov. 2020\",\"07 dic. 2020\",\"21 dic. 2020\",\"28 dic. 2020\",\"11 ene. 2021\",\"25 ene. 2021\",\"08 feb. 2021\",\"22 feb. 2021\",\"08 mar. 2021\",\"22 mar. 2021\",\"05 abr. 2021\",\"19 abr. 2021\",\"03 may. 2021\",\"17 may. 2021\",\"31 may. 2021\",\"14 jun. 2021\",\"28 jun. 2021\",\"12 jul. 2021\",\"26 jul. 2021\",\"09 ago. 2021\",\"23 ago. 2021\",\"06 sep. 2021\",\"20 sep. 2021\",\"04 oct. 2021\",\"18 oct. 2021\",\"01 nov. 2021\",\"15 nov. 2021\",\"29 nov. 2021\",\"13 dic. 2021\"],\"y\":[0.0,0.0,0.0,0.0,0.0,0.0,0.0,0.0,0.0,0.0,0.0,0.0,0.0,0.0,0.0,0.0,0.0,0.0,1.0,1.0,1.0,3.0,6.0,30.0,81.0,135.0,255.0,320.0,272.0,419.0,479.0,613.0,380.0,468.0,416.0,303.0,150.0,53.0,14.0,4.0,0.0,0.0,0.0,0.0],\"type\":\"scatter\"},{\"mode\":\"lines\",\"name\":\"21A (Delta)\",\"x\":[\"27 abr. 2020\",\"11 may. 2020\",\"25 may. 2020\",\"08 jun. 2020\",\"22 jun. 2020\",\"06 jul. 2020\",\"20 jul. 2020\",\"03 ago. 2020\",\"17 ago. 2020\",\"31 ago. 2020\",\"14 sep. 2020\",\"28 sep. 2020\",\"12 oct. 2020\",\"26 oct. 2020\",\"09 nov. 2020\",\"23 nov. 2020\",\"07 dic. 2020\",\"21 dic. 2020\",\"28 dic. 2020\",\"11 ene. 2021\",\"25 ene. 2021\",\"08 feb. 2021\",\"22 feb. 2021\",\"08 mar. 2021\",\"22 mar. 2021\",\"05 abr. 2021\",\"19 abr. 2021\",\"03 may. 2021\",\"17 may. 2021\",\"31 may. 2021\",\"14 jun. 2021\",\"28 jun. 2021\",\"12 jul. 2021\",\"26 jul. 2021\",\"09 ago. 2021\",\"23 ago. 2021\",\"06 sep. 2021\",\"20 sep. 2021\",\"04 oct. 2021\",\"18 oct. 2021\",\"01 nov. 2021\",\"15 nov. 2021\",\"29 nov. 2021\",\"13 dic. 2021\"],\"y\":[0.0,0.0,0.0,0.0,0.0,0.0,0.0,0.0,0.0,0.0,0.0,0.0,0.0,0.0,0.0,0.0,0.0,0.0,0.0,0.0,0.0,0.0,0.0,0.0,0.0,0.0,0.0,0.0,0.0,0.0,0.0,2.0,0.0,0.0,4.0,6.0,1.0,2.0,2.0,1.0,2.0,2.0,1.0,0.0],\"type\":\"scatter\"},{\"mode\":\"lines\",\"name\":\"21C (Epsilon)\",\"x\":[\"27 abr. 2020\",\"11 may. 2020\",\"25 may. 2020\",\"08 jun. 2020\",\"22 jun. 2020\",\"06 jul. 2020\",\"20 jul. 2020\",\"03 ago. 2020\",\"17 ago. 2020\",\"31 ago. 2020\",\"14 sep. 2020\",\"28 sep. 2020\",\"12 oct. 2020\",\"26 oct. 2020\",\"09 nov. 2020\",\"23 nov. 2020\",\"07 dic. 2020\",\"21 dic. 2020\",\"28 dic. 2020\",\"11 ene. 2021\",\"25 ene. 2021\",\"08 feb. 2021\",\"22 feb. 2021\",\"08 mar. 2021\",\"22 mar. 2021\",\"05 abr. 2021\",\"19 abr. 2021\",\"03 may. 2021\",\"17 may. 2021\",\"31 may. 2021\",\"14 jun. 2021\",\"28 jun. 2021\",\"12 jul. 2021\",\"26 jul. 2021\",\"09 ago. 2021\",\"23 ago. 2021\",\"06 sep. 2021\",\"20 sep. 2021\",\"04 oct. 2021\",\"18 oct. 2021\",\"01 nov. 2021\",\"15 nov. 2021\",\"29 nov. 2021\",\"13 dic. 2021\"],\"y\":[0.0,0.0,0.0,0.0,0.0,0.0,0.0,0.0,0.0,0.0,0.0,0.0,0.0,0.0,0.0,0.0,0.0,1.0,0.0,1.0,1.0,5.0,2.0,4.0,4.0,2.0,3.0,2.0,5.0,2.0,1.0,2.0,0.0,2.0,0.0,0.0,0.0,0.0,0.0,0.0,0.0,0.0,0.0,0.0],\"type\":\"scatter\"},{\"mode\":\"lines\",\"name\":\"21F (Iota)\",\"x\":[\"27 abr. 2020\",\"11 may. 2020\",\"25 may. 2020\",\"08 jun. 2020\",\"22 jun. 2020\",\"06 jul. 2020\",\"20 jul. 2020\",\"03 ago. 2020\",\"17 ago. 2020\",\"31 ago. 2020\",\"14 sep. 2020\",\"28 sep. 2020\",\"12 oct. 2020\",\"26 oct. 2020\",\"09 nov. 2020\",\"23 nov. 2020\",\"07 dic. 2020\",\"21 dic. 2020\",\"28 dic. 2020\",\"11 ene. 2021\",\"25 ene. 2021\",\"08 feb. 2021\",\"22 feb. 2021\",\"08 mar. 2021\",\"22 mar. 2021\",\"05 abr. 2021\",\"19 abr. 2021\",\"03 may. 2021\",\"17 may. 2021\",\"31 may. 2021\",\"14 jun. 2021\",\"28 jun. 2021\",\"12 jul. 2021\",\"26 jul. 2021\",\"09 ago. 2021\",\"23 ago. 2021\",\"06 sep. 2021\",\"20 sep. 2021\",\"04 oct. 2021\",\"18 oct. 2021\",\"01 nov. 2021\",\"15 nov. 2021\",\"29 nov. 2021\",\"13 dic. 2021\"],\"y\":[0.0,0.0,0.0,0.0,0.0,0.0,0.0,0.0,0.0,0.0,0.0,0.0,0.0,0.0,0.0,0.0,0.0,0.0,0.0,0.0,0.0,1.0,0.0,0.0,1.0,3.0,1.0,0.0,0.0,0.0,0.0,0.0,0.0,0.0,0.0,0.0,0.0,0.0,0.0,0.0,0.0,0.0,0.0,0.0],\"type\":\"scatter\"},{\"mode\":\"lines\",\"name\":\"21G (Lambda)\",\"x\":[\"27 abr. 2020\",\"11 may. 2020\",\"25 may. 2020\",\"08 jun. 2020\",\"22 jun. 2020\",\"06 jul. 2020\",\"20 jul. 2020\",\"03 ago. 2020\",\"17 ago. 2020\",\"31 ago. 2020\",\"14 sep. 2020\",\"28 sep. 2020\",\"12 oct. 2020\",\"26 oct. 2020\",\"09 nov. 2020\",\"23 nov. 2020\",\"07 dic. 2020\",\"21 dic. 2020\",\"28 dic. 2020\",\"11 ene. 2021\",\"25 ene. 2021\",\"08 feb. 2021\",\"22 feb. 2021\",\"08 mar. 2021\",\"22 mar. 2021\",\"05 abr. 2021\",\"19 abr. 2021\",\"03 may. 2021\",\"17 may. 2021\",\"31 may. 2021\",\"14 jun. 2021\",\"28 jun. 2021\",\"12 jul. 2021\",\"26 jul. 2021\",\"09 ago. 2021\",\"23 ago. 2021\",\"06 sep. 2021\",\"20 sep. 2021\",\"04 oct. 2021\",\"18 oct. 2021\",\"01 nov. 2021\",\"15 nov. 2021\",\"29 nov. 2021\",\"13 dic. 2021\"],\"y\":[0.0,0.0,0.0,0.0,0.0,0.0,0.0,0.0,0.0,0.0,0.0,0.0,0.0,0.0,0.0,0.0,0.0,0.0,0.0,2.0,2.0,7.0,13.0,39.0,94.0,142.0,166.0,229.0,125.0,154.0,159.0,171.0,121.0,139.0,126.0,48.0,20.0,7.0,6.0,0.0,3.0,0.0,1.0,1.0],\"type\":\"scatter\"},{\"mode\":\"lines\",\"name\":\"21H (Mu)\",\"x\":[\"27 abr. 2020\",\"11 may. 2020\",\"25 may. 2020\",\"08 jun. 2020\",\"22 jun. 2020\",\"06 jul. 2020\",\"20 jul. 2020\",\"03 ago. 2020\",\"17 ago. 2020\",\"31 ago. 2020\",\"14 sep. 2020\",\"28 sep. 2020\",\"12 oct. 2020\",\"26 oct. 2020\",\"09 nov. 2020\",\"23 nov. 2020\",\"07 dic. 2020\",\"21 dic. 2020\",\"28 dic. 2020\",\"11 ene. 2021\",\"25 ene. 2021\",\"08 feb. 2021\",\"22 feb. 2021\",\"08 mar. 2021\",\"22 mar. 2021\",\"05 abr. 2021\",\"19 abr. 2021\",\"03 may. 2021\",\"17 may. 2021\",\"31 may. 2021\",\"14 jun. 2021\",\"28 jun. 2021\",\"12 jul. 2021\",\"26 jul. 2021\",\"09 ago. 2021\",\"23 ago. 2021\",\"06 sep. 2021\",\"20 sep. 2021\",\"04 oct. 2021\",\"18 oct. 2021\",\"01 nov. 2021\",\"15 nov. 2021\",\"29 nov. 2021\",\"13 dic. 2021\"],\"y\":[0.0,0.0,0.0,0.0,0.0,0.0,0.0,0.0,0.0,0.0,0.0,0.0,0.0,0.0,0.0,0.0,0.0,0.0,0.0,0.0,0.0,0.0,0.0,0.0,0.0,0.0,1.0,0.0,3.0,2.0,2.0,25.0,11.0,68.0,140.0,282.0,191.0,155.0,52.0,14.0,14.0,0.0,0.0,1.0],\"type\":\"scatter\"},{\"mode\":\"lines\",\"name\":\"21I (Delta)\",\"x\":[\"27 abr. 2020\",\"11 may. 2020\",\"25 may. 2020\",\"08 jun. 2020\",\"22 jun. 2020\",\"06 jul. 2020\",\"20 jul. 2020\",\"03 ago. 2020\",\"17 ago. 2020\",\"31 ago. 2020\",\"14 sep. 2020\",\"28 sep. 2020\",\"12 oct. 2020\",\"26 oct. 2020\",\"09 nov. 2020\",\"23 nov. 2020\",\"07 dic. 2020\",\"21 dic. 2020\",\"28 dic. 2020\",\"11 ene. 2021\",\"25 ene. 2021\",\"08 feb. 2021\",\"22 feb. 2021\",\"08 mar. 2021\",\"22 mar. 2021\",\"05 abr. 2021\",\"19 abr. 2021\",\"03 may. 2021\",\"17 may. 2021\",\"31 may. 2021\",\"14 jun. 2021\",\"28 jun. 2021\",\"12 jul. 2021\",\"26 jul. 2021\",\"09 ago. 2021\",\"23 ago. 2021\",\"06 sep. 2021\",\"20 sep. 2021\",\"04 oct. 2021\",\"18 oct. 2021\",\"01 nov. 2021\",\"15 nov. 2021\",\"29 nov. 2021\",\"13 dic. 2021\"],\"y\":[0.0,0.0,0.0,0.0,0.0,0.0,0.0,0.0,0.0,0.0,0.0,0.0,0.0,0.0,0.0,0.0,0.0,0.0,0.0,0.0,0.0,0.0,0.0,0.0,0.0,0.0,0.0,0.0,0.0,1.0,0.0,0.0,5.0,6.0,32.0,20.0,11.0,22.0,8.0,8.0,3.0,1.0,0.0,4.0],\"type\":\"scatter\"},{\"mode\":\"lines\",\"name\":\"21J (Delta)\",\"x\":[\"27 abr. 2020\",\"11 may. 2020\",\"25 may. 2020\",\"08 jun. 2020\",\"22 jun. 2020\",\"06 jul. 2020\",\"20 jul. 2020\",\"03 ago. 2020\",\"17 ago. 2020\",\"31 ago. 2020\",\"14 sep. 2020\",\"28 sep. 2020\",\"12 oct. 2020\",\"26 oct. 2020\",\"09 nov. 2020\",\"23 nov. 2020\",\"07 dic. 2020\",\"21 dic. 2020\",\"28 dic. 2020\",\"11 ene. 2021\",\"25 ene. 2021\",\"08 feb. 2021\",\"22 feb. 2021\",\"08 mar. 2021\",\"22 mar. 2021\",\"05 abr. 2021\",\"19 abr. 2021\",\"03 may. 2021\",\"17 may. 2021\",\"31 may. 2021\",\"14 jun. 2021\",\"28 jun. 2021\",\"12 jul. 2021\",\"26 jul. 2021\",\"09 ago. 2021\",\"23 ago. 2021\",\"06 sep. 2021\",\"20 sep. 2021\",\"04 oct. 2021\",\"18 oct. 2021\",\"01 nov. 2021\",\"15 nov. 2021\",\"29 nov. 2021\",\"13 dic. 2021\"],\"y\":[0.0,0.0,0.0,0.0,0.0,0.0,0.0,0.0,0.0,0.0,0.0,0.0,0.0,0.0,0.0,0.0,0.0,1.0,0.0,0.0,0.0,0.0,0.0,0.0,0.0,0.0,0.0,0.0,0.0,0.0,2.0,16.0,31.0,70.0,139.0,378.0,843.0,1638.0,1281.0,1264.0,977.0,563.0,417.0,237.0],\"type\":\"scatter\"},{\"mode\":\"lines\",\"name\":\"21K (Omicron)\",\"x\":[\"27 abr. 2020\",\"11 may. 2020\",\"25 may. 2020\",\"08 jun. 2020\",\"22 jun. 2020\",\"06 jul. 2020\",\"20 jul. 2020\",\"03 ago. 2020\",\"17 ago. 2020\",\"31 ago. 2020\",\"14 sep. 2020\",\"28 sep. 2020\",\"12 oct. 2020\",\"26 oct. 2020\",\"09 nov. 2020\",\"23 nov. 2020\",\"07 dic. 2020\",\"21 dic. 2020\",\"28 dic. 2020\",\"11 ene. 2021\",\"25 ene. 2021\",\"08 feb. 2021\",\"22 feb. 2021\",\"08 mar. 2021\",\"22 mar. 2021\",\"05 abr. 2021\",\"19 abr. 2021\",\"03 may. 2021\",\"17 may. 2021\",\"31 may. 2021\",\"14 jun. 2021\",\"28 jun. 2021\",\"12 jul. 2021\",\"26 jul. 2021\",\"09 ago. 2021\",\"23 ago. 2021\",\"06 sep. 2021\",\"20 sep. 2021\",\"04 oct. 2021\",\"18 oct. 2021\",\"01 nov. 2021\",\"15 nov. 2021\",\"29 nov. 2021\",\"13 dic. 2021\"],\"y\":[0.0,0.0,0.0,0.0,0.0,0.0,0.0,0.0,0.0,0.0,0.0,0.0,0.0,0.0,0.0,0.0,0.0,0.0,0.0,0.0,0.0,0.0,0.0,0.0,0.0,0.0,0.0,0.0,0.0,0.0,0.0,0.0,0.0,0.0,0.0,0.0,0.0,0.0,0.0,0.0,0.0,1.0,40.0,260.0],\"type\":\"scatter\"},{\"mode\":\"lines\",\"name\":\"S:677P.Pelican\",\"x\":[\"27 abr. 2020\",\"11 may. 2020\",\"25 may. 2020\",\"08 jun. 2020\",\"22 jun. 2020\",\"06 jul. 2020\",\"20 jul. 2020\",\"03 ago. 2020\",\"17 ago. 2020\",\"31 ago. 2020\",\"14 sep. 2020\",\"28 sep. 2020\",\"12 oct. 2020\",\"26 oct. 2020\",\"09 nov. 2020\",\"23 nov. 2020\",\"07 dic. 2020\",\"21 dic. 2020\",\"28 dic. 2020\",\"11 ene. 2021\",\"25 ene. 2021\",\"08 feb. 2021\",\"22 feb. 2021\",\"08 mar. 2021\",\"22 mar. 2021\",\"05 abr. 2021\",\"19 abr. 2021\",\"03 may. 2021\",\"17 may. 2021\",\"31 may. 2021\",\"14 jun. 2021\",\"28 jun. 2021\",\"12 jul. 2021\",\"26 jul. 2021\",\"09 ago. 2021\",\"23 ago. 2021\",\"06 sep. 2021\",\"20 sep. 2021\",\"04 oct. 2021\",\"18 oct. 2021\",\"01 nov. 2021\",\"15 nov. 2021\",\"29 nov. 2021\",\"13 dic. 2021\"],\"y\":[0.0,0.0,0.0,0.0,0.0,0.0,0.0,0.0,0.0,0.0,0.0,0.0,0.0,0.0,0.0,0.0,0.0,0.0,0.0,0.0,0.0,0.0,1.0,0.0,0.0,0.0,0.0,0.0,0.0,0.0,0.0,0.0,0.0,0.0,0.0,0.0,0.0,0.0,0.0,0.0,0.0,0.0,0.0,0.0],\"type\":\"scatter\"}],                        {\"template\":{\"data\":{\"bar\":[{\"error_x\":{\"color\":\"#2a3f5f\"},\"error_y\":{\"color\":\"#2a3f5f\"},\"marker\":{\"line\":{\"color\":\"#E5ECF6\",\"width\":0.5},\"pattern\":{\"fillmode\":\"overlay\",\"size\":10,\"solidity\":0.2}},\"type\":\"bar\"}],\"barpolar\":[{\"marker\":{\"line\":{\"color\":\"#E5ECF6\",\"width\":0.5},\"pattern\":{\"fillmode\":\"overlay\",\"size\":10,\"solidity\":0.2}},\"type\":\"barpolar\"}],\"carpet\":[{\"aaxis\":{\"endlinecolor\":\"#2a3f5f\",\"gridcolor\":\"white\",\"linecolor\":\"white\",\"minorgridcolor\":\"white\",\"startlinecolor\":\"#2a3f5f\"},\"baxis\":{\"endlinecolor\":\"#2a3f5f\",\"gridcolor\":\"white\",\"linecolor\":\"white\",\"minorgridcolor\":\"white\",\"startlinecolor\":\"#2a3f5f\"},\"type\":\"carpet\"}],\"choropleth\":[{\"colorbar\":{\"outlinewidth\":0,\"ticks\":\"\"},\"type\":\"choropleth\"}],\"contour\":[{\"colorbar\":{\"outlinewidth\":0,\"ticks\":\"\"},\"colorscale\":[[0.0,\"#0d0887\"],[0.1111111111111111,\"#46039f\"],[0.2222222222222222,\"#7201a8\"],[0.3333333333333333,\"#9c179e\"],[0.4444444444444444,\"#bd3786\"],[0.5555555555555556,\"#d8576b\"],[0.6666666666666666,\"#ed7953\"],[0.7777777777777778,\"#fb9f3a\"],[0.8888888888888888,\"#fdca26\"],[1.0,\"#f0f921\"]],\"type\":\"contour\"}],\"contourcarpet\":[{\"colorbar\":{\"outlinewidth\":0,\"ticks\":\"\"},\"type\":\"contourcarpet\"}],\"heatmap\":[{\"colorbar\":{\"outlinewidth\":0,\"ticks\":\"\"},\"colorscale\":[[0.0,\"#0d0887\"],[0.1111111111111111,\"#46039f\"],[0.2222222222222222,\"#7201a8\"],[0.3333333333333333,\"#9c179e\"],[0.4444444444444444,\"#bd3786\"],[0.5555555555555556,\"#d8576b\"],[0.6666666666666666,\"#ed7953\"],[0.7777777777777778,\"#fb9f3a\"],[0.8888888888888888,\"#fdca26\"],[1.0,\"#f0f921\"]],\"type\":\"heatmap\"}],\"heatmapgl\":[{\"colorbar\":{\"outlinewidth\":0,\"ticks\":\"\"},\"colorscale\":[[0.0,\"#0d0887\"],[0.1111111111111111,\"#46039f\"],[0.2222222222222222,\"#7201a8\"],[0.3333333333333333,\"#9c179e\"],[0.4444444444444444,\"#bd3786\"],[0.5555555555555556,\"#d8576b\"],[0.6666666666666666,\"#ed7953\"],[0.7777777777777778,\"#fb9f3a\"],[0.8888888888888888,\"#fdca26\"],[1.0,\"#f0f921\"]],\"type\":\"heatmapgl\"}],\"histogram\":[{\"marker\":{\"pattern\":{\"fillmode\":\"overlay\",\"size\":10,\"solidity\":0.2}},\"type\":\"histogram\"}],\"histogram2d\":[{\"colorbar\":{\"outlinewidth\":0,\"ticks\":\"\"},\"colorscale\":[[0.0,\"#0d0887\"],[0.1111111111111111,\"#46039f\"],[0.2222222222222222,\"#7201a8\"],[0.3333333333333333,\"#9c179e\"],[0.4444444444444444,\"#bd3786\"],[0.5555555555555556,\"#d8576b\"],[0.6666666666666666,\"#ed7953\"],[0.7777777777777778,\"#fb9f3a\"],[0.8888888888888888,\"#fdca26\"],[1.0,\"#f0f921\"]],\"type\":\"histogram2d\"}],\"histogram2dcontour\":[{\"colorbar\":{\"outlinewidth\":0,\"ticks\":\"\"},\"colorscale\":[[0.0,\"#0d0887\"],[0.1111111111111111,\"#46039f\"],[0.2222222222222222,\"#7201a8\"],[0.3333333333333333,\"#9c179e\"],[0.4444444444444444,\"#bd3786\"],[0.5555555555555556,\"#d8576b\"],[0.6666666666666666,\"#ed7953\"],[0.7777777777777778,\"#fb9f3a\"],[0.8888888888888888,\"#fdca26\"],[1.0,\"#f0f921\"]],\"type\":\"histogram2dcontour\"}],\"mesh3d\":[{\"colorbar\":{\"outlinewidth\":0,\"ticks\":\"\"},\"type\":\"mesh3d\"}],\"parcoords\":[{\"line\":{\"colorbar\":{\"outlinewidth\":0,\"ticks\":\"\"}},\"type\":\"parcoords\"}],\"pie\":[{\"automargin\":true,\"type\":\"pie\"}],\"scatter\":[{\"marker\":{\"colorbar\":{\"outlinewidth\":0,\"ticks\":\"\"}},\"type\":\"scatter\"}],\"scatter3d\":[{\"line\":{\"colorbar\":{\"outlinewidth\":0,\"ticks\":\"\"}},\"marker\":{\"colorbar\":{\"outlinewidth\":0,\"ticks\":\"\"}},\"type\":\"scatter3d\"}],\"scattercarpet\":[{\"marker\":{\"colorbar\":{\"outlinewidth\":0,\"ticks\":\"\"}},\"type\":\"scattercarpet\"}],\"scattergeo\":[{\"marker\":{\"colorbar\":{\"outlinewidth\":0,\"ticks\":\"\"}},\"type\":\"scattergeo\"}],\"scattergl\":[{\"marker\":{\"colorbar\":{\"outlinewidth\":0,\"ticks\":\"\"}},\"type\":\"scattergl\"}],\"scattermapbox\":[{\"marker\":{\"colorbar\":{\"outlinewidth\":0,\"ticks\":\"\"}},\"type\":\"scattermapbox\"}],\"scatterpolar\":[{\"marker\":{\"colorbar\":{\"outlinewidth\":0,\"ticks\":\"\"}},\"type\":\"scatterpolar\"}],\"scatterpolargl\":[{\"marker\":{\"colorbar\":{\"outlinewidth\":0,\"ticks\":\"\"}},\"type\":\"scatterpolargl\"}],\"scatterternary\":[{\"marker\":{\"colorbar\":{\"outlinewidth\":0,\"ticks\":\"\"}},\"type\":\"scatterternary\"}],\"surface\":[{\"colorbar\":{\"outlinewidth\":0,\"ticks\":\"\"},\"colorscale\":[[0.0,\"#0d0887\"],[0.1111111111111111,\"#46039f\"],[0.2222222222222222,\"#7201a8\"],[0.3333333333333333,\"#9c179e\"],[0.4444444444444444,\"#bd3786\"],[0.5555555555555556,\"#d8576b\"],[0.6666666666666666,\"#ed7953\"],[0.7777777777777778,\"#fb9f3a\"],[0.8888888888888888,\"#fdca26\"],[1.0,\"#f0f921\"]],\"type\":\"surface\"}],\"table\":[{\"cells\":{\"fill\":{\"color\":\"#EBF0F8\"},\"line\":{\"color\":\"white\"}},\"header\":{\"fill\":{\"color\":\"#C8D4E3\"},\"line\":{\"color\":\"white\"}},\"type\":\"table\"}]},\"layout\":{\"annotationdefaults\":{\"arrowcolor\":\"#2a3f5f\",\"arrowhead\":0,\"arrowwidth\":1},\"autotypenumbers\":\"strict\",\"coloraxis\":{\"colorbar\":{\"outlinewidth\":0,\"ticks\":\"\"}},\"colorscale\":{\"diverging\":[[0,\"#8e0152\"],[0.1,\"#c51b7d\"],[0.2,\"#de77ae\"],[0.3,\"#f1b6da\"],[0.4,\"#fde0ef\"],[0.5,\"#f7f7f7\"],[0.6,\"#e6f5d0\"],[0.7,\"#b8e186\"],[0.8,\"#7fbc41\"],[0.9,\"#4d9221\"],[1,\"#276419\"]],\"sequential\":[[0.0,\"#0d0887\"],[0.1111111111111111,\"#46039f\"],[0.2222222222222222,\"#7201a8\"],[0.3333333333333333,\"#9c179e\"],[0.4444444444444444,\"#bd3786\"],[0.5555555555555556,\"#d8576b\"],[0.6666666666666666,\"#ed7953\"],[0.7777777777777778,\"#fb9f3a\"],[0.8888888888888888,\"#fdca26\"],[1.0,\"#f0f921\"]],\"sequentialminus\":[[0.0,\"#0d0887\"],[0.1111111111111111,\"#46039f\"],[0.2222222222222222,\"#7201a8\"],[0.3333333333333333,\"#9c179e\"],[0.4444444444444444,\"#bd3786\"],[0.5555555555555556,\"#d8576b\"],[0.6666666666666666,\"#ed7953\"],[0.7777777777777778,\"#fb9f3a\"],[0.8888888888888888,\"#fdca26\"],[1.0,\"#f0f921\"]]},\"colorway\":[\"#636efa\",\"#EF553B\",\"#00cc96\",\"#ab63fa\",\"#FFA15A\",\"#19d3f3\",\"#FF6692\",\"#B6E880\",\"#FF97FF\",\"#FECB52\"],\"font\":{\"color\":\"#2a3f5f\"},\"geo\":{\"bgcolor\":\"white\",\"lakecolor\":\"white\",\"landcolor\":\"#E5ECF6\",\"showlakes\":true,\"showland\":true,\"subunitcolor\":\"white\"},\"hoverlabel\":{\"align\":\"left\"},\"hovermode\":\"closest\",\"mapbox\":{\"style\":\"light\"},\"paper_bgcolor\":\"white\",\"plot_bgcolor\":\"#E5ECF6\",\"polar\":{\"angularaxis\":{\"gridcolor\":\"white\",\"linecolor\":\"white\",\"ticks\":\"\"},\"bgcolor\":\"#E5ECF6\",\"radialaxis\":{\"gridcolor\":\"white\",\"linecolor\":\"white\",\"ticks\":\"\"}},\"scene\":{\"xaxis\":{\"backgroundcolor\":\"#E5ECF6\",\"gridcolor\":\"white\",\"gridwidth\":2,\"linecolor\":\"white\",\"showbackground\":true,\"ticks\":\"\",\"zerolinecolor\":\"white\"},\"yaxis\":{\"backgroundcolor\":\"#E5ECF6\",\"gridcolor\":\"white\",\"gridwidth\":2,\"linecolor\":\"white\",\"showbackground\":true,\"ticks\":\"\",\"zerolinecolor\":\"white\"},\"zaxis\":{\"backgroundcolor\":\"#E5ECF6\",\"gridcolor\":\"white\",\"gridwidth\":2,\"linecolor\":\"white\",\"showbackground\":true,\"ticks\":\"\",\"zerolinecolor\":\"white\"}},\"shapedefaults\":{\"line\":{\"color\":\"#2a3f5f\"}},\"ternary\":{\"aaxis\":{\"gridcolor\":\"white\",\"linecolor\":\"white\",\"ticks\":\"\"},\"baxis\":{\"gridcolor\":\"white\",\"linecolor\":\"white\",\"ticks\":\"\"},\"bgcolor\":\"#E5ECF6\",\"caxis\":{\"gridcolor\":\"white\",\"linecolor\":\"white\",\"ticks\":\"\"}},\"title\":{\"x\":0.05},\"xaxis\":{\"automargin\":true,\"gridcolor\":\"white\",\"linecolor\":\"white\",\"ticks\":\"\",\"title\":{\"standoff\":15},\"zerolinecolor\":\"white\",\"zerolinewidth\":2},\"yaxis\":{\"automargin\":true,\"gridcolor\":\"white\",\"linecolor\":\"white\",\"ticks\":\"\",\"title\":{\"standoff\":15},\"zerolinecolor\":\"white\",\"zerolinewidth\":2}}},\"xaxis\":{\"tickfont\":{\"family\":\"Arial\",\"size\":12,\"color\":\"rgb(82, 82, 82)\"},\"showline\":true,\"showgrid\":true,\"showticklabels\":true,\"linecolor\":\"rgb(204, 204, 204)\",\"linewidth\":2,\"ticks\":\"outside\",\"tickangle\":20,\"nticks\":15},\"yaxis\":{\"showgrid\":true,\"zeroline\":true,\"showline\":true,\"showticklabels\":true},\"title\":{\"text\":\"Variantes de Coronavirus en Chile\"},\"plot_bgcolor\":\"white\"},                        {\"responsive\": true}                    ).then(function(){\n",
       "                            \n",
       "var gd = document.getElementById('f8163eed-9475-4c6f-80ee-670e71b77b77');\n",
       "var x = new MutationObserver(function (mutations, observer) {{\n",
       "        var display = window.getComputedStyle(gd).display;\n",
       "        if (!display || display === 'none') {{\n",
       "            console.log([gd, 'removed!']);\n",
       "            Plotly.purge(gd);\n",
       "            observer.disconnect();\n",
       "        }}\n",
       "}});\n",
       "\n",
       "// Listen for the removal of the full notebook cells\n",
       "var notebookContainer = gd.closest('#notebook-container');\n",
       "if (notebookContainer) {{\n",
       "    x.observe(notebookContainer, {childList: true});\n",
       "}}\n",
       "\n",
       "// Listen for the clearing of the current output cell\n",
       "var outputEl = gd.closest('.output');\n",
       "if (outputEl) {{\n",
       "    x.observe(outputEl, {childList: true});\n",
       "}}\n",
       "\n",
       "                        })                };                });            </script>        </div>"
      ]
     },
     "metadata": {},
     "output_type": "display_data"
    }
   ],
   "source": [
    "# Objeto figura\n",
    "fig = go.Figure()\n",
    "# Graficamos por cada una de las variantes\n",
    "for variante in variants_nested_cl.loc[:, '20B/S:732A':]:\n",
    "    fig.add_trace(go.Scatter(x=variants_nested_cl.index.strftime('%d %b %Y'), y=variants_nested_cl[variante],\n",
    "                    mode='lines',\n",
    "                    name=variante))\n",
    "# Customizando gráfica\n",
    "fig.update_layout(title='Variantes de Coronavirus en Chile',\n",
    "    xaxis=dict(\n",
    "        showline=True,\n",
    "        showgrid=True,\n",
    "        showticklabels=True,\n",
    "        linecolor='rgb(204, 204, 204)',\n",
    "        linewidth=2,\n",
    "        ticks='outside',\n",
    "        tickfont=dict(\n",
    "            family='Arial',\n",
    "            size=12,\n",
    "            color='rgb(82, 82, 82)',\n",
    "        ),\n",
    "    ),\n",
    "    yaxis=dict(\n",
    "        showgrid=True,\n",
    "        zeroline=True,\n",
    "        showline=True,\n",
    "        showticklabels=True,\n",
    "    ),\n",
    "    plot_bgcolor='white'\n",
    ")\n",
    "# Customizando ejes\n",
    "fig.update_xaxes(\n",
    "        tickangle = 20,\n",
    "nticks=15)"
   ]
  }
 ],
 "metadata": {
  "kernelspec": {
   "display_name": "Python 3 (ipykernel)",
   "language": "python",
   "name": "python3"
  },
  "language_info": {
   "codemirror_mode": {
    "name": "ipython",
    "version": 3
   },
   "file_extension": ".py",
   "mimetype": "text/x-python",
   "name": "python",
   "nbconvert_exporter": "python",
   "pygments_lexer": "ipython3",
   "version": "3.9.7"
  }
 },
 "nbformat": 4,
 "nbformat_minor": 5
}
