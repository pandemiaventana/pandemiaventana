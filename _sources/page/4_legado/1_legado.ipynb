{
 "cells": [
  {
   "cell_type": "markdown",
   "id": "10f27e06",
   "metadata": {},
   "source": [
    "# Lo nuevo\n",
    "\n",
    "De forma rápida, los datos procesados."
   ]
  },
  {
   "cell_type": "code",
   "execution_count": 1,
   "id": "f6312028",
   "metadata": {},
   "outputs": [],
   "source": [
    "### Los paquetes amigos\n",
    "import os, os.path\n",
    "from IPython.display import Markdown, HTML, Javascript\n",
    "import pandas as pd\n",
    "import session_info\n",
    "from bs4 import BeautifulSoup"
   ]
  },
  {
   "cell_type": "markdown",
   "id": "e8c3b5c7",
   "metadata": {},
   "source": [
    "## Archivos CSV"
   ]
  },
  {
   "cell_type": "code",
   "execution_count": 2,
   "id": "1e6f1ab9",
   "metadata": {},
   "outputs": [
    {
     "data": {
      "text/markdown": [
       "Encontré los **siguientes archivos CSV**:"
      ],
      "text/plain": [
       "<IPython.core.display.Markdown object>"
      ]
     },
     "metadata": {},
     "output_type": "display_data"
    },
    {
     "data": {
      "text/markdown": [
       "<h3><a href=\"https://raw.githubusercontent.com/pandemiaventana/pandemiaventana/main/out/site/csv/data1.csv\">\"data1.csv\"</a></h3>"
      ],
      "text/plain": [
       "<IPython.core.display.Markdown object>"
      ]
     },
     "metadata": {},
     "output_type": "display_data"
    },
    {
     "data": {
      "text/markdown": [
       "Tiene las siguientes columnas (**3** sin el índice):"
      ],
      "text/plain": [
       "<IPython.core.display.Markdown object>"
      ]
     },
     "metadata": {},
     "output_type": "display_data"
    },
    {
     "name": "stdout",
     "output_type": "stream",
     "text": [
      "<class 'pandas.core.frame.DataFrame'>\n",
      "RangeIndex: 7 entries, 0 to 6\n",
      "Data columns (total 4 columns):\n",
      " #   Column                                 Non-Null Count  Dtype  \n",
      "---  ------                                 --------------  -----  \n",
      " 0   Fecha                                  7 non-null      object \n",
      " 1   Casos nuevos últimos siete días        7 non-null      float64\n",
      " 2   Recuperados nuevos últimos siete días  7 non-null      float64\n",
      " 3   Fallecidos nuevos últimos siete días   7 non-null      float64\n",
      "dtypes: float64(3), object(1)\n",
      "memory usage: 765.0 bytes\n"
     ]
    },
    {
     "data": {
      "text/markdown": [
       "<hr>"
      ],
      "text/plain": [
       "<IPython.core.display.Markdown object>"
      ]
     },
     "metadata": {},
     "output_type": "display_data"
    },
    {
     "data": {
      "text/markdown": [
       "<h3><a href=\"https://raw.githubusercontent.com/pandemiaventana/pandemiaventana/main/out/site/csv/data10.csv\">\"data10.csv\"</a></h3>"
      ],
      "text/plain": [
       "<IPython.core.display.Markdown object>"
      ]
     },
     "metadata": {},
     "output_type": "display_data"
    },
    {
     "data": {
      "text/markdown": [
       "Tiene las siguientes columnas (**8** sin el índice):"
      ],
      "text/plain": [
       "<IPython.core.display.Markdown object>"
      ]
     },
     "metadata": {},
     "output_type": "display_data"
    },
    {
     "name": "stdout",
     "output_type": "stream",
     "text": [
      "<class 'pandas.core.frame.DataFrame'>\n",
      "RangeIndex: 479 entries, 0 to 478\n",
      "Data columns (total 9 columns):\n",
      " #   Column                                  Non-Null Count  Dtype  \n",
      "---  ------                                  --------------  -----  \n",
      " 0   Fecha                                   479 non-null    object \n",
      " 1   Casos acumulados en Alto Hospicio       131 non-null    float64\n",
      " 2   Casos acumulados en Camiña              131 non-null    float64\n",
      " 3   Casos acumulados en Colchane            131 non-null    float64\n",
      " 4   Casos acumulados en Huara               131 non-null    float64\n",
      " 5   Casos acumulados en Iquique             131 non-null    float64\n",
      " 6   Casos acumulados en Pica                131 non-null    float64\n",
      " 7   Casos acumulados en Pozo Almonte        131 non-null    float64\n",
      " 8   Casos acumulados en Comuna desconocida  105 non-null    float64\n",
      "dtypes: float64(8), object(1)\n",
      "memory usage: 61.4 KB\n"
     ]
    },
    {
     "data": {
      "text/markdown": [
       "<hr>"
      ],
      "text/plain": [
       "<IPython.core.display.Markdown object>"
      ]
     },
     "metadata": {},
     "output_type": "display_data"
    },
    {
     "data": {
      "text/markdown": [
       "<h3><a href=\"https://raw.githubusercontent.com/pandemiaventana/pandemiaventana/main/out/site/csv/data11.csv\">\"data11.csv\"</a></h3>"
      ],
      "text/plain": [
       "<IPython.core.display.Markdown object>"
      ]
     },
     "metadata": {},
     "output_type": "display_data"
    },
    {
     "data": {
      "text/markdown": [
       "Tiene las siguientes columnas (**7** sin el índice):"
      ],
      "text/plain": [
       "<IPython.core.display.Markdown object>"
      ]
     },
     "metadata": {},
     "output_type": "display_data"
    },
    {
     "name": "stdout",
     "output_type": "stream",
     "text": [
      "<class 'pandas.core.frame.DataFrame'>\n",
      "RangeIndex: 479 entries, 0 to 478\n",
      "Data columns (total 8 columns):\n",
      " #   Column                     Non-Null Count  Dtype  \n",
      "---  ------                     --------------  -----  \n",
      " 0   Fecha                      479 non-null    object \n",
      " 1   Positividad Alto Hospicio  302 non-null    float64\n",
      " 2   Positividad Camiña         302 non-null    float64\n",
      " 3   Positividad Colchane       302 non-null    float64\n",
      " 4   Positividad Huara          302 non-null    float64\n",
      " 5   Positividad Iquique        302 non-null    float64\n",
      " 6   Positividad Pica           302 non-null    float64\n",
      " 7   Positividad Pozo Almonte   302 non-null    float64\n",
      "dtypes: float64(7), object(1)\n",
      "memory usage: 57.7 KB\n"
     ]
    },
    {
     "data": {
      "text/markdown": [
       "<hr>"
      ],
      "text/plain": [
       "<IPython.core.display.Markdown object>"
      ]
     },
     "metadata": {},
     "output_type": "display_data"
    },
    {
     "data": {
      "text/markdown": [
       "<h3><a href=\"https://raw.githubusercontent.com/pandemiaventana/pandemiaventana/main/out/site/csv/data12.csv\">\"data12.csv\"</a></h3>"
      ],
      "text/plain": [
       "<IPython.core.display.Markdown object>"
      ]
     },
     "metadata": {},
     "output_type": "display_data"
    },
    {
     "data": {
      "text/markdown": [
       "Tiene las siguientes columnas (**8** sin el índice):"
      ],
      "text/plain": [
       "<IPython.core.display.Markdown object>"
      ]
     },
     "metadata": {},
     "output_type": "display_data"
    },
    {
     "name": "stdout",
     "output_type": "stream",
     "text": [
      "<class 'pandas.core.frame.DataFrame'>\n",
      "RangeIndex: 479 entries, 0 to 478\n",
      "Data columns (total 9 columns):\n",
      " #   Column                               Non-Null Count  Dtype  \n",
      "---  ------                               --------------  -----  \n",
      " 0   Fecha                                479 non-null    object \n",
      " 1   Casos activos en Alto Hospicio       125 non-null    float64\n",
      " 2   Casos activos en Camiña              125 non-null    float64\n",
      " 3   Casos activos en Colchane            125 non-null    float64\n",
      " 4   Casos activos en Huara               125 non-null    float64\n",
      " 5   Casos activos en Iquique             125 non-null    float64\n",
      " 6   Casos activos en Pica                125 non-null    float64\n",
      " 7   Casos activos en Pozo Almonte        125 non-null    float64\n",
      " 8   Casos activos en Comuna desconocida  105 non-null    float64\n",
      "dtypes: float64(8), object(1)\n",
      "memory usage: 61.4 KB\n"
     ]
    },
    {
     "data": {
      "text/markdown": [
       "<hr>"
      ],
      "text/plain": [
       "<IPython.core.display.Markdown object>"
      ]
     },
     "metadata": {},
     "output_type": "display_data"
    },
    {
     "data": {
      "text/markdown": [
       "<h3><a href=\"https://raw.githubusercontent.com/pandemiaventana/pandemiaventana/main/out/site/csv/data13.csv\">\"data13.csv\"</a></h3>"
      ],
      "text/plain": [
       "<IPython.core.display.Markdown object>"
      ]
     },
     "metadata": {},
     "output_type": "display_data"
    },
    {
     "data": {
      "text/markdown": [
       "Tiene las siguientes columnas (**9** sin el índice):"
      ],
      "text/plain": [
       "<IPython.core.display.Markdown object>"
      ]
     },
     "metadata": {},
     "output_type": "display_data"
    },
    {
     "name": "stdout",
     "output_type": "stream",
     "text": [
      "<class 'pandas.core.frame.DataFrame'>\n",
      "RangeIndex: 479 entries, 0 to 478\n",
      "Data columns (total 10 columns):\n",
      " #   Column                         Non-Null Count  Dtype  \n",
      "---  ------                         --------------  -----  \n",
      " 0   Fecha                          479 non-null    object \n",
      " 1   Fallecidos Alto Hospicio       375 non-null    float64\n",
      " 2   Fallecidos Camiña              375 non-null    float64\n",
      " 3   Fallecidos Colchane            375 non-null    float64\n",
      " 4   Fallecidos Huara               375 non-null    float64\n",
      " 5   Fallecidos Iquique             375 non-null    float64\n",
      " 6   Fallecidos Pica                375 non-null    float64\n",
      " 7   Fallecidos Pozo Almonte        375 non-null    float64\n",
      " 8   Fallecidos Comuna desconocida  368 non-null    float64\n",
      " 9   Fallecidos total comunal       375 non-null    float64\n",
      "dtypes: float64(9), object(1)\n",
      "memory usage: 65.1 KB\n"
     ]
    },
    {
     "data": {
      "text/markdown": [
       "<hr>"
      ],
      "text/plain": [
       "<IPython.core.display.Markdown object>"
      ]
     },
     "metadata": {},
     "output_type": "display_data"
    },
    {
     "data": {
      "text/markdown": [
       "<h3><a href=\"https://raw.githubusercontent.com/pandemiaventana/pandemiaventana/main/out/site/csv/data14.csv\">\"data14.csv\"</a></h3>"
      ],
      "text/plain": [
       "<IPython.core.display.Markdown object>"
      ]
     },
     "metadata": {},
     "output_type": "display_data"
    },
    {
     "data": {
      "text/markdown": [
       "Tiene las siguientes columnas (**7** sin el índice):"
      ],
      "text/plain": [
       "<IPython.core.display.Markdown object>"
      ]
     },
     "metadata": {},
     "output_type": "display_data"
    },
    {
     "name": "stdout",
     "output_type": "stream",
     "text": [
      "<class 'pandas.core.frame.DataFrame'>\n",
      "RangeIndex: 479 entries, 0 to 478\n",
      "Data columns (total 8 columns):\n",
      " #   Column                                     Non-Null Count  Dtype  \n",
      "---  ------                                     --------------  -----  \n",
      " 0   Fecha                                      479 non-null    object \n",
      " 1   Fallecidos confirmados DEIS Alto Hospicio  288 non-null    float64\n",
      " 2   Fallecidos confirmados DEIS Camiña         288 non-null    float64\n",
      " 3   Fallecidos confirmados DEIS Colchane       288 non-null    float64\n",
      " 4   Fallecidos confirmados DEIS Huara          288 non-null    float64\n",
      " 5   Fallecidos confirmados DEIS Iquique        288 non-null    float64\n",
      " 6   Fallecidos confirmados DEIS Pica           288 non-null    float64\n",
      " 7   Fallecidos confirmados DEIS Pozo Almonte   288 non-null    float64\n",
      "dtypes: float64(7), object(1)\n",
      "memory usage: 57.7 KB\n"
     ]
    },
    {
     "data": {
      "text/markdown": [
       "<hr>"
      ],
      "text/plain": [
       "<IPython.core.display.Markdown object>"
      ]
     },
     "metadata": {},
     "output_type": "display_data"
    },
    {
     "data": {
      "text/markdown": [
       "<h3><a href=\"https://raw.githubusercontent.com/pandemiaventana/pandemiaventana/main/out/site/csv/data15.csv\">\"data15.csv\"</a></h3>"
      ],
      "text/plain": [
       "<IPython.core.display.Markdown object>"
      ]
     },
     "metadata": {},
     "output_type": "display_data"
    },
    {
     "data": {
      "text/markdown": [
       "Tiene las siguientes columnas (**7** sin el índice):"
      ],
      "text/plain": [
       "<IPython.core.display.Markdown object>"
      ]
     },
     "metadata": {},
     "output_type": "display_data"
    },
    {
     "name": "stdout",
     "output_type": "stream",
     "text": [
      "<class 'pandas.core.frame.DataFrame'>\n",
      "RangeIndex: 479 entries, 0 to 478\n",
      "Data columns (total 8 columns):\n",
      " #   Column                                   Non-Null Count  Dtype  \n",
      "---  ------                                   --------------  -----  \n",
      " 0   Fecha                                    479 non-null    object \n",
      " 1   Fallecidos probables DEIS Alto Hospicio  288 non-null    float64\n",
      " 2   Fallecidos probables DEIS Camiña         288 non-null    float64\n",
      " 3   Fallecidos probables DEIS Colchane       288 non-null    float64\n",
      " 4   Fallecidos probables DEIS Huara          288 non-null    float64\n",
      " 5   Fallecidos probables DEIS Iquique        288 non-null    float64\n",
      " 6   Fallecidos probables DEIS Pica           288 non-null    float64\n",
      " 7   Fallecidos probables DEIS Pozo Almonte   288 non-null    float64\n",
      "dtypes: float64(7), object(1)\n",
      "memory usage: 57.7 KB\n"
     ]
    },
    {
     "data": {
      "text/markdown": [
       "<hr>"
      ],
      "text/plain": [
       "<IPython.core.display.Markdown object>"
      ]
     },
     "metadata": {},
     "output_type": "display_data"
    },
    {
     "data": {
      "text/markdown": [
       "<h3><a href=\"https://raw.githubusercontent.com/pandemiaventana/pandemiaventana/main/out/site/csv/data16.csv\">\"data16.csv\"</a></h3>"
      ],
      "text/plain": [
       "<IPython.core.display.Markdown object>"
      ]
     },
     "metadata": {},
     "output_type": "display_data"
    },
    {
     "data": {
      "text/markdown": [
       "Tiene las siguientes columnas (**2** sin el índice):"
      ],
      "text/plain": [
       "<IPython.core.display.Markdown object>"
      ]
     },
     "metadata": {},
     "output_type": "display_data"
    },
    {
     "name": "stdout",
     "output_type": "stream",
     "text": [
      "<class 'pandas.core.frame.DataFrame'>\n",
      "RangeIndex: 479 entries, 0 to 478\n",
      "Data columns (total 3 columns):\n",
      " #   Column                                   Non-Null Count  Dtype  \n",
      "---  ------                                   --------------  -----  \n",
      " 0   Fecha                                    479 non-null    object \n",
      " 1   Media móvil real de ocupación UCI        429 non-null    float64\n",
      " 2   Media móvil hipotética de ocupación UCI  431 non-null    float64\n",
      "dtypes: float64(2), object(1)\n",
      "memory usage: 39.0 KB\n"
     ]
    },
    {
     "data": {
      "text/markdown": [
       "<hr>"
      ],
      "text/plain": [
       "<IPython.core.display.Markdown object>"
      ]
     },
     "metadata": {},
     "output_type": "display_data"
    },
    {
     "data": {
      "text/markdown": [
       "<h3><a href=\"https://raw.githubusercontent.com/pandemiaventana/pandemiaventana/main/out/site/csv/data17.csv\">\"data17.csv\"</a></h3>"
      ],
      "text/plain": [
       "<IPython.core.display.Markdown object>"
      ]
     },
     "metadata": {},
     "output_type": "display_data"
    },
    {
     "data": {
      "text/markdown": [
       "Tiene las siguientes columnas (**2** sin el índice):"
      ],
      "text/plain": [
       "<IPython.core.display.Markdown object>"
      ]
     },
     "metadata": {},
     "output_type": "display_data"
    },
    {
     "name": "stdout",
     "output_type": "stream",
     "text": [
      "<class 'pandas.core.frame.DataFrame'>\n",
      "RangeIndex: 479 entries, 0 to 478\n",
      "Data columns (total 3 columns):\n",
      " #   Column                   Non-Null Count  Dtype  \n",
      "---  ------                   --------------  -----  \n",
      " 0   Fecha                    479 non-null    object \n",
      " 1   Cupos en residencias     391 non-null    float64\n",
      " 2   Usuarios en residencias  391 non-null    float64\n",
      "dtypes: float64(2), object(1)\n",
      "memory usage: 39.0 KB\n"
     ]
    },
    {
     "data": {
      "text/markdown": [
       "<hr>"
      ],
      "text/plain": [
       "<IPython.core.display.Markdown object>"
      ]
     },
     "metadata": {},
     "output_type": "display_data"
    },
    {
     "data": {
      "text/markdown": [
       "<h3><a href=\"https://raw.githubusercontent.com/pandemiaventana/pandemiaventana/main/out/site/csv/data18.csv\">\"data18.csv\"</a></h3>"
      ],
      "text/plain": [
       "<IPython.core.display.Markdown object>"
      ]
     },
     "metadata": {},
     "output_type": "display_data"
    },
    {
     "data": {
      "text/markdown": [
       "Tiene las siguientes columnas (**2** sin el índice):"
      ],
      "text/plain": [
       "<IPython.core.display.Markdown object>"
      ]
     },
     "metadata": {},
     "output_type": "display_data"
    },
    {
     "name": "stdout",
     "output_type": "stream",
     "text": [
      "<class 'pandas.core.frame.DataFrame'>\n",
      "RangeIndex: 479 entries, 0 to 478\n",
      "Data columns (total 3 columns):\n",
      " #   Column                                        Non-Null Count  Dtype  \n",
      "---  ------                                        --------------  -----  \n",
      " 0   Fecha                                         479 non-null    object \n",
      " 1   PCR informados nuevos                         434 non-null    float64\n",
      " 2   Media móvil semanal de PCR informados nuevos  427 non-null    float64\n",
      "dtypes: float64(2), object(1)\n",
      "memory usage: 39.0 KB\n"
     ]
    },
    {
     "data": {
      "text/markdown": [
       "<hr>"
      ],
      "text/plain": [
       "<IPython.core.display.Markdown object>"
      ]
     },
     "metadata": {},
     "output_type": "display_data"
    },
    {
     "data": {
      "text/markdown": [
       "<h3><a href=\"https://raw.githubusercontent.com/pandemiaventana/pandemiaventana/main/out/site/csv/data19.csv\">\"data19.csv\"</a></h3>"
      ],
      "text/plain": [
       "<IPython.core.display.Markdown object>"
      ]
     },
     "metadata": {},
     "output_type": "display_data"
    },
    {
     "data": {
      "text/markdown": [
       "Tiene las siguientes columnas (**2** sin el índice):"
      ],
      "text/plain": [
       "<IPython.core.display.Markdown object>"
      ]
     },
     "metadata": {},
     "output_type": "display_data"
    },
    {
     "name": "stdout",
     "output_type": "stream",
     "text": [
      "<class 'pandas.core.frame.DataFrame'>\n",
      "RangeIndex: 479 entries, 0 to 478\n",
      "Data columns (total 3 columns):\n",
      " #   Column                                              Non-Null Count  Dtype  \n",
      "---  ------                                              --------------  -----  \n",
      " 0   Fecha                                               479 non-null    object \n",
      " 1   Antígenos informados nuevos                         20 non-null     float64\n",
      " 2   Media móvil semanal de antígenos informados nuevos  14 non-null     float64\n",
      "dtypes: float64(2), object(1)\n",
      "memory usage: 39.0 KB\n"
     ]
    },
    {
     "data": {
      "text/markdown": [
       "<hr>"
      ],
      "text/plain": [
       "<IPython.core.display.Markdown object>"
      ]
     },
     "metadata": {},
     "output_type": "display_data"
    },
    {
     "data": {
      "text/markdown": [
       "<h3><a href=\"https://raw.githubusercontent.com/pandemiaventana/pandemiaventana/main/out/site/csv/data2.csv\">\"data2.csv\"</a></h3>"
      ],
      "text/plain": [
       "<IPython.core.display.Markdown object>"
      ]
     },
     "metadata": {},
     "output_type": "display_data"
    },
    {
     "data": {
      "text/markdown": [
       "Tiene las siguientes columnas (**2** sin el índice):"
      ],
      "text/plain": [
       "<IPython.core.display.Markdown object>"
      ]
     },
     "metadata": {},
     "output_type": "display_data"
    },
    {
     "name": "stdout",
     "output_type": "stream",
     "text": [
      "<class 'pandas.core.frame.DataFrame'>\n",
      "RangeIndex: 7 entries, 0 to 6\n",
      "Data columns (total 3 columns):\n",
      " #   Column                                        Non-Null Count  Dtype  \n",
      "---  ------                                        --------------  -----  \n",
      " 0   Fecha                                         7 non-null      object \n",
      " 1   Casos activos confirmados últimos siete días  7 non-null      float64\n",
      " 2   Casos activos probables últimos siete días    7 non-null      float64\n",
      "dtypes: float64(2), object(1)\n",
      "memory usage: 709.0 bytes\n"
     ]
    },
    {
     "data": {
      "text/markdown": [
       "<hr>"
      ],
      "text/plain": [
       "<IPython.core.display.Markdown object>"
      ]
     },
     "metadata": {},
     "output_type": "display_data"
    },
    {
     "data": {
      "text/markdown": [
       "<h3><a href=\"https://raw.githubusercontent.com/pandemiaventana/pandemiaventana/main/out/site/csv/data20.csv\">\"data20.csv\"</a></h3>"
      ],
      "text/plain": [
       "<IPython.core.display.Markdown object>"
      ]
     },
     "metadata": {},
     "output_type": "display_data"
    },
    {
     "data": {
      "text/markdown": [
       "Tiene las siguientes columnas (**4** sin el índice):"
      ],
      "text/plain": [
       "<IPython.core.display.Markdown object>"
      ]
     },
     "metadata": {},
     "output_type": "display_data"
    },
    {
     "name": "stdout",
     "output_type": "stream",
     "text": [
      "<class 'pandas.core.frame.DataFrame'>\n",
      "RangeIndex: 479 entries, 0 to 478\n",
      "Data columns (total 5 columns):\n",
      " #   Column                        Non-Null Count  Dtype  \n",
      "---  ------                        --------------  -----  \n",
      " 0   Fecha                         479 non-null    object \n",
      " 1   Casos nuevos con síntomas     479 non-null    float64\n",
      " 2   Casos nuevos sin síntomas     422 non-null    float64\n",
      " 3   Casos nuevos por laboratorio  372 non-null    float64\n",
      " 4   Casos nuevos por antígeno     120 non-null    float64\n",
      "dtypes: float64(4), object(1)\n",
      "memory usage: 46.4 KB\n"
     ]
    },
    {
     "data": {
      "text/markdown": [
       "<hr>"
      ],
      "text/plain": [
       "<IPython.core.display.Markdown object>"
      ]
     },
     "metadata": {},
     "output_type": "display_data"
    },
    {
     "data": {
      "text/markdown": [
       "<h3><a href=\"https://raw.githubusercontent.com/pandemiaventana/pandemiaventana/main/out/site/csv/data21.csv\">\"data21.csv\"</a></h3>"
      ],
      "text/plain": [
       "<IPython.core.display.Markdown object>"
      ]
     },
     "metadata": {},
     "output_type": "display_data"
    },
    {
     "data": {
      "text/markdown": [
       "Tiene las siguientes columnas (**1** sin el índice):"
      ],
      "text/plain": [
       "<IPython.core.display.Markdown object>"
      ]
     },
     "metadata": {},
     "output_type": "display_data"
    },
    {
     "name": "stdout",
     "output_type": "stream",
     "text": [
      "<class 'pandas.core.frame.DataFrame'>\n",
      "RangeIndex: 479 entries, 0 to 478\n",
      "Data columns (total 2 columns):\n",
      " #   Column                             Non-Null Count  Dtype  \n",
      "---  ------                             --------------  -----  \n",
      " 0   Fecha                              479 non-null    object \n",
      " 1   Casos con sospecha de reinfección  120 non-null    float64\n",
      "dtypes: float64(1), object(1)\n",
      "memory usage: 35.2 KB\n"
     ]
    },
    {
     "data": {
      "text/markdown": [
       "<hr>"
      ],
      "text/plain": [
       "<IPython.core.display.Markdown object>"
      ]
     },
     "metadata": {},
     "output_type": "display_data"
    },
    {
     "data": {
      "text/markdown": [
       "<h3><a href=\"https://raw.githubusercontent.com/pandemiaventana/pandemiaventana/main/out/site/csv/data22.csv\">\"data22.csv\"</a></h3>"
      ],
      "text/plain": [
       "<IPython.core.display.Markdown object>"
      ]
     },
     "metadata": {},
     "output_type": "display_data"
    },
    {
     "data": {
      "text/markdown": [
       "Tiene las siguientes columnas (**1** sin el índice):"
      ],
      "text/plain": [
       "<IPython.core.display.Markdown object>"
      ]
     },
     "metadata": {},
     "output_type": "display_data"
    },
    {
     "name": "stdout",
     "output_type": "stream",
     "text": [
      "<class 'pandas.core.frame.DataFrame'>\n",
      "RangeIndex: 479 entries, 0 to 478\n",
      "Data columns (total 2 columns):\n",
      " #   Column                                                        Non-Null Count  Dtype  \n",
      "---  ------                                                        --------------  -----  \n",
      " 0   Fecha                                                         479 non-null    object \n",
      " 1   Tasa de casos nuevos de casos nuevos por cien mil habitantes  473 non-null    float64\n",
      "dtypes: float64(1), object(1)\n",
      "memory usage: 35.2 KB\n"
     ]
    },
    {
     "data": {
      "text/markdown": [
       "<hr>"
      ],
      "text/plain": [
       "<IPython.core.display.Markdown object>"
      ]
     },
     "metadata": {},
     "output_type": "display_data"
    },
    {
     "data": {
      "text/markdown": [
       "<h3><a href=\"https://raw.githubusercontent.com/pandemiaventana/pandemiaventana/main/out/site/csv/data23.csv\">\"data23.csv\"</a></h3>"
      ],
      "text/plain": [
       "<IPython.core.display.Markdown object>"
      ]
     },
     "metadata": {},
     "output_type": "display_data"
    },
    {
     "data": {
      "text/markdown": [
       "Tiene las siguientes columnas (**1** sin el índice):"
      ],
      "text/plain": [
       "<IPython.core.display.Markdown object>"
      ]
     },
     "metadata": {},
     "output_type": "display_data"
    },
    {
     "name": "stdout",
     "output_type": "stream",
     "text": [
      "<class 'pandas.core.frame.DataFrame'>\n",
      "RangeIndex: 479 entries, 0 to 478\n",
      "Data columns (total 2 columns):\n",
      " #   Column                                         Non-Null Count  Dtype  \n",
      "---  ------                                         --------------  -----  \n",
      " 0   Fecha                                          479 non-null    object \n",
      " 1   Mortalidad específica por cien mil habitantes  460 non-null    float64\n",
      "dtypes: float64(1), object(1)\n",
      "memory usage: 35.2 KB\n"
     ]
    },
    {
     "data": {
      "text/markdown": [
       "<hr>"
      ],
      "text/plain": [
       "<IPython.core.display.Markdown object>"
      ]
     },
     "metadata": {},
     "output_type": "display_data"
    },
    {
     "data": {
      "text/markdown": [
       "<h3><a href=\"https://raw.githubusercontent.com/pandemiaventana/pandemiaventana/main/out/site/csv/data24.csv\">\"data24.csv\"</a></h3>"
      ],
      "text/plain": [
       "<IPython.core.display.Markdown object>"
      ]
     },
     "metadata": {},
     "output_type": "display_data"
    },
    {
     "data": {
      "text/markdown": [
       "Tiene las siguientes columnas (**7** sin el índice):"
      ],
      "text/plain": [
       "<IPython.core.display.Markdown object>"
      ]
     },
     "metadata": {},
     "output_type": "display_data"
    },
    {
     "name": "stdout",
     "output_type": "stream",
     "text": [
      "<class 'pandas.core.frame.DataFrame'>\n",
      "RangeIndex: 479 entries, 0 to 478\n",
      "Data columns (total 8 columns):\n",
      " #   Column                                         Non-Null Count  Dtype  \n",
      "---  ------                                         --------------  -----  \n",
      " 0   Fecha                                          479 non-null    object \n",
      " 1   Mortalidad especifica comunal Alto Hospicio *  288 non-null    float64\n",
      " 2   Mortalidad especifica comunal Camiña *         288 non-null    float64\n",
      " 3   Mortalidad especifica comunal Colchane *       288 non-null    float64\n",
      " 4   Mortalidad especifica comunal Huara *          288 non-null    float64\n",
      " 5   Mortalidad especifica comunal Iquique *        288 non-null    float64\n",
      " 6   Mortalidad especifica comunal Pica *           288 non-null    float64\n",
      " 7   Mortalidad especifica comunal Pozo Almonte *   288 non-null    float64\n",
      "dtypes: float64(7), object(1)\n",
      "memory usage: 57.7 KB\n"
     ]
    },
    {
     "data": {
      "text/markdown": [
       "<hr>"
      ],
      "text/plain": [
       "<IPython.core.display.Markdown object>"
      ]
     },
     "metadata": {},
     "output_type": "display_data"
    },
    {
     "data": {
      "text/markdown": [
       "<h3><a href=\"https://raw.githubusercontent.com/pandemiaventana/pandemiaventana/main/out/site/csv/data25.csv\">\"data25.csv\"</a></h3>"
      ],
      "text/plain": [
       "<IPython.core.display.Markdown object>"
      ]
     },
     "metadata": {},
     "output_type": "display_data"
    },
    {
     "data": {
      "text/markdown": [
       "Tiene las siguientes columnas (**3** sin el índice):"
      ],
      "text/plain": [
       "<IPython.core.display.Markdown object>"
      ]
     },
     "metadata": {},
     "output_type": "display_data"
    },
    {
     "name": "stdout",
     "output_type": "stream",
     "text": [
      "<class 'pandas.core.frame.DataFrame'>\n",
      "RangeIndex: 479 entries, 0 to 478\n",
      "Data columns (total 4 columns):\n",
      " #   Column                            Non-Null Count  Dtype  \n",
      "---  ------                            --------------  -----  \n",
      " 0   Fecha                             479 non-null    object \n",
      " 1   Vacunados acumulados 1° dosis     182 non-null    float64\n",
      " 2   Vacunados acumulados 2° dosis     182 non-null    float64\n",
      " 3   Vacunados acumulados unica dosis  182 non-null    float64\n",
      "dtypes: float64(3), object(1)\n",
      "memory usage: 42.7 KB\n"
     ]
    },
    {
     "data": {
      "text/markdown": [
       "<hr>"
      ],
      "text/plain": [
       "<IPython.core.display.Markdown object>"
      ]
     },
     "metadata": {},
     "output_type": "display_data"
    },
    {
     "data": {
      "text/markdown": [
       "<h3><a href=\"https://raw.githubusercontent.com/pandemiaventana/pandemiaventana/main/out/site/csv/data3.csv\">\"data3.csv\"</a></h3>"
      ],
      "text/plain": [
       "<IPython.core.display.Markdown object>"
      ]
     },
     "metadata": {},
     "output_type": "display_data"
    },
    {
     "data": {
      "text/markdown": [
       "Tiene las siguientes columnas (**3** sin el índice):"
      ],
      "text/plain": [
       "<IPython.core.display.Markdown object>"
      ]
     },
     "metadata": {},
     "output_type": "display_data"
    },
    {
     "name": "stdout",
     "output_type": "stream",
     "text": [
      "<class 'pandas.core.frame.DataFrame'>\n",
      "RangeIndex: 479 entries, 0 to 478\n",
      "Data columns (total 4 columns):\n",
      " #   Column                         Non-Null Count  Dtype  \n",
      "---  ------                         --------------  -----  \n",
      " 0   Fecha                          479 non-null    object \n",
      " 1   Casos nuevos históricos        479 non-null    float64\n",
      " 2   Recuperados nuevos históricos  443 non-null    float64\n",
      " 3   Fallecidos nuevos históricos   459 non-null    float64\n",
      "dtypes: float64(3), object(1)\n",
      "memory usage: 42.7 KB\n"
     ]
    },
    {
     "data": {
      "text/markdown": [
       "<hr>"
      ],
      "text/plain": [
       "<IPython.core.display.Markdown object>"
      ]
     },
     "metadata": {},
     "output_type": "display_data"
    },
    {
     "data": {
      "text/markdown": [
       "<h3><a href=\"https://raw.githubusercontent.com/pandemiaventana/pandemiaventana/main/out/site/csv/data4.csv\">\"data4.csv\"</a></h3>"
      ],
      "text/plain": [
       "<IPython.core.display.Markdown object>"
      ]
     },
     "metadata": {},
     "output_type": "display_data"
    },
    {
     "data": {
      "text/markdown": [
       "Tiene las siguientes columnas (**2** sin el índice):"
      ],
      "text/plain": [
       "<IPython.core.display.Markdown object>"
      ]
     },
     "metadata": {},
     "output_type": "display_data"
    },
    {
     "name": "stdout",
     "output_type": "stream",
     "text": [
      "<class 'pandas.core.frame.DataFrame'>\n",
      "RangeIndex: 369 entries, 0 to 368\n",
      "Data columns (total 3 columns):\n",
      " #   Column                     Non-Null Count  Dtype  \n",
      "---  ------                     --------------  -----  \n",
      " 0   Fecha                      369 non-null    object \n",
      " 1   Casos activos confirmados  369 non-null    float64\n",
      " 2   Casos activos probables    369 non-null    float64\n",
      "dtypes: float64(2), object(1)\n",
      "memory usage: 30.0 KB\n"
     ]
    },
    {
     "data": {
      "text/markdown": [
       "<hr>"
      ],
      "text/plain": [
       "<IPython.core.display.Markdown object>"
      ]
     },
     "metadata": {},
     "output_type": "display_data"
    },
    {
     "data": {
      "text/markdown": [
       "<h3><a href=\"https://raw.githubusercontent.com/pandemiaventana/pandemiaventana/main/out/site/csv/data5.csv\">\"data5.csv\"</a></h3>"
      ],
      "text/plain": [
       "<IPython.core.display.Markdown object>"
      ]
     },
     "metadata": {},
     "output_type": "display_data"
    },
    {
     "data": {
      "text/markdown": [
       "Tiene las siguientes columnas (**4** sin el índice):"
      ],
      "text/plain": [
       "<IPython.core.display.Markdown object>"
      ]
     },
     "metadata": {},
     "output_type": "display_data"
    },
    {
     "name": "stdout",
     "output_type": "stream",
     "text": [
      "<class 'pandas.core.frame.DataFrame'>\n",
      "RangeIndex: 479 entries, 0 to 478\n",
      "Data columns (total 5 columns):\n",
      " #   Column                        Non-Null Count  Dtype  \n",
      "---  ------                        --------------  -----  \n",
      " 0   Fecha                         479 non-null    object \n",
      " 1   Casos confirmados acumulados  479 non-null    float64\n",
      " 2   Casos recuperados acumulados  444 non-null    float64\n",
      " 3   Casos activos confirmados     459 non-null    float64\n",
      " 4   Casos fallecidos acumulados   460 non-null    float64\n",
      "dtypes: float64(4), object(1)\n",
      "memory usage: 46.4 KB\n"
     ]
    },
    {
     "data": {
      "text/markdown": [
       "<hr>"
      ],
      "text/plain": [
       "<IPython.core.display.Markdown object>"
      ]
     },
     "metadata": {},
     "output_type": "display_data"
    },
    {
     "data": {
      "text/markdown": [
       "<h3><a href=\"https://raw.githubusercontent.com/pandemiaventana/pandemiaventana/main/out/site/csv/data6.csv\">\"data6.csv\"</a></h3>"
      ],
      "text/plain": [
       "<IPython.core.display.Markdown object>"
      ]
     },
     "metadata": {},
     "output_type": "display_data"
    },
    {
     "data": {
      "text/markdown": [
       "Tiene las siguientes columnas (**3** sin el índice):"
      ],
      "text/plain": [
       "<IPython.core.display.Markdown object>"
      ]
     },
     "metadata": {},
     "output_type": "display_data"
    },
    {
     "name": "stdout",
     "output_type": "stream",
     "text": [
      "<class 'pandas.core.frame.DataFrame'>\n",
      "RangeIndex: 479 entries, 0 to 478\n",
      "Data columns (total 4 columns):\n",
      " #   Column                                     Non-Null Count  Dtype  \n",
      "---  ------                                     --------------  -----  \n",
      " 0   Fecha                                      479 non-null    object \n",
      " 1   Media móvil semanal de casos nuevos        473 non-null    float64\n",
      " 2   Media móvil semanal de recuperados nuevos  437 non-null    float64\n",
      " 3   Media móvil semanal de fallecidos nuevos   453 non-null    float64\n",
      "dtypes: float64(3), object(1)\n",
      "memory usage: 42.7 KB\n"
     ]
    },
    {
     "data": {
      "text/markdown": [
       "<hr>"
      ],
      "text/plain": [
       "<IPython.core.display.Markdown object>"
      ]
     },
     "metadata": {},
     "output_type": "display_data"
    },
    {
     "data": {
      "text/markdown": [
       "<h3><a href=\"https://raw.githubusercontent.com/pandemiaventana/pandemiaventana/main/out/site/csv/data7.csv\">\"data7.csv\"</a></h3>"
      ],
      "text/plain": [
       "<IPython.core.display.Markdown object>"
      ]
     },
     "metadata": {},
     "output_type": "display_data"
    },
    {
     "data": {
      "text/markdown": [
       "Tiene las siguientes columnas (**2** sin el índice):"
      ],
      "text/plain": [
       "<IPython.core.display.Markdown object>"
      ]
     },
     "metadata": {},
     "output_type": "display_data"
    },
    {
     "name": "stdout",
     "output_type": "stream",
     "text": [
      "<class 'pandas.core.frame.DataFrame'>\n",
      "RangeIndex: 479 entries, 0 to 478\n",
      "Data columns (total 3 columns):\n",
      " #   Column                     Non-Null Count  Dtype  \n",
      "---  ------                     --------------  -----  \n",
      " 0   Fecha                      479 non-null    object \n",
      " 1   Positividad diaria         430 non-null    float64\n",
      " 2   Positividad media movil *  416 non-null    float64\n",
      "dtypes: float64(2), object(1)\n",
      "memory usage: 39.0 KB\n"
     ]
    },
    {
     "data": {
      "text/markdown": [
       "<hr>"
      ],
      "text/plain": [
       "<IPython.core.display.Markdown object>"
      ]
     },
     "metadata": {},
     "output_type": "display_data"
    },
    {
     "data": {
      "text/markdown": [
       "<h3><a href=\"https://raw.githubusercontent.com/pandemiaventana/pandemiaventana/main/out/site/csv/data8.csv\">\"data8.csv\"</a></h3>"
      ],
      "text/plain": [
       "<IPython.core.display.Markdown object>"
      ]
     },
     "metadata": {},
     "output_type": "display_data"
    },
    {
     "data": {
      "text/markdown": [
       "Tiene las siguientes columnas (**3** sin el índice):"
      ],
      "text/plain": [
       "<IPython.core.display.Markdown object>"
      ]
     },
     "metadata": {},
     "output_type": "display_data"
    },
    {
     "name": "stdout",
     "output_type": "stream",
     "text": [
      "<class 'pandas.core.frame.DataFrame'>\n",
      "RangeIndex: 479 entries, 0 to 478\n",
      "Data columns (total 4 columns):\n",
      " #   Column        Non-Null Count  Dtype  \n",
      "---  ------        --------------  -----  \n",
      " 0   Fecha         479 non-null    object \n",
      " 1   Re regional   469 non-null    float64\n",
      " 2   Re Iquique    466 non-null    float64\n",
      " 3   Re Tamarugal  466 non-null    float64\n",
      "dtypes: float64(3), object(1)\n",
      "memory usage: 42.7 KB\n"
     ]
    },
    {
     "data": {
      "text/markdown": [
       "<hr>"
      ],
      "text/plain": [
       "<IPython.core.display.Markdown object>"
      ]
     },
     "metadata": {},
     "output_type": "display_data"
    },
    {
     "data": {
      "text/markdown": [
       "<h3><a href=\"https://raw.githubusercontent.com/pandemiaventana/pandemiaventana/main/out/site/csv/data9.csv\">\"data9.csv\"</a></h3>"
      ],
      "text/plain": [
       "<IPython.core.display.Markdown object>"
      ]
     },
     "metadata": {},
     "output_type": "display_data"
    },
    {
     "data": {
      "text/markdown": [
       "Tiene las siguientes columnas (**2** sin el índice):"
      ],
      "text/plain": [
       "<IPython.core.display.Markdown object>"
      ]
     },
     "metadata": {},
     "output_type": "display_data"
    },
    {
     "name": "stdout",
     "output_type": "stream",
     "text": [
      "<class 'pandas.core.frame.DataFrame'>\n",
      "RangeIndex: 479 entries, 0 to 478\n",
      "Data columns (total 3 columns):\n",
      " #   Column                 Non-Null Count  Dtype  \n",
      "---  ------                 --------------  -----  \n",
      " 0   Fecha                  479 non-null    object \n",
      " 1   Crecimiento diario *   453 non-null    float64\n",
      " 2   Crecimiento semanal *  452 non-null    float64\n",
      "dtypes: float64(2), object(1)\n",
      "memory usage: 39.0 KB\n"
     ]
    },
    {
     "data": {
      "text/markdown": [
       "<hr>"
      ],
      "text/plain": [
       "<IPython.core.display.Markdown object>"
      ]
     },
     "metadata": {},
     "output_type": "display_data"
    },
    {
     "data": {
      "text/markdown": [
       "<h3><a href=\"https://raw.githubusercontent.com/pandemiaventana/pandemiaventana/main/out/site/csv/numeralab.csv\">\"numeralab.csv\"</a></h3>"
      ],
      "text/plain": [
       "<IPython.core.display.Markdown object>"
      ]
     },
     "metadata": {},
     "output_type": "display_data"
    },
    {
     "data": {
      "text/markdown": [
       "Tiene las siguientes columnas (**140** sin el índice):"
      ],
      "text/plain": [
       "<IPython.core.display.Markdown object>"
      ]
     },
     "metadata": {},
     "output_type": "display_data"
    },
    {
     "name": "stdout",
     "output_type": "stream",
     "text": [
      "<class 'pandas.core.frame.DataFrame'>\n",
      "RangeIndex: 479 entries, 0 to 478\n",
      "Data columns (total 141 columns):\n",
      " #    Column                                         Non-Null Count  Dtype  \n",
      "---   ------                                         --------------  -----  \n",
      " 0    Fecha                                          479 non-null    object \n",
      " 1    Casos confirmados acumulados                   479 non-null    float64\n",
      " 2    Casos recuperados acumulados                   444 non-null    float64\n",
      " 3    Casos fallecidos acumulados                    460 non-null    float64\n",
      " 4    Casos activos confirmados                      459 non-null    float64\n",
      " 5    Casos activos probables                        369 non-null    float64\n",
      " 6    Casos nuevos                                   479 non-null    float64\n",
      " 7    Casos nuevos con sintomas                      479 non-null    float64\n",
      " 8    Casos nuevos sin sintomas                      422 non-null    float64\n",
      " 9    Casos nuevos por laboratorio                   372 non-null    float64\n",
      " 10   Casos nuevos por antigeno                      120 non-null    float64\n",
      " 11   Casos con sospecha de reinfeccion              120 non-null    float64\n",
      " 12   Casos recuperados nuevos                       443 non-null    float64\n",
      " 13   Casos fallecidos nuevos                        459 non-null    float64\n",
      " 14   Antigenos informados nuevos                    20 non-null     float64\n",
      " 15   Antigenos informados acumulados                20 non-null     float64\n",
      " 16   PCR informados nuevos                          434 non-null    float64\n",
      " 17   PCR informados acumulados                      434 non-null    float64\n",
      " 18   Cupos en residencias                           391 non-null    float64\n",
      " 19   Usuarios en residencias                        391 non-null    float64\n",
      " 20   Numero de residencias                          391 non-null    float64\n",
      " 21   UCI habilitadas                                435 non-null    float64\n",
      " 22   UCI ocupadas por confirmados                   450 non-null    float64\n",
      " 23   UCI ocupadas por no confirmados                435 non-null    float64\n",
      " 24   UCI ocupacion media movil real                 429 non-null    float64\n",
      " 25   Re regional                                    469 non-null    float64\n",
      " 26   Re Iquique                                     466 non-null    float64\n",
      " 27   Re Tamarugal                                   466 non-null    float64\n",
      " 28   Positividad diaria                             430 non-null    float64\n",
      " 29   Vacunados acumulados 1° dosis                  182 non-null    float64\n",
      " 30   Vacunados acumulados 2° dosis                  182 non-null    float64\n",
      " 31   Vacunados acumulados unica dosis               182 non-null    float64\n",
      " 32   Casos acumulados en Alto Hospicio              131 non-null    float64\n",
      " 33   Casos acumulados en Camiña                     131 non-null    float64\n",
      " 34   Casos acumulados en Colchane                   131 non-null    float64\n",
      " 35   Casos acumulados en Huara                      131 non-null    float64\n",
      " 36   Casos acumulados en Iquique                    131 non-null    float64\n",
      " 37   Casos acumulados en Pica                       131 non-null    float64\n",
      " 38   Casos acumulados en Pozo Almonte               131 non-null    float64\n",
      " 39   Casos acumulados en Comuna desconocida         105 non-null    float64\n",
      " 40   Casos activos en Alto Hospicio                 125 non-null    float64\n",
      " 41   Casos activos en Camiña                        125 non-null    float64\n",
      " 42   Casos activos en Colchane                      125 non-null    float64\n",
      " 43   Casos activos en Huara                         125 non-null    float64\n",
      " 44   Casos activos en Iquique                       125 non-null    float64\n",
      " 45   Casos activos en Pica                          125 non-null    float64\n",
      " 46   Casos activos en Pozo Almonte                  125 non-null    float64\n",
      " 47   Casos activos en Comuna desconocida            105 non-null    float64\n",
      " 48   Paso a Paso Alto Hospicio                      332 non-null    float64\n",
      " 49   Paso a Paso Camiña                             332 non-null    float64\n",
      " 50   Paso a Paso Colchane                           332 non-null    float64\n",
      " 51   Paso a Paso Huara                              332 non-null    float64\n",
      " 52   Paso a Paso Iquique                            332 non-null    float64\n",
      " 53   Paso a Paso Pica                               332 non-null    float64\n",
      " 54   Paso a Paso Pozo Almonte                       332 non-null    float64\n",
      " 55   Paso a Paso (dias) Alto Hospicio               332 non-null    float64\n",
      " 56   Paso a Paso (dias) Camiña                      332 non-null    float64\n",
      " 57   Paso a Paso (dias) Colchane                    332 non-null    float64\n",
      " 58   Paso a Paso (dias) Huara                       332 non-null    float64\n",
      " 59   Paso a Paso (dias) Iquique                     332 non-null    float64\n",
      " 60   Paso a Paso (dias) Pica                        332 non-null    float64\n",
      " 61   Paso a Paso (dias) Pozo Almonte                332 non-null    float64\n",
      " 62   Movilidad Iquique                              435 non-null    float64\n",
      " 63   Movilidad Pica                                 435 non-null    float64\n",
      " 64   Movilidad Alto Hospicio                        435 non-null    float64\n",
      " 65   Movilidad Pozo almonte                         435 non-null    float64\n",
      " 66   Movilidad Huara                                435 non-null    float64\n",
      " 67   Notificacion PCR Alto Hospicio                 302 non-null    float64\n",
      " 68   Notificacion PCR Camiña                        302 non-null    float64\n",
      " 69   Notificacion PCR Colchane                      302 non-null    float64\n",
      " 70   Notificacion PCR Huara                         302 non-null    float64\n",
      " 71   Notificacion PCR Iquique                       302 non-null    float64\n",
      " 72   Notificacion PCR Pica                          302 non-null    float64\n",
      " 73   Notificacion PCR Pozo Almonte                  302 non-null    float64\n",
      " 74   BAC Alto Hospicio                              302 non-null    float64\n",
      " 75   BAC Camiña                                     302 non-null    float64\n",
      " 76   BAC Colchane                                   302 non-null    float64\n",
      " 77   BAC Huara                                      302 non-null    float64\n",
      " 78   BAC Iquique                                    302 non-null    float64\n",
      " 79   BAC Pica                                       302 non-null    float64\n",
      " 80   BAC Pozo Almonte                               302 non-null    float64\n",
      " 81   Positividad Alto Hospicio                      302 non-null    float64\n",
      " 82   Positividad Camiña                             302 non-null    float64\n",
      " 83   Positividad Colchane                           302 non-null    float64\n",
      " 84   Positividad Huara                              302 non-null    float64\n",
      " 85   Positividad Iquique                            302 non-null    float64\n",
      " 86   Positividad Pica                               302 non-null    float64\n",
      " 87   Positividad Pozo Almonte                       302 non-null    float64\n",
      " 88   Cobertura de testeo Alto Hospicio              302 non-null    float64\n",
      " 89   Cobertura de testeo Camiña                     302 non-null    float64\n",
      " 90   Cobertura de testeo Colchane                   302 non-null    float64\n",
      " 91   Cobertura de testeo Huara                      302 non-null    float64\n",
      " 92   Cobertura de testeo Iquique                    302 non-null    float64\n",
      " 93   Cobertura de testeo Pica                       302 non-null    float64\n",
      " 94   Cobertura de testeo Pozo Almonte               302 non-null    float64\n",
      " 95   Oportunidad en notificacion Alto Hospicio      302 non-null    float64\n",
      " 96   Oportunidad en notificacion Camiña             302 non-null    float64\n",
      " 97   Oportunidad en notificacion Colchane           288 non-null    float64\n",
      " 98   Oportunidad en notificacion Huara              302 non-null    float64\n",
      " 99   Oportunidad en notificacion Iquique            302 non-null    float64\n",
      " 100  Oportunidad en notificacion Pica               302 non-null    float64\n",
      " 101  Oportunidad en notificacion Pozo Almonte       302 non-null    float64\n",
      " 102  Fallecidos Alto Hospicio                       375 non-null    float64\n",
      " 103  Fallecidos Camiña                              375 non-null    float64\n",
      " 104  Fallecidos Colchane                            375 non-null    float64\n",
      " 105  Fallecidos Huara                               375 non-null    float64\n",
      " 106  Fallecidos Iquique                             375 non-null    float64\n",
      " 107  Fallecidos Pica                                375 non-null    float64\n",
      " 108  Fallecidos Pozo Almonte                        375 non-null    float64\n",
      " 109  Fallecidos Comuna desconocida                  368 non-null    float64\n",
      " 110  Fallecidos total comunal                       375 non-null    float64\n",
      " 111  Fallecidos confirmados DEIS Alto Hospicio      288 non-null    float64\n",
      " 112  Fallecidos confirmados DEIS Camiña             288 non-null    float64\n",
      " 113  Fallecidos confirmados DEIS Colchane           288 non-null    float64\n",
      " 114  Fallecidos confirmados DEIS Huara              288 non-null    float64\n",
      " 115  Fallecidos confirmados DEIS Iquique            288 non-null    float64\n",
      " 116  Fallecidos confirmados DEIS Pica               288 non-null    float64\n",
      " 117  Fallecidos confirmados DEIS Pozo Almonte       288 non-null    float64\n",
      " 118  Fallecidos probables DEIS Alto Hospicio        288 non-null    float64\n",
      " 119  Fallecidos probables DEIS Camiña               288 non-null    float64\n",
      " 120  Fallecidos probables DEIS Colchane             288 non-null    float64\n",
      " 121  Fallecidos probables DEIS Huara                288 non-null    float64\n",
      " 122  Fallecidos probables DEIS Iquique              288 non-null    float64\n",
      " 123  Fallecidos probables DEIS Pica                 288 non-null    float64\n",
      " 124  Fallecidos probables DEIS Pozo Almonte         288 non-null    float64\n",
      " 125  Positividad media movil *                      416 non-null    float64\n",
      " 126  Mortalidad especifica *                        460 non-null    float64\n",
      " 127  Crecimiento semanal *                          452 non-null    float64\n",
      " 128  Crecimiento diario *                           453 non-null    float64\n",
      " 129  UCI ocupacion media movil aprox *              431 non-null    float64\n",
      " 130  UCI error abs *                                429 non-null    float64\n",
      " 131  Tasa casos nuevos *                            473 non-null    float64\n",
      " 132  Positividad antigeno *                         20 non-null     float64\n",
      " 133  Positividad antigeno media movil *             14 non-null     float64\n",
      " 134  Mortalidad especifica comunal Alto Hospicio *  288 non-null    float64\n",
      " 135  Mortalidad especifica comunal Camiña *         288 non-null    float64\n",
      " 136  Mortalidad especifica comunal Colchane *       288 non-null    float64\n",
      " 137  Mortalidad especifica comunal Huara *          288 non-null    float64\n",
      " 138  Mortalidad especifica comunal Iquique *        288 non-null    float64\n",
      " 139  Mortalidad especifica comunal Pica *           288 non-null    float64\n",
      " 140  Mortalidad especifica comunal Pozo Almonte *   288 non-null    float64\n",
      "dtypes: float64(140), object(1)\n",
      "memory usage: 555.4 KB\n"
     ]
    },
    {
     "data": {
      "text/markdown": [
       "<hr>"
      ],
      "text/plain": [
       "<IPython.core.display.Markdown object>"
      ]
     },
     "metadata": {},
     "output_type": "display_data"
    }
   ],
   "source": [
    "### Algo de Markdown\n",
    "display(Markdown('Encontré los **siguientes archivos CSV**:'))\n",
    "\n",
    "### Mostrando archivos CSV\n",
    "for string in [name for name in os.listdir('./../../out/site/csv')]:\n",
    "    \n",
    "    ### Título\n",
    "    \n",
    "    display(Markdown('<h3><a href=\"https://raw.githubusercontent.com/pandemiaventana/pandemiaventana/main/out/site/csv/{}\">\"{}\"</a></h3>'.format(string, string)))\n",
    "    \n",
    "    ### Leemos\n",
    "    \n",
    "    csv = pd.read_csv('./../../out/site/csv/{}'.format(string))\n",
    "    \n",
    "    ### Info de pandas\n",
    "    \n",
    "    display(Markdown('Tiene las siguientes columnas (**{}** sin el índice):'.format(len(csv.columns) - 1)))\n",
    "    \n",
    "    csv.info(max_cols=len(csv.columns), memory_usage='deep')\n",
    "    \n",
    "    display(Markdown('<hr>'))"
   ]
  },
  {
   "cell_type": "markdown",
   "id": "3e172202",
   "metadata": {},
   "source": [
    "## Salida para Markdown"
   ]
  },
  {
   "cell_type": "code",
   "execution_count": 51,
   "id": "d3f63fda",
   "metadata": {},
   "outputs": [
    {
     "data": {
      "application/javascript": [
       "{\n",
       "    let outputs=[...document.querySelectorAll(\".cell\")].map(\n",
       "        cell=> {\n",
       "            let output=cell.querySelector(\".output\")\n",
       "            if(output) return output.innerHTML\n",
       "            output=cell.querySelector(\".rendered_html\")\n",
       "            if(output) return output.innerHTML\n",
       "            return \"\"\n",
       "        }\n",
       "    )\n",
       "    \n",
       "    IPython.notebook.kernel.execute(\"cell_outputs=\"+JSON.stringify(outputs))\n",
       "    IPython.notebook.kernel.execute(\"soup = BeautifulSoup(cell_outputs[3])\")\n",
       "    IPython.notebook.kernel.execute(\"removals = soup.find_all(attrs={'class': 'prompt'})\")\n",
       "    IPython.notebook.kernel.execute(\"for removal in removals: removal.decompose()\")\n",
       "    IPython.notebook.kernel.execute(\"soup = str(soup)\")   \n",
       "    IPython.notebook.kernel.execute(\"op = open('..//..//README.md' , 'w', encoding='utf-16')\")\n",
       "    IPython.notebook.kernel.execute(\"full = txt + soup\")\n",
       "    IPython.notebook.kernel.execute(\"op.writelines(full)\")\n",
       "}"
      ],
      "text/plain": [
       "<IPython.core.display.Javascript object>"
      ]
     },
     "execution_count": 51,
     "metadata": {},
     "output_type": "execute_result"
    }
   ],
   "source": [
    "txt = '''# La pandemia por la ventana \\n\n",
    "\n",
    "![Ilustración por Bernardo Dinamarca](https://github.com/pandemiaventana/pandemiaventana/blob/main/img/page/2_cover.png?raw=true)\n",
    "\n",
    "La pandemia por la ventana es un sitio, realizado con formato de *libro* gracias a Jupyter Books, hecho por Alejandro Dinamarca, que recaba el trabajo de Numeral.lab en la Región de Tarapacá.\n",
    "\n",
    "Favor, cualquier sugerencia o comentario, hacerlo llegar mediante [Issues de GitHub](https://github.com/pandemiaventana/pandemiaventana/issues/new).\n",
    "\n",
    "## Funcionamiento\n",
    "\n",
    "Básicamente, a través de Notebooks de Jupyter y un poco de Markdown. Python, por contraparte, genera los CSV, y Jupyter Books se encarga de generar la página web a partir de los Notebooks y el Markdown.\n",
    "\n",
    "El despliegue del libro en [gh-pages](https://github.com/pandemiaventana/pandemiaventana/tree/gh-pages) se realiza cada vez que desencadeno un cambio en [main](https://github.com/pandemiaventana/pandemiaventana) a través del action [deploy-book](https://github.com/pandemiaventana/pandemiaventana/actions/workflows/book.yml).\n",
    "\n",
    "## Estado\n",
    "\n",
    "[![deploy-book](https://github.com/pandemiaventana/pandemiaventana/actions/workflows/book.yml/badge.svg)](https://github.com/pandemiaventana/pandemiaventana/actions/workflows/book.yml)\n",
    "\n",
    "## Archivos CSV generados\n",
    "\n",
    "Disponibles en [el siguiente enlace](https://github.com/pandemiaventana/pandemiaventana/tree/main/out/site/csv), los cuales se adjuntan a continuación:\n",
    "\n",
    "'''\n",
    "\n",
    "### Gracias a BenVida (stackoverflow.com/a/64495269/13746427) ###\n",
    "Javascript('''{\n",
    "    let outputs=[...document.querySelectorAll(\".cell\")].map(\n",
    "        cell=> {\n",
    "            let output=cell.querySelector(\".output\")\n",
    "            if(output) return output.innerHTML\n",
    "            output=cell.querySelector(\".rendered_html\")\n",
    "            if(output) return output.innerHTML\n",
    "            return \"\"\n",
    "        }\n",
    "    )\n",
    "    \n",
    "    IPython.notebook.kernel.execute(\"cell_outputs=\"+JSON.stringify(outputs))\n",
    "    IPython.notebook.kernel.execute(\"soup = BeautifulSoup(cell_outputs[3])\")\n",
    "    IPython.notebook.kernel.execute(\"removals = soup.find_all(attrs={'class': 'prompt'})\")\n",
    "    IPython.notebook.kernel.execute(\"for removal in removals: removal.decompose()\")\n",
    "    IPython.notebook.kernel.execute(\"soup = str(soup)\")   \n",
    "    IPython.notebook.kernel.execute(\"op = open('..//..//README.md' , 'w', encoding='utf-16')\")\n",
    "    IPython.notebook.kernel.execute(\"full = txt + soup\")\n",
    "    IPython.notebook.kernel.execute(\"op.writelines(full)\")\n",
    "}''')"
   ]
  },
  {
   "cell_type": "markdown",
   "id": "5dbbbdd5",
   "metadata": {},
   "source": [
    "## Información de sesión"
   ]
  },
  {
   "cell_type": "code",
   "execution_count": null,
   "id": "aaa33a83",
   "metadata": {},
   "outputs": [],
   "source": [
    "session_info.show(cpu=True, jupyter=True, std_lib=True, write_req_file=True, dependencies=True, req_file_name='4_requeriments.txt')"
   ]
  }
 ],
 "metadata": {
  "kernelspec": {
   "display_name": "Python 3",
   "language": "python",
   "name": "python3"
  },
  "language_info": {
   "codemirror_mode": {
    "name": "ipython",
    "version": 3
   },
   "file_extension": ".py",
   "mimetype": "text/x-python",
   "name": "python",
   "nbconvert_exporter": "python",
   "pygments_lexer": "ipython3",
   "version": "3.7.0"
  }
 },
 "nbformat": 4,
 "nbformat_minor": 5
}
