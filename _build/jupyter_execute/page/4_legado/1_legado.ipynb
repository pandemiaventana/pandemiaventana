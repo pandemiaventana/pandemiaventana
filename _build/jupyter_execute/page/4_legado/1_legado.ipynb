{
 "cells": [
  {
   "cell_type": "markdown",
   "id": "10f27e06",
   "metadata": {},
   "source": [
    "# Lo nuevo\n",
    "\n",
    "De forma rápida, los datos procesados."
   ]
  },
  {
   "cell_type": "code",
   "execution_count": 1,
   "id": "f6312028",
   "metadata": {},
   "outputs": [],
   "source": [
    "### Los paquetes amigos\n",
    "import os, os.path\n",
    "from IPython.display import Markdown, HTML, Javascript, IFrame\n",
    "import pandas as pd\n",
    "import session_info\n",
    "from bs4 import BeautifulSoup\n",
    "import numpy as np\n",
    "from markdownify import markdownify as md"
   ]
  },
  {
   "cell_type": "markdown",
   "id": "e8c3b5c7",
   "metadata": {},
   "source": [
    "## Archivos CSV"
   ]
  },
  {
   "cell_type": "code",
   "execution_count": 2,
   "id": "1e6f1ab9",
   "metadata": {},
   "outputs": [
    {
     "data": {
      "text/markdown": [
       "<a style=\"font-size:18px\" href=\"https://raw.githubusercontent.com/pandemiaventana/pandemiaventana/main/out/site/csv/data8.csv\">\"DATA8.CSV\"</a>"
      ],
      "text/plain": [
       "<IPython.core.display.Markdown object>"
      ]
     },
     "metadata": {},
     "output_type": "display_data"
    },
    {
     "data": {
      "text/markdown": [
       "Tiene las siguientes columnas (**3** sin el índice):"
      ],
      "text/plain": [
       "<IPython.core.display.Markdown object>"
      ]
     },
     "metadata": {},
     "output_type": "display_data"
    },
    {
     "name": "stdout",
     "output_type": "stream",
     "text": [
      "<class 'pandas.core.frame.DataFrame'>\n",
      "RangeIndex: 486 entries, 0 to 485\n",
      "Data columns (total 4 columns):\n",
      " #   Column        Non-Null Count  Dtype  \n",
      "---  ------        --------------  -----  \n",
      " 0   Fecha         486 non-null    object \n",
      " 1   Re regional   476 non-null    float64\n",
      " 2   Re Iquique    469 non-null    float64\n",
      " 3   Re Tamarugal  469 non-null    float64\n",
      "dtypes: float64(3), object(1)\n",
      "memory usage: 43.3 KB\n"
     ]
    },
    {
     "data": {
      "text/markdown": [
       "<hr>"
      ],
      "text/plain": [
       "<IPython.core.display.Markdown object>"
      ]
     },
     "metadata": {},
     "output_type": "display_data"
    },
    {
     "data": {
      "text/markdown": [
       "<a style=\"font-size:18px\" href=\"https://raw.githubusercontent.com/pandemiaventana/pandemiaventana/main/out/site/csv/data20.csv\">\"DATA20.CSV\"</a>"
      ],
      "text/plain": [
       "<IPython.core.display.Markdown object>"
      ]
     },
     "metadata": {},
     "output_type": "display_data"
    },
    {
     "data": {
      "text/markdown": [
       "Tiene las siguientes columnas (**4** sin el índice):"
      ],
      "text/plain": [
       "<IPython.core.display.Markdown object>"
      ]
     },
     "metadata": {},
     "output_type": "display_data"
    },
    {
     "name": "stdout",
     "output_type": "stream",
     "text": [
      "<class 'pandas.core.frame.DataFrame'>\n",
      "RangeIndex: 486 entries, 0 to 485\n",
      "Data columns (total 5 columns):\n",
      " #   Column                        Non-Null Count  Dtype  \n",
      "---  ------                        --------------  -----  \n",
      " 0   Fecha                         486 non-null    object \n",
      " 1   Casos nuevos con síntomas     486 non-null    float64\n",
      " 2   Casos nuevos sin síntomas     429 non-null    float64\n",
      " 3   Casos nuevos por laboratorio  379 non-null    float64\n",
      " 4   Casos nuevos por antígeno     127 non-null    float64\n",
      "dtypes: float64(4), object(1)\n",
      "memory usage: 47.1 KB\n"
     ]
    },
    {
     "data": {
      "text/markdown": [
       "<hr>"
      ],
      "text/plain": [
       "<IPython.core.display.Markdown object>"
      ]
     },
     "metadata": {},
     "output_type": "display_data"
    },
    {
     "data": {
      "text/markdown": [
       "<a style=\"font-size:18px\" href=\"https://raw.githubusercontent.com/pandemiaventana/pandemiaventana/main/out/site/csv/data14.csv\">\"DATA14.CSV\"</a>"
      ],
      "text/plain": [
       "<IPython.core.display.Markdown object>"
      ]
     },
     "metadata": {},
     "output_type": "display_data"
    },
    {
     "data": {
      "text/markdown": [
       "Tiene las siguientes columnas (**7** sin el índice):"
      ],
      "text/plain": [
       "<IPython.core.display.Markdown object>"
      ]
     },
     "metadata": {},
     "output_type": "display_data"
    },
    {
     "name": "stdout",
     "output_type": "stream",
     "text": [
      "<class 'pandas.core.frame.DataFrame'>\n",
      "RangeIndex: 486 entries, 0 to 485\n",
      "Data columns (total 8 columns):\n",
      " #   Column                                     Non-Null Count  Dtype  \n",
      "---  ------                                     --------------  -----  \n",
      " 0   Fecha                                      486 non-null    object \n",
      " 1   Fallecidos confirmados DEIS Alto Hospicio  295 non-null    float64\n",
      " 2   Fallecidos confirmados DEIS Camiña         295 non-null    float64\n",
      " 3   Fallecidos confirmados DEIS Colchane       295 non-null    float64\n",
      " 4   Fallecidos confirmados DEIS Huara          295 non-null    float64\n",
      " 5   Fallecidos confirmados DEIS Iquique        295 non-null    float64\n",
      " 6   Fallecidos confirmados DEIS Pica           295 non-null    float64\n",
      " 7   Fallecidos confirmados DEIS Pozo Almonte   295 non-null    float64\n",
      "dtypes: float64(7), object(1)\n",
      "memory usage: 58.5 KB\n"
     ]
    },
    {
     "data": {
      "text/markdown": [
       "<hr>"
      ],
      "text/plain": [
       "<IPython.core.display.Markdown object>"
      ]
     },
     "metadata": {},
     "output_type": "display_data"
    },
    {
     "data": {
      "text/markdown": [
       "<a style=\"font-size:18px\" href=\"https://raw.githubusercontent.com/pandemiaventana/pandemiaventana/main/out/site/csv/data4.csv\">\"DATA4.CSV\"</a>"
      ],
      "text/plain": [
       "<IPython.core.display.Markdown object>"
      ]
     },
     "metadata": {},
     "output_type": "display_data"
    },
    {
     "data": {
      "text/markdown": [
       "Tiene las siguientes columnas (**2** sin el índice):"
      ],
      "text/plain": [
       "<IPython.core.display.Markdown object>"
      ]
     },
     "metadata": {},
     "output_type": "display_data"
    },
    {
     "name": "stdout",
     "output_type": "stream",
     "text": [
      "<class 'pandas.core.frame.DataFrame'>\n",
      "RangeIndex: 376 entries, 0 to 375\n",
      "Data columns (total 3 columns):\n",
      " #   Column                     Non-Null Count  Dtype  \n",
      "---  ------                     --------------  -----  \n",
      " 0   Fecha                      376 non-null    object \n",
      " 1   Casos activos confirmados  376 non-null    float64\n",
      " 2   Casos activos probables    376 non-null    float64\n",
      "dtypes: float64(2), object(1)\n",
      "memory usage: 30.6 KB\n"
     ]
    },
    {
     "data": {
      "text/markdown": [
       "<hr>"
      ],
      "text/plain": [
       "<IPython.core.display.Markdown object>"
      ]
     },
     "metadata": {},
     "output_type": "display_data"
    },
    {
     "data": {
      "text/markdown": [
       "<a style=\"font-size:18px\" href=\"https://raw.githubusercontent.com/pandemiaventana/pandemiaventana/main/out/site/csv/data21.csv\">\"DATA21.CSV\"</a>"
      ],
      "text/plain": [
       "<IPython.core.display.Markdown object>"
      ]
     },
     "metadata": {},
     "output_type": "display_data"
    },
    {
     "data": {
      "text/markdown": [
       "Tiene las siguientes columnas (**1** sin el índice):"
      ],
      "text/plain": [
       "<IPython.core.display.Markdown object>"
      ]
     },
     "metadata": {},
     "output_type": "display_data"
    },
    {
     "name": "stdout",
     "output_type": "stream",
     "text": [
      "<class 'pandas.core.frame.DataFrame'>\n",
      "RangeIndex: 486 entries, 0 to 485\n",
      "Data columns (total 2 columns):\n",
      " #   Column                             Non-Null Count  Dtype  \n",
      "---  ------                             --------------  -----  \n",
      " 0   Fecha                              486 non-null    object \n",
      " 1   Casos con sospecha de reinfección  127 non-null    float64\n",
      "dtypes: float64(1), object(1)\n",
      "memory usage: 35.7 KB\n"
     ]
    },
    {
     "data": {
      "text/markdown": [
       "<hr>"
      ],
      "text/plain": [
       "<IPython.core.display.Markdown object>"
      ]
     },
     "metadata": {},
     "output_type": "display_data"
    },
    {
     "data": {
      "text/markdown": [
       "<a style=\"font-size:18px\" href=\"https://raw.githubusercontent.com/pandemiaventana/pandemiaventana/main/out/site/csv/data5.csv\">\"DATA5.CSV\"</a>"
      ],
      "text/plain": [
       "<IPython.core.display.Markdown object>"
      ]
     },
     "metadata": {},
     "output_type": "display_data"
    },
    {
     "data": {
      "text/markdown": [
       "Tiene las siguientes columnas (**4** sin el índice):"
      ],
      "text/plain": [
       "<IPython.core.display.Markdown object>"
      ]
     },
     "metadata": {},
     "output_type": "display_data"
    },
    {
     "name": "stdout",
     "output_type": "stream",
     "text": [
      "<class 'pandas.core.frame.DataFrame'>\n",
      "RangeIndex: 486 entries, 0 to 485\n",
      "Data columns (total 5 columns):\n",
      " #   Column                        Non-Null Count  Dtype  \n",
      "---  ------                        --------------  -----  \n",
      " 0   Fecha                         486 non-null    object \n",
      " 1   Casos confirmados acumulados  486 non-null    float64\n",
      " 2   Casos recuperados acumulados  451 non-null    float64\n",
      " 3   Casos activos confirmados     466 non-null    float64\n",
      " 4   Casos fallecidos acumulados   467 non-null    float64\n",
      "dtypes: float64(4), object(1)\n",
      "memory usage: 47.1 KB\n"
     ]
    },
    {
     "data": {
      "text/markdown": [
       "<hr>"
      ],
      "text/plain": [
       "<IPython.core.display.Markdown object>"
      ]
     },
     "metadata": {},
     "output_type": "display_data"
    },
    {
     "data": {
      "text/markdown": [
       "<a style=\"font-size:18px\" href=\"https://raw.githubusercontent.com/pandemiaventana/pandemiaventana/main/out/site/csv/data24.csv\">\"DATA24.CSV\"</a>"
      ],
      "text/plain": [
       "<IPython.core.display.Markdown object>"
      ]
     },
     "metadata": {},
     "output_type": "display_data"
    },
    {
     "data": {
      "text/markdown": [
       "Tiene las siguientes columnas (**7** sin el índice):"
      ],
      "text/plain": [
       "<IPython.core.display.Markdown object>"
      ]
     },
     "metadata": {},
     "output_type": "display_data"
    },
    {
     "name": "stdout",
     "output_type": "stream",
     "text": [
      "<class 'pandas.core.frame.DataFrame'>\n",
      "RangeIndex: 486 entries, 0 to 485\n",
      "Data columns (total 8 columns):\n",
      " #   Column                                         Non-Null Count  Dtype  \n",
      "---  ------                                         --------------  -----  \n",
      " 0   Fecha                                          486 non-null    object \n",
      " 1   Mortalidad especifica comunal Alto Hospicio *  295 non-null    float64\n",
      " 2   Mortalidad especifica comunal Camiña *         295 non-null    float64\n",
      " 3   Mortalidad especifica comunal Colchane *       295 non-null    float64\n",
      " 4   Mortalidad especifica comunal Huara *          295 non-null    float64\n",
      " 5   Mortalidad especifica comunal Iquique *        295 non-null    float64\n",
      " 6   Mortalidad especifica comunal Pica *           295 non-null    float64\n",
      " 7   Mortalidad especifica comunal Pozo Almonte *   295 non-null    float64\n",
      "dtypes: float64(7), object(1)\n",
      "memory usage: 58.5 KB\n"
     ]
    },
    {
     "data": {
      "text/markdown": [
       "<hr>"
      ],
      "text/plain": [
       "<IPython.core.display.Markdown object>"
      ]
     },
     "metadata": {},
     "output_type": "display_data"
    },
    {
     "data": {
      "text/markdown": [
       "<a style=\"font-size:18px\" href=\"https://raw.githubusercontent.com/pandemiaventana/pandemiaventana/main/out/site/csv/data16.csv\">\"DATA16.CSV\"</a>"
      ],
      "text/plain": [
       "<IPython.core.display.Markdown object>"
      ]
     },
     "metadata": {},
     "output_type": "display_data"
    },
    {
     "data": {
      "text/markdown": [
       "Tiene las siguientes columnas (**2** sin el índice):"
      ],
      "text/plain": [
       "<IPython.core.display.Markdown object>"
      ]
     },
     "metadata": {},
     "output_type": "display_data"
    },
    {
     "name": "stdout",
     "output_type": "stream",
     "text": [
      "<class 'pandas.core.frame.DataFrame'>\n",
      "RangeIndex: 486 entries, 0 to 485\n",
      "Data columns (total 3 columns):\n",
      " #   Column                                   Non-Null Count  Dtype  \n",
      "---  ------                                   --------------  -----  \n",
      " 0   Fecha                                    486 non-null    object \n",
      " 1   Media móvil real de ocupación UCI        436 non-null    float64\n",
      " 2   Media móvil hipotética de ocupación UCI  438 non-null    float64\n",
      "dtypes: float64(2), object(1)\n",
      "memory usage: 39.5 KB\n"
     ]
    },
    {
     "data": {
      "text/markdown": [
       "<hr>"
      ],
      "text/plain": [
       "<IPython.core.display.Markdown object>"
      ]
     },
     "metadata": {},
     "output_type": "display_data"
    },
    {
     "data": {
      "text/markdown": [
       "<a style=\"font-size:18px\" href=\"https://raw.githubusercontent.com/pandemiaventana/pandemiaventana/main/out/site/csv/data18.csv\">\"DATA18.CSV\"</a>"
      ],
      "text/plain": [
       "<IPython.core.display.Markdown object>"
      ]
     },
     "metadata": {},
     "output_type": "display_data"
    },
    {
     "data": {
      "text/markdown": [
       "Tiene las siguientes columnas (**2** sin el índice):"
      ],
      "text/plain": [
       "<IPython.core.display.Markdown object>"
      ]
     },
     "metadata": {},
     "output_type": "display_data"
    },
    {
     "name": "stdout",
     "output_type": "stream",
     "text": [
      "<class 'pandas.core.frame.DataFrame'>\n",
      "RangeIndex: 486 entries, 0 to 485\n",
      "Data columns (total 3 columns):\n",
      " #   Column                                        Non-Null Count  Dtype  \n",
      "---  ------                                        --------------  -----  \n",
      " 0   Fecha                                         486 non-null    object \n",
      " 1   PCR informados nuevos                         441 non-null    float64\n",
      " 2   Media móvil semanal de PCR informados nuevos  434 non-null    float64\n",
      "dtypes: float64(2), object(1)\n",
      "memory usage: 39.5 KB\n"
     ]
    },
    {
     "data": {
      "text/markdown": [
       "<hr>"
      ],
      "text/plain": [
       "<IPython.core.display.Markdown object>"
      ]
     },
     "metadata": {},
     "output_type": "display_data"
    },
    {
     "data": {
      "text/markdown": [
       "<a style=\"font-size:18px\" href=\"https://raw.githubusercontent.com/pandemiaventana/pandemiaventana/main/out/site/csv/data11.csv\">\"DATA11.CSV\"</a>"
      ],
      "text/plain": [
       "<IPython.core.display.Markdown object>"
      ]
     },
     "metadata": {},
     "output_type": "display_data"
    },
    {
     "data": {
      "text/markdown": [
       "Tiene las siguientes columnas (**7** sin el índice):"
      ],
      "text/plain": [
       "<IPython.core.display.Markdown object>"
      ]
     },
     "metadata": {},
     "output_type": "display_data"
    },
    {
     "name": "stdout",
     "output_type": "stream",
     "text": [
      "<class 'pandas.core.frame.DataFrame'>\n",
      "RangeIndex: 486 entries, 0 to 485\n",
      "Data columns (total 8 columns):\n",
      " #   Column                     Non-Null Count  Dtype  \n",
      "---  ------                     --------------  -----  \n",
      " 0   Fecha                      486 non-null    object \n",
      " 1   Positividad Alto Hospicio  309 non-null    float64\n",
      " 2   Positividad Camiña         309 non-null    float64\n",
      " 3   Positividad Colchane       309 non-null    float64\n",
      " 4   Positividad Huara          309 non-null    float64\n",
      " 5   Positividad Iquique        309 non-null    float64\n",
      " 6   Positividad Pica           309 non-null    float64\n",
      " 7   Positividad Pozo Almonte   309 non-null    float64\n",
      "dtypes: float64(7), object(1)\n",
      "memory usage: 58.5 KB\n"
     ]
    },
    {
     "data": {
      "text/markdown": [
       "<hr>"
      ],
      "text/plain": [
       "<IPython.core.display.Markdown object>"
      ]
     },
     "metadata": {},
     "output_type": "display_data"
    },
    {
     "data": {
      "text/markdown": [
       "<a style=\"font-size:18px\" href=\"https://raw.githubusercontent.com/pandemiaventana/pandemiaventana/main/out/site/csv/data22.csv\">\"DATA22.CSV\"</a>"
      ],
      "text/plain": [
       "<IPython.core.display.Markdown object>"
      ]
     },
     "metadata": {},
     "output_type": "display_data"
    },
    {
     "data": {
      "text/markdown": [
       "Tiene las siguientes columnas (**1** sin el índice):"
      ],
      "text/plain": [
       "<IPython.core.display.Markdown object>"
      ]
     },
     "metadata": {},
     "output_type": "display_data"
    },
    {
     "name": "stdout",
     "output_type": "stream",
     "text": [
      "<class 'pandas.core.frame.DataFrame'>\n",
      "RangeIndex: 486 entries, 0 to 485\n",
      "Data columns (total 2 columns):\n",
      " #   Column                                                        Non-Null Count  Dtype  \n",
      "---  ------                                                        --------------  -----  \n",
      " 0   Fecha                                                         486 non-null    object \n",
      " 1   Tasa de casos nuevos de casos nuevos por cien mil habitantes  480 non-null    float64\n",
      "dtypes: float64(1), object(1)\n",
      "memory usage: 35.7 KB\n"
     ]
    },
    {
     "data": {
      "text/markdown": [
       "<hr>"
      ],
      "text/plain": [
       "<IPython.core.display.Markdown object>"
      ]
     },
     "metadata": {},
     "output_type": "display_data"
    },
    {
     "data": {
      "text/markdown": [
       "<a style=\"font-size:18px\" href=\"https://raw.githubusercontent.com/pandemiaventana/pandemiaventana/main/out/site/csv/data1.csv\">\"DATA1.CSV\"</a>"
      ],
      "text/plain": [
       "<IPython.core.display.Markdown object>"
      ]
     },
     "metadata": {},
     "output_type": "display_data"
    },
    {
     "data": {
      "text/markdown": [
       "Tiene las siguientes columnas (**3** sin el índice):"
      ],
      "text/plain": [
       "<IPython.core.display.Markdown object>"
      ]
     },
     "metadata": {},
     "output_type": "display_data"
    },
    {
     "name": "stdout",
     "output_type": "stream",
     "text": [
      "<class 'pandas.core.frame.DataFrame'>\n",
      "RangeIndex: 7 entries, 0 to 6\n",
      "Data columns (total 4 columns):\n",
      " #   Column                                 Non-Null Count  Dtype  \n",
      "---  ------                                 --------------  -----  \n",
      " 0   Fecha                                  7 non-null      object \n",
      " 1   Casos nuevos últimos siete días        7 non-null      float64\n",
      " 2   Recuperados nuevos últimos siete días  7 non-null      float64\n",
      " 3   Fallecidos nuevos últimos siete días   7 non-null      float64\n",
      "dtypes: float64(3), object(1)\n",
      "memory usage: 765.0 bytes\n"
     ]
    },
    {
     "data": {
      "text/markdown": [
       "<hr>"
      ],
      "text/plain": [
       "<IPython.core.display.Markdown object>"
      ]
     },
     "metadata": {},
     "output_type": "display_data"
    },
    {
     "data": {
      "text/markdown": [
       "<a style=\"font-size:18px\" href=\"https://raw.githubusercontent.com/pandemiaventana/pandemiaventana/main/out/site/csv/data2.csv\">\"DATA2.CSV\"</a>"
      ],
      "text/plain": [
       "<IPython.core.display.Markdown object>"
      ]
     },
     "metadata": {},
     "output_type": "display_data"
    },
    {
     "data": {
      "text/markdown": [
       "Tiene las siguientes columnas (**2** sin el índice):"
      ],
      "text/plain": [
       "<IPython.core.display.Markdown object>"
      ]
     },
     "metadata": {},
     "output_type": "display_data"
    },
    {
     "name": "stdout",
     "output_type": "stream",
     "text": [
      "<class 'pandas.core.frame.DataFrame'>\n",
      "RangeIndex: 7 entries, 0 to 6\n",
      "Data columns (total 3 columns):\n",
      " #   Column                                        Non-Null Count  Dtype  \n",
      "---  ------                                        --------------  -----  \n",
      " 0   Fecha                                         7 non-null      object \n",
      " 1   Casos activos confirmados últimos siete días  7 non-null      float64\n",
      " 2   Casos activos probables últimos siete días    7 non-null      float64\n",
      "dtypes: float64(2), object(1)\n",
      "memory usage: 709.0 bytes\n"
     ]
    },
    {
     "data": {
      "text/markdown": [
       "<hr>"
      ],
      "text/plain": [
       "<IPython.core.display.Markdown object>"
      ]
     },
     "metadata": {},
     "output_type": "display_data"
    },
    {
     "data": {
      "text/markdown": [
       "<a style=\"font-size:18px\" href=\"https://raw.githubusercontent.com/pandemiaventana/pandemiaventana/main/out/site/csv/data19.csv\">\"DATA19.CSV\"</a>"
      ],
      "text/plain": [
       "<IPython.core.display.Markdown object>"
      ]
     },
     "metadata": {},
     "output_type": "display_data"
    },
    {
     "data": {
      "text/markdown": [
       "Tiene las siguientes columnas (**2** sin el índice):"
      ],
      "text/plain": [
       "<IPython.core.display.Markdown object>"
      ]
     },
     "metadata": {},
     "output_type": "display_data"
    },
    {
     "name": "stdout",
     "output_type": "stream",
     "text": [
      "<class 'pandas.core.frame.DataFrame'>\n",
      "RangeIndex: 486 entries, 0 to 485\n",
      "Data columns (total 3 columns):\n",
      " #   Column                                              Non-Null Count  Dtype  \n",
      "---  ------                                              --------------  -----  \n",
      " 0   Fecha                                               486 non-null    object \n",
      " 1   Antígenos informados nuevos                         27 non-null     float64\n",
      " 2   Media móvil semanal de antígenos informados nuevos  21 non-null     float64\n",
      "dtypes: float64(2), object(1)\n",
      "memory usage: 39.5 KB\n"
     ]
    },
    {
     "data": {
      "text/markdown": [
       "<hr>"
      ],
      "text/plain": [
       "<IPython.core.display.Markdown object>"
      ]
     },
     "metadata": {},
     "output_type": "display_data"
    },
    {
     "data": {
      "text/markdown": [
       "<a style=\"font-size:18px\" href=\"https://raw.githubusercontent.com/pandemiaventana/pandemiaventana/main/out/site/csv/data17.csv\">\"DATA17.CSV\"</a>"
      ],
      "text/plain": [
       "<IPython.core.display.Markdown object>"
      ]
     },
     "metadata": {},
     "output_type": "display_data"
    },
    {
     "data": {
      "text/markdown": [
       "Tiene las siguientes columnas (**2** sin el índice):"
      ],
      "text/plain": [
       "<IPython.core.display.Markdown object>"
      ]
     },
     "metadata": {},
     "output_type": "display_data"
    },
    {
     "name": "stdout",
     "output_type": "stream",
     "text": [
      "<class 'pandas.core.frame.DataFrame'>\n",
      "RangeIndex: 486 entries, 0 to 485\n",
      "Data columns (total 3 columns):\n",
      " #   Column                   Non-Null Count  Dtype  \n",
      "---  ------                   --------------  -----  \n",
      " 0   Fecha                    486 non-null    object \n",
      " 1   Cupos en residencias     398 non-null    float64\n",
      " 2   Usuarios en residencias  398 non-null    float64\n",
      "dtypes: float64(2), object(1)\n",
      "memory usage: 39.5 KB\n"
     ]
    },
    {
     "data": {
      "text/markdown": [
       "<hr>"
      ],
      "text/plain": [
       "<IPython.core.display.Markdown object>"
      ]
     },
     "metadata": {},
     "output_type": "display_data"
    },
    {
     "data": {
      "text/markdown": [
       "<a style=\"font-size:18px\" href=\"https://raw.githubusercontent.com/pandemiaventana/pandemiaventana/main/out/site/csv/numeralab.csv\">\"NUMERALAB.CSV\"</a>"
      ],
      "text/plain": [
       "<IPython.core.display.Markdown object>"
      ]
     },
     "metadata": {},
     "output_type": "display_data"
    },
    {
     "data": {
      "text/markdown": [
       "Tiene las siguientes columnas (**140** sin el índice):"
      ],
      "text/plain": [
       "<IPython.core.display.Markdown object>"
      ]
     },
     "metadata": {},
     "output_type": "display_data"
    },
    {
     "name": "stdout",
     "output_type": "stream",
     "text": [
      "<class 'pandas.core.frame.DataFrame'>\n",
      "RangeIndex: 486 entries, 0 to 485\n",
      "Data columns (total 141 columns):\n",
      " #    Column                                         Non-Null Count  Dtype  \n",
      "---   ------                                         --------------  -----  \n",
      " 0    Fecha                                          486 non-null    object \n",
      " 1    Casos confirmados acumulados                   486 non-null    float64\n",
      " 2    Casos recuperados acumulados                   451 non-null    float64\n",
      " 3    Casos fallecidos acumulados                    467 non-null    float64\n",
      " 4    Casos activos confirmados                      466 non-null    float64\n",
      " 5    Casos activos probables                        376 non-null    float64\n",
      " 6    Casos nuevos                                   486 non-null    float64\n",
      " 7    Casos nuevos con sintomas                      486 non-null    float64\n",
      " 8    Casos nuevos sin sintomas                      429 non-null    float64\n",
      " 9    Casos nuevos por laboratorio                   379 non-null    float64\n",
      " 10   Casos nuevos por antigeno                      127 non-null    float64\n",
      " 11   Casos con sospecha de reinfeccion              127 non-null    float64\n",
      " 12   Casos recuperados nuevos                       450 non-null    float64\n",
      " 13   Casos fallecidos nuevos                        466 non-null    float64\n",
      " 14   Antigenos informados nuevos                    27 non-null     float64\n",
      " 15   Antigenos informados acumulados                27 non-null     float64\n",
      " 16   PCR informados nuevos                          441 non-null    float64\n",
      " 17   PCR informados acumulados                      441 non-null    float64\n",
      " 18   Cupos en residencias                           398 non-null    float64\n",
      " 19   Usuarios en residencias                        398 non-null    float64\n",
      " 20   Numero de residencias                          398 non-null    float64\n",
      " 21   UCI habilitadas                                442 non-null    float64\n",
      " 22   UCI ocupadas por confirmados                   457 non-null    float64\n",
      " 23   UCI ocupadas por no confirmados                442 non-null    float64\n",
      " 24   UCI ocupacion media movil real                 436 non-null    float64\n",
      " 25   Re regional                                    476 non-null    float64\n",
      " 26   Re Iquique                                     469 non-null    float64\n",
      " 27   Re Tamarugal                                   469 non-null    float64\n",
      " 28   Positividad diaria                             441 non-null    float64\n",
      " 29   Vacunados acumulados 1° dosis                  188 non-null    float64\n",
      " 30   Vacunados acumulados 2° dosis                  188 non-null    float64\n",
      " 31   Vacunados acumulados unica dosis               188 non-null    float64\n",
      " 32   Casos acumulados en Alto Hospicio              133 non-null    float64\n",
      " 33   Casos acumulados en Camiña                     133 non-null    float64\n",
      " 34   Casos acumulados en Colchane                   133 non-null    float64\n",
      " 35   Casos acumulados en Huara                      133 non-null    float64\n",
      " 36   Casos acumulados en Iquique                    133 non-null    float64\n",
      " 37   Casos acumulados en Pica                       133 non-null    float64\n",
      " 38   Casos acumulados en Pozo Almonte               133 non-null    float64\n",
      " 39   Casos acumulados en Comuna desconocida         107 non-null    float64\n",
      " 40   Casos activos en Alto Hospicio                 127 non-null    float64\n",
      " 41   Casos activos en Camiña                        127 non-null    float64\n",
      " 42   Casos activos en Colchane                      127 non-null    float64\n",
      " 43   Casos activos en Huara                         127 non-null    float64\n",
      " 44   Casos activos en Iquique                       127 non-null    float64\n",
      " 45   Casos activos en Pica                          127 non-null    float64\n",
      " 46   Casos activos en Pozo Almonte                  127 non-null    float64\n",
      " 47   Casos activos en Comuna desconocida            107 non-null    float64\n",
      " 48   Paso a Paso Alto Hospicio                      339 non-null    float64\n",
      " 49   Paso a Paso Camiña                             339 non-null    float64\n",
      " 50   Paso a Paso Colchane                           339 non-null    float64\n",
      " 51   Paso a Paso Huara                              339 non-null    float64\n",
      " 52   Paso a Paso Iquique                            339 non-null    float64\n",
      " 53   Paso a Paso Pica                               339 non-null    float64\n",
      " 54   Paso a Paso Pozo Almonte                       339 non-null    float64\n",
      " 55   Paso a Paso (dias) Alto Hospicio               339 non-null    float64\n",
      " 56   Paso a Paso (dias) Camiña                      339 non-null    float64\n",
      " 57   Paso a Paso (dias) Colchane                    339 non-null    float64\n",
      " 58   Paso a Paso (dias) Huara                       339 non-null    float64\n",
      " 59   Paso a Paso (dias) Iquique                     339 non-null    float64\n",
      " 60   Paso a Paso (dias) Pica                        339 non-null    float64\n",
      " 61   Paso a Paso (dias) Pozo Almonte                339 non-null    float64\n",
      " 62   Movilidad Iquique                              435 non-null    float64\n",
      " 63   Movilidad Pica                                 435 non-null    float64\n",
      " 64   Movilidad Alto Hospicio                        435 non-null    float64\n",
      " 65   Movilidad Pozo almonte                         435 non-null    float64\n",
      " 66   Movilidad Huara                                435 non-null    float64\n",
      " 67   Notificacion PCR Alto Hospicio                 309 non-null    float64\n",
      " 68   Notificacion PCR Camiña                        309 non-null    float64\n",
      " 69   Notificacion PCR Colchane                      309 non-null    float64\n",
      " 70   Notificacion PCR Huara                         309 non-null    float64\n",
      " 71   Notificacion PCR Iquique                       309 non-null    float64\n",
      " 72   Notificacion PCR Pica                          309 non-null    float64\n",
      " 73   Notificacion PCR Pozo Almonte                  309 non-null    float64\n",
      " 74   BAC Alto Hospicio                              309 non-null    float64\n",
      " 75   BAC Camiña                                     309 non-null    float64\n",
      " 76   BAC Colchane                                   309 non-null    float64\n",
      " 77   BAC Huara                                      309 non-null    float64\n",
      " 78   BAC Iquique                                    309 non-null    float64\n",
      " 79   BAC Pica                                       309 non-null    float64\n",
      " 80   BAC Pozo Almonte                               309 non-null    float64\n",
      " 81   Positividad Alto Hospicio                      309 non-null    float64\n",
      " 82   Positividad Camiña                             309 non-null    float64\n",
      " 83   Positividad Colchane                           309 non-null    float64\n",
      " 84   Positividad Huara                              309 non-null    float64\n",
      " 85   Positividad Iquique                            309 non-null    float64\n",
      " 86   Positividad Pica                               309 non-null    float64\n",
      " 87   Positividad Pozo Almonte                       309 non-null    float64\n",
      " 88   Cobertura de testeo Alto Hospicio              309 non-null    float64\n",
      " 89   Cobertura de testeo Camiña                     309 non-null    float64\n",
      " 90   Cobertura de testeo Colchane                   309 non-null    float64\n",
      " 91   Cobertura de testeo Huara                      309 non-null    float64\n",
      " 92   Cobertura de testeo Iquique                    309 non-null    float64\n",
      " 93   Cobertura de testeo Pica                       309 non-null    float64\n",
      " 94   Cobertura de testeo Pozo Almonte               309 non-null    float64\n",
      " 95   Oportunidad en notificacion Alto Hospicio      309 non-null    float64\n",
      " 96   Oportunidad en notificacion Camiña             309 non-null    float64\n",
      " 97   Oportunidad en notificacion Colchane           309 non-null    float64\n",
      " 98   Oportunidad en notificacion Huara              309 non-null    float64\n",
      " 99   Oportunidad en notificacion Iquique            309 non-null    float64\n",
      " 100  Oportunidad en notificacion Pica               309 non-null    float64\n",
      " 101  Oportunidad en notificacion Pozo Almonte       309 non-null    float64\n",
      " 102  Fallecidos Alto Hospicio                       382 non-null    float64\n",
      " 103  Fallecidos Camiña                              382 non-null    float64\n",
      " 104  Fallecidos Colchane                            382 non-null    float64\n",
      " 105  Fallecidos Huara                               382 non-null    float64\n",
      " 106  Fallecidos Iquique                             382 non-null    float64\n",
      " 107  Fallecidos Pica                                382 non-null    float64\n",
      " 108  Fallecidos Pozo Almonte                        382 non-null    float64\n",
      " 109  Fallecidos Comuna desconocida                  375 non-null    float64\n",
      " 110  Fallecidos total comunal                       382 non-null    float64\n",
      " 111  Fallecidos confirmados DEIS Alto Hospicio      295 non-null    float64\n",
      " 112  Fallecidos confirmados DEIS Camiña             295 non-null    float64\n",
      " 113  Fallecidos confirmados DEIS Colchane           295 non-null    float64\n",
      " 114  Fallecidos confirmados DEIS Huara              295 non-null    float64\n",
      " 115  Fallecidos confirmados DEIS Iquique            295 non-null    float64\n",
      " 116  Fallecidos confirmados DEIS Pica               295 non-null    float64\n",
      " 117  Fallecidos confirmados DEIS Pozo Almonte       295 non-null    float64\n",
      " 118  Fallecidos probables DEIS Alto Hospicio        295 non-null    float64\n",
      " 119  Fallecidos probables DEIS Camiña               295 non-null    float64\n",
      " 120  Fallecidos probables DEIS Colchane             295 non-null    float64\n",
      " 121  Fallecidos probables DEIS Huara                295 non-null    float64\n",
      " 122  Fallecidos probables DEIS Iquique              295 non-null    float64\n",
      " 123  Fallecidos probables DEIS Pica                 295 non-null    float64\n",
      " 124  Fallecidos probables DEIS Pozo Almonte         295 non-null    float64\n",
      " 125  Positividad media movil *                      423 non-null    float64\n",
      " 126  Mortalidad especifica *                        467 non-null    float64\n",
      " 127  Crecimiento semanal *                          466 non-null    float64\n",
      " 128  Crecimiento diario *                           465 non-null    float64\n",
      " 129  UCI ocupacion media movil aprox *              438 non-null    float64\n",
      " 130  UCI error abs *                                436 non-null    float64\n",
      " 131  Tasa casos nuevos *                            480 non-null    float64\n",
      " 132  Positividad antigeno *                         27 non-null     float64\n",
      " 133  Positividad antigeno media movil *             21 non-null     float64\n",
      " 134  Mortalidad especifica comunal Alto Hospicio *  295 non-null    float64\n",
      " 135  Mortalidad especifica comunal Camiña *         295 non-null    float64\n",
      " 136  Mortalidad especifica comunal Colchane *       295 non-null    float64\n",
      " 137  Mortalidad especifica comunal Huara *          295 non-null    float64\n",
      " 138  Mortalidad especifica comunal Iquique *        295 non-null    float64\n",
      " 139  Mortalidad especifica comunal Pica *           295 non-null    float64\n",
      " 140  Mortalidad especifica comunal Pozo Almonte *   295 non-null    float64\n",
      "dtypes: float64(140), object(1)\n",
      "memory usage: 563.5 KB\n"
     ]
    },
    {
     "data": {
      "text/markdown": [
       "<hr>"
      ],
      "text/plain": [
       "<IPython.core.display.Markdown object>"
      ]
     },
     "metadata": {},
     "output_type": "display_data"
    },
    {
     "data": {
      "text/markdown": [
       "<a style=\"font-size:18px\" href=\"https://raw.githubusercontent.com/pandemiaventana/pandemiaventana/main/out/site/csv/data23.csv\">\"DATA23.CSV\"</a>"
      ],
      "text/plain": [
       "<IPython.core.display.Markdown object>"
      ]
     },
     "metadata": {},
     "output_type": "display_data"
    },
    {
     "data": {
      "text/markdown": [
       "Tiene las siguientes columnas (**1** sin el índice):"
      ],
      "text/plain": [
       "<IPython.core.display.Markdown object>"
      ]
     },
     "metadata": {},
     "output_type": "display_data"
    },
    {
     "name": "stdout",
     "output_type": "stream",
     "text": [
      "<class 'pandas.core.frame.DataFrame'>\n",
      "RangeIndex: 486 entries, 0 to 485\n",
      "Data columns (total 2 columns):\n",
      " #   Column                                         Non-Null Count  Dtype  \n",
      "---  ------                                         --------------  -----  \n",
      " 0   Fecha                                          486 non-null    object \n",
      " 1   Mortalidad específica por cien mil habitantes  467 non-null    float64\n",
      "dtypes: float64(1), object(1)\n",
      "memory usage: 35.7 KB\n"
     ]
    },
    {
     "data": {
      "text/markdown": [
       "<hr>"
      ],
      "text/plain": [
       "<IPython.core.display.Markdown object>"
      ]
     },
     "metadata": {},
     "output_type": "display_data"
    },
    {
     "data": {
      "text/markdown": [
       "<a style=\"font-size:18px\" href=\"https://raw.githubusercontent.com/pandemiaventana/pandemiaventana/main/out/site/csv/data7.csv\">\"DATA7.CSV\"</a>"
      ],
      "text/plain": [
       "<IPython.core.display.Markdown object>"
      ]
     },
     "metadata": {},
     "output_type": "display_data"
    },
    {
     "data": {
      "text/markdown": [
       "Tiene las siguientes columnas (**2** sin el índice):"
      ],
      "text/plain": [
       "<IPython.core.display.Markdown object>"
      ]
     },
     "metadata": {},
     "output_type": "display_data"
    },
    {
     "name": "stdout",
     "output_type": "stream",
     "text": [
      "<class 'pandas.core.frame.DataFrame'>\n",
      "RangeIndex: 486 entries, 0 to 485\n",
      "Data columns (total 3 columns):\n",
      " #   Column                     Non-Null Count  Dtype  \n",
      "---  ------                     --------------  -----  \n",
      " 0   Fecha                      486 non-null    object \n",
      " 1   Positividad diaria         441 non-null    float64\n",
      " 2   Positividad media movil *  423 non-null    float64\n",
      "dtypes: float64(2), object(1)\n",
      "memory usage: 39.5 KB\n"
     ]
    },
    {
     "data": {
      "text/markdown": [
       "<hr>"
      ],
      "text/plain": [
       "<IPython.core.display.Markdown object>"
      ]
     },
     "metadata": {},
     "output_type": "display_data"
    },
    {
     "data": {
      "text/markdown": [
       "<a style=\"font-size:18px\" href=\"https://raw.githubusercontent.com/pandemiaventana/pandemiaventana/main/out/site/csv/data3.csv\">\"DATA3.CSV\"</a>"
      ],
      "text/plain": [
       "<IPython.core.display.Markdown object>"
      ]
     },
     "metadata": {},
     "output_type": "display_data"
    },
    {
     "data": {
      "text/markdown": [
       "Tiene las siguientes columnas (**3** sin el índice):"
      ],
      "text/plain": [
       "<IPython.core.display.Markdown object>"
      ]
     },
     "metadata": {},
     "output_type": "display_data"
    },
    {
     "name": "stdout",
     "output_type": "stream",
     "text": [
      "<class 'pandas.core.frame.DataFrame'>\n",
      "RangeIndex: 486 entries, 0 to 485\n",
      "Data columns (total 4 columns):\n",
      " #   Column                         Non-Null Count  Dtype  \n",
      "---  ------                         --------------  -----  \n",
      " 0   Fecha                          486 non-null    object \n",
      " 1   Casos nuevos históricos        486 non-null    float64\n",
      " 2   Recuperados nuevos históricos  450 non-null    float64\n",
      " 3   Fallecidos nuevos históricos   466 non-null    float64\n",
      "dtypes: float64(3), object(1)\n",
      "memory usage: 43.3 KB\n"
     ]
    },
    {
     "data": {
      "text/markdown": [
       "<hr>"
      ],
      "text/plain": [
       "<IPython.core.display.Markdown object>"
      ]
     },
     "metadata": {},
     "output_type": "display_data"
    },
    {
     "data": {
      "text/markdown": [
       "<a style=\"font-size:18px\" href=\"https://raw.githubusercontent.com/pandemiaventana/pandemiaventana/main/out/site/csv/data13.csv\">\"DATA13.CSV\"</a>"
      ],
      "text/plain": [
       "<IPython.core.display.Markdown object>"
      ]
     },
     "metadata": {},
     "output_type": "display_data"
    },
    {
     "data": {
      "text/markdown": [
       "Tiene las siguientes columnas (**9** sin el índice):"
      ],
      "text/plain": [
       "<IPython.core.display.Markdown object>"
      ]
     },
     "metadata": {},
     "output_type": "display_data"
    },
    {
     "name": "stdout",
     "output_type": "stream",
     "text": [
      "<class 'pandas.core.frame.DataFrame'>\n",
      "RangeIndex: 486 entries, 0 to 485\n",
      "Data columns (total 10 columns):\n",
      " #   Column                         Non-Null Count  Dtype  \n",
      "---  ------                         --------------  -----  \n",
      " 0   Fecha                          486 non-null    object \n",
      " 1   Fallecidos Alto Hospicio       382 non-null    float64\n",
      " 2   Fallecidos Camiña              382 non-null    float64\n",
      " 3   Fallecidos Colchane            382 non-null    float64\n",
      " 4   Fallecidos Huara               382 non-null    float64\n",
      " 5   Fallecidos Iquique             382 non-null    float64\n",
      " 6   Fallecidos Pica                382 non-null    float64\n",
      " 7   Fallecidos Pozo Almonte        382 non-null    float64\n",
      " 8   Fallecidos Comuna desconocida  375 non-null    float64\n",
      " 9   Fallecidos total comunal       382 non-null    float64\n",
      "dtypes: float64(9), object(1)\n",
      "memory usage: 66.1 KB\n"
     ]
    },
    {
     "data": {
      "text/markdown": [
       "<hr>"
      ],
      "text/plain": [
       "<IPython.core.display.Markdown object>"
      ]
     },
     "metadata": {},
     "output_type": "display_data"
    },
    {
     "data": {
      "text/markdown": [
       "<a style=\"font-size:18px\" href=\"https://raw.githubusercontent.com/pandemiaventana/pandemiaventana/main/out/site/csv/data9.csv\">\"DATA9.CSV\"</a>"
      ],
      "text/plain": [
       "<IPython.core.display.Markdown object>"
      ]
     },
     "metadata": {},
     "output_type": "display_data"
    },
    {
     "data": {
      "text/markdown": [
       "Tiene las siguientes columnas (**2** sin el índice):"
      ],
      "text/plain": [
       "<IPython.core.display.Markdown object>"
      ]
     },
     "metadata": {},
     "output_type": "display_data"
    },
    {
     "name": "stdout",
     "output_type": "stream",
     "text": [
      "<class 'pandas.core.frame.DataFrame'>\n",
      "RangeIndex: 486 entries, 0 to 485\n",
      "Data columns (total 3 columns):\n",
      " #   Column                 Non-Null Count  Dtype  \n",
      "---  ------                 --------------  -----  \n",
      " 0   Fecha                  486 non-null    object \n",
      " 1   Crecimiento diario *   465 non-null    float64\n",
      " 2   Crecimiento semanal *  466 non-null    float64\n",
      "dtypes: float64(2), object(1)\n",
      "memory usage: 39.5 KB\n"
     ]
    },
    {
     "data": {
      "text/markdown": [
       "<hr>"
      ],
      "text/plain": [
       "<IPython.core.display.Markdown object>"
      ]
     },
     "metadata": {},
     "output_type": "display_data"
    },
    {
     "data": {
      "text/markdown": [
       "<a style=\"font-size:18px\" href=\"https://raw.githubusercontent.com/pandemiaventana/pandemiaventana/main/out/site/csv/data6.csv\">\"DATA6.CSV\"</a>"
      ],
      "text/plain": [
       "<IPython.core.display.Markdown object>"
      ]
     },
     "metadata": {},
     "output_type": "display_data"
    },
    {
     "data": {
      "text/markdown": [
       "Tiene las siguientes columnas (**3** sin el índice):"
      ],
      "text/plain": [
       "<IPython.core.display.Markdown object>"
      ]
     },
     "metadata": {},
     "output_type": "display_data"
    },
    {
     "name": "stdout",
     "output_type": "stream",
     "text": [
      "<class 'pandas.core.frame.DataFrame'>\n",
      "RangeIndex: 486 entries, 0 to 485\n",
      "Data columns (total 4 columns):\n",
      " #   Column                                     Non-Null Count  Dtype  \n",
      "---  ------                                     --------------  -----  \n",
      " 0   Fecha                                      486 non-null    object \n",
      " 1   Media móvil semanal de casos nuevos        480 non-null    float64\n",
      " 2   Media móvil semanal de recuperados nuevos  444 non-null    float64\n",
      " 3   Media móvil semanal de fallecidos nuevos   460 non-null    float64\n",
      "dtypes: float64(3), object(1)\n",
      "memory usage: 43.3 KB\n"
     ]
    },
    {
     "data": {
      "text/markdown": [
       "<hr>"
      ],
      "text/plain": [
       "<IPython.core.display.Markdown object>"
      ]
     },
     "metadata": {},
     "output_type": "display_data"
    },
    {
     "data": {
      "text/markdown": [
       "<a style=\"font-size:18px\" href=\"https://raw.githubusercontent.com/pandemiaventana/pandemiaventana/main/out/site/csv/data12.csv\">\"DATA12.CSV\"</a>"
      ],
      "text/plain": [
       "<IPython.core.display.Markdown object>"
      ]
     },
     "metadata": {},
     "output_type": "display_data"
    },
    {
     "data": {
      "text/markdown": [
       "Tiene las siguientes columnas (**8** sin el índice):"
      ],
      "text/plain": [
       "<IPython.core.display.Markdown object>"
      ]
     },
     "metadata": {},
     "output_type": "display_data"
    },
    {
     "name": "stdout",
     "output_type": "stream",
     "text": [
      "<class 'pandas.core.frame.DataFrame'>\n",
      "RangeIndex: 486 entries, 0 to 485\n",
      "Data columns (total 9 columns):\n",
      " #   Column                               Non-Null Count  Dtype  \n",
      "---  ------                               --------------  -----  \n",
      " 0   Fecha                                486 non-null    object \n",
      " 1   Casos activos en Alto Hospicio       127 non-null    float64\n",
      " 2   Casos activos en Camiña              127 non-null    float64\n",
      " 3   Casos activos en Colchane            127 non-null    float64\n",
      " 4   Casos activos en Huara               127 non-null    float64\n",
      " 5   Casos activos en Iquique             127 non-null    float64\n",
      " 6   Casos activos en Pica                127 non-null    float64\n",
      " 7   Casos activos en Pozo Almonte        127 non-null    float64\n",
      " 8   Casos activos en Comuna desconocida  107 non-null    float64\n",
      "dtypes: float64(8), object(1)\n",
      "memory usage: 62.3 KB\n"
     ]
    },
    {
     "data": {
      "text/markdown": [
       "<hr>"
      ],
      "text/plain": [
       "<IPython.core.display.Markdown object>"
      ]
     },
     "metadata": {},
     "output_type": "display_data"
    },
    {
     "data": {
      "text/markdown": [
       "<a style=\"font-size:18px\" href=\"https://raw.githubusercontent.com/pandemiaventana/pandemiaventana/main/out/site/csv/data15.csv\">\"DATA15.CSV\"</a>"
      ],
      "text/plain": [
       "<IPython.core.display.Markdown object>"
      ]
     },
     "metadata": {},
     "output_type": "display_data"
    },
    {
     "data": {
      "text/markdown": [
       "Tiene las siguientes columnas (**7** sin el índice):"
      ],
      "text/plain": [
       "<IPython.core.display.Markdown object>"
      ]
     },
     "metadata": {},
     "output_type": "display_data"
    },
    {
     "name": "stdout",
     "output_type": "stream",
     "text": [
      "<class 'pandas.core.frame.DataFrame'>\n",
      "RangeIndex: 486 entries, 0 to 485\n",
      "Data columns (total 8 columns):\n",
      " #   Column                                   Non-Null Count  Dtype  \n",
      "---  ------                                   --------------  -----  \n",
      " 0   Fecha                                    486 non-null    object \n",
      " 1   Fallecidos probables DEIS Alto Hospicio  295 non-null    float64\n",
      " 2   Fallecidos probables DEIS Camiña         295 non-null    float64\n",
      " 3   Fallecidos probables DEIS Colchane       295 non-null    float64\n",
      " 4   Fallecidos probables DEIS Huara          295 non-null    float64\n",
      " 5   Fallecidos probables DEIS Iquique        295 non-null    float64\n",
      " 6   Fallecidos probables DEIS Pica           295 non-null    float64\n",
      " 7   Fallecidos probables DEIS Pozo Almonte   295 non-null    float64\n",
      "dtypes: float64(7), object(1)\n",
      "memory usage: 58.5 KB\n"
     ]
    },
    {
     "data": {
      "text/markdown": [
       "<hr>"
      ],
      "text/plain": [
       "<IPython.core.display.Markdown object>"
      ]
     },
     "metadata": {},
     "output_type": "display_data"
    },
    {
     "data": {
      "text/markdown": [
       "<a style=\"font-size:18px\" href=\"https://raw.githubusercontent.com/pandemiaventana/pandemiaventana/main/out/site/csv/data25.csv\">\"DATA25.CSV\"</a>"
      ],
      "text/plain": [
       "<IPython.core.display.Markdown object>"
      ]
     },
     "metadata": {},
     "output_type": "display_data"
    },
    {
     "data": {
      "text/markdown": [
       "Tiene las siguientes columnas (**3** sin el índice):"
      ],
      "text/plain": [
       "<IPython.core.display.Markdown object>"
      ]
     },
     "metadata": {},
     "output_type": "display_data"
    },
    {
     "name": "stdout",
     "output_type": "stream",
     "text": [
      "<class 'pandas.core.frame.DataFrame'>\n",
      "RangeIndex: 486 entries, 0 to 485\n",
      "Data columns (total 4 columns):\n",
      " #   Column                            Non-Null Count  Dtype  \n",
      "---  ------                            --------------  -----  \n",
      " 0   Fecha                             486 non-null    object \n",
      " 1   Vacunados acumulados 1° dosis     188 non-null    float64\n",
      " 2   Vacunados acumulados 2° dosis     188 non-null    float64\n",
      " 3   Vacunados acumulados unica dosis  188 non-null    float64\n",
      "dtypes: float64(3), object(1)\n",
      "memory usage: 43.3 KB\n"
     ]
    },
    {
     "data": {
      "text/markdown": [
       "<hr>"
      ],
      "text/plain": [
       "<IPython.core.display.Markdown object>"
      ]
     },
     "metadata": {},
     "output_type": "display_data"
    },
    {
     "data": {
      "text/markdown": [
       "<a style=\"font-size:18px\" href=\"https://raw.githubusercontent.com/pandemiaventana/pandemiaventana/main/out/site/csv/data10.csv\">\"DATA10.CSV\"</a>"
      ],
      "text/plain": [
       "<IPython.core.display.Markdown object>"
      ]
     },
     "metadata": {},
     "output_type": "display_data"
    },
    {
     "data": {
      "text/markdown": [
       "Tiene las siguientes columnas (**8** sin el índice):"
      ],
      "text/plain": [
       "<IPython.core.display.Markdown object>"
      ]
     },
     "metadata": {},
     "output_type": "display_data"
    },
    {
     "name": "stdout",
     "output_type": "stream",
     "text": [
      "<class 'pandas.core.frame.DataFrame'>\n",
      "RangeIndex: 486 entries, 0 to 485\n",
      "Data columns (total 9 columns):\n",
      " #   Column                                  Non-Null Count  Dtype  \n",
      "---  ------                                  --------------  -----  \n",
      " 0   Fecha                                   486 non-null    object \n",
      " 1   Casos acumulados en Alto Hospicio       133 non-null    float64\n",
      " 2   Casos acumulados en Camiña              133 non-null    float64\n",
      " 3   Casos acumulados en Colchane            133 non-null    float64\n",
      " 4   Casos acumulados en Huara               133 non-null    float64\n",
      " 5   Casos acumulados en Iquique             133 non-null    float64\n",
      " 6   Casos acumulados en Pica                133 non-null    float64\n",
      " 7   Casos acumulados en Pozo Almonte        133 non-null    float64\n",
      " 8   Casos acumulados en Comuna desconocida  107 non-null    float64\n",
      "dtypes: float64(8), object(1)\n",
      "memory usage: 62.3 KB\n"
     ]
    },
    {
     "data": {
      "text/markdown": [
       "<hr>"
      ],
      "text/plain": [
       "<IPython.core.display.Markdown object>"
      ]
     },
     "metadata": {},
     "output_type": "display_data"
    }
   ],
   "source": [
    "### Mostrando archivos CSV\n",
    "for string in [name for name in os.listdir('./../../out/site/csv')]:\n",
    "    \n",
    "    ### Título\n",
    "    \n",
    "    display(Markdown('<a style=\"font-size:18px\" href=\"https://raw.githubusercontent.com/pandemiaventana/pandemiaventana/main/out/site/csv/{}\">\"{}\"</a>'.format(string, string.upper())))\n",
    "    ### Leemos\n",
    "    \n",
    "    csv = pd.read_csv('./../../out/site/csv/{}'.format(string))\n",
    "    \n",
    "    ### Info de pandas\n",
    "    \n",
    "    display(Markdown('Tiene las siguientes columnas (**{}** sin el índice):'.format(len(csv.columns) - 1)))\n",
    "    \n",
    "    csv.info(max_cols=len(csv.columns), memory_usage='deep')\n",
    "    \n",
    "    display(Markdown('<hr>'))"
   ]
  },
  {
   "cell_type": "markdown",
   "id": "3e172202",
   "metadata": {},
   "source": [
    "## Salida para Markdown"
   ]
  },
  {
   "cell_type": "code",
   "execution_count": 3,
   "id": "d3f63fda",
   "metadata": {},
   "outputs": [
    {
     "data": {
      "application/javascript": [
       "{\n",
       "    let outputs=[...document.querySelectorAll(\".cell\")].map(\n",
       "        cell=> {\n",
       "            let output=cell.querySelector(\".output\")\n",
       "            if(output) return output.innerHTML\n",
       "            output=cell.querySelector(\".rendered_html\")\n",
       "            if(output) return output.innerHTML\n",
       "            return \"\"\n",
       "        }\n",
       "    )\n",
       "    \n",
       "    IPython.notebook.kernel.execute(\"cell_outputs=\"+JSON.stringify(outputs))\n",
       "    IPython.notebook.kernel.execute(\"soup = BeautifulSoup(cell_outputs[3])\")\n",
       "    IPython.notebook.kernel.execute(\"removals = soup.find_all(attrs={'class': 'prompt'})\")\n",
       "    IPython.notebook.kernel.execute(\"for removal in removals: removal.decompose()\")\n",
       "    IPython.notebook.kernel.execute(\"soup = str(soup)\")   \n",
       "    IPython.notebook.kernel.execute(\"op = open('../../README.md' , 'w', encoding='utf-8')\")\n",
       "    IPython.notebook.kernel.execute(\"full = txt1 + md(soup)\")\n",
       "    IPython.notebook.kernel.execute(\"op.writelines(full)\")\n",
       "    IPython.notebook.kernel.execute(\"op.close()\")\n",
       "}"
      ],
      "text/plain": [
       "<IPython.core.display.Javascript object>"
      ]
     },
     "execution_count": 3,
     "metadata": {},
     "output_type": "execute_result"
    }
   ],
   "source": [
    "txt1 = '''# La pandemia por la ventana \\n\n",
    "\n",
    "![Ilustración por Bernardo Dinamarca](https://github.com/pandemiaventana/pandemiaventana/blob/main/img/page/2_cover.png?raw=true)\n",
    "\n",
    "**Ilustración por Bernardo Dinamarca**\n",
    "\n",
    "La pandemia por la ventana es un sitio, realizado con formato de *libro* gracias a Jupyter Books, hecho por Alejandro Dinamarca, que recaba el trabajo de Numeral.lab en la Región de Tarapacá.\n",
    "\n",
    "Favor, cualquier sugerencia o comentario, hacerlo llegar mediante [Issues de GitHub](https://github.com/pandemiaventana/pandemiaventana/issues/new).\n",
    "\n",
    "## Funcionamiento\n",
    "\n",
    "Básicamente, a través de Notebooks de Jupyter y un poco de Markdown. Python, por contraparte, genera los CSV, y Jupyter Books se encarga de generar la página web a partir de los Notebooks y el Markdown.\n",
    "\n",
    "El despliegue del libro en [gh-pages](https://github.com/pandemiaventana/pandemiaventana/tree/gh-pages) se realiza cada vez que:\n",
    "\n",
    "- Desencadeno un cambio en [main](https://github.com/pandemiaventana/pandemiaventana)\n",
    "\n",
    "- Periódicamente desde las 11:30 hrs. a las 19:30 hrs. (hora de Santiago de Chile).\n",
    "\n",
    "A través del action [actualiza_libro](https://github.com/pandemiaventana/pandemiaventana/actions/workflows/book.yml).\n",
    "\n",
    "## Estado\n",
    "\n",
    "[![deploy-book](https://github.com/pandemiaventana/pandemiaventana/actions/workflows/book.yml/badge.svg)](https://github.com/pandemiaventana/pandemiaventana/actions/workflows/book.yml)\n",
    "\n",
    "## DOI\n",
    "\n",
    "[![DOI](https://zenodo.org/badge/DOI/10.5281/zenodo.5044609.svg)](https://doi.org/10.5281/zenodo.5044609)\n",
    "\n",
    "## Archivos CSV generados\n",
    "\n",
    "Disponibles en [el siguiente enlace](https://github.com/pandemiaventana/pandemiaventana/tree/main/out/site/csv), los cuales se adjuntan a continuación:\n",
    "\n",
    "'''\n",
    "\n",
    "### Gracias a BenVida (stackoverflow.com/a/64495269/13746427) ###\n",
    "Javascript('''{\n",
    "    let outputs=[...document.querySelectorAll(\".cell\")].map(\n",
    "        cell=> {\n",
    "            let output=cell.querySelector(\".output\")\n",
    "            if(output) return output.innerHTML\n",
    "            output=cell.querySelector(\".rendered_html\")\n",
    "            if(output) return output.innerHTML\n",
    "            return \"\"\n",
    "        }\n",
    "    )\n",
    "    \n",
    "    IPython.notebook.kernel.execute(\"cell_outputs=\"+JSON.stringify(outputs))\n",
    "    IPython.notebook.kernel.execute(\"soup = BeautifulSoup(cell_outputs[3])\")\n",
    "    IPython.notebook.kernel.execute(\"removals = soup.find_all(attrs={'class': 'prompt'})\")\n",
    "    IPython.notebook.kernel.execute(\"for removal in removals: removal.decompose()\")\n",
    "    IPython.notebook.kernel.execute(\"soup = str(soup)\")   \n",
    "    IPython.notebook.kernel.execute(\"op = open('../../README.md' , 'w', encoding='utf-8')\")\n",
    "    IPython.notebook.kernel.execute(\"full = txt1 + md(soup)\")\n",
    "    IPython.notebook.kernel.execute(\"op.writelines(full)\")\n",
    "    IPython.notebook.kernel.execute(\"op.close()\")\n",
    "}''')"
   ]
  },
  {
   "cell_type": "markdown",
   "id": "5b6de983",
   "metadata": {},
   "source": [
    "## Archivos PDF"
   ]
  },
  {
   "cell_type": "code",
   "execution_count": 4,
   "id": "21848f60",
   "metadata": {},
   "outputs": [
    {
     "data": {
      "text/markdown": [
       "<h2>Reporte diario</h2>"
      ],
      "text/plain": [
       "<IPython.core.display.Markdown object>"
      ]
     },
     "metadata": {},
     "output_type": "display_data"
    },
    {
     "data": {
      "text/markdown": [
       "Encontré los siguientes PDF:"
      ],
      "text/plain": [
       "<IPython.core.display.Markdown object>"
      ]
     },
     "metadata": {},
     "output_type": "display_data"
    },
    {
     "data": {
      "text/markdown": [
       " <a href='https://docs.google.com/gview?url=https://github.com/pandemiaventana/pandemiaventana/raw/main/out/diario/pdf/2021.06.30.pdf&embedded=true'>2021.06.30.pdf</a>"
      ],
      "text/plain": [
       "<IPython.core.display.Markdown object>"
      ]
     },
     "metadata": {},
     "output_type": "display_data"
    },
    {
     "data": {
      "text/markdown": [
       " <a href='https://docs.google.com/gview?url=https://github.com/pandemiaventana/pandemiaventana/raw/main/out/diario/pdf/2021.06.29.pdf&embedded=true'>2021.06.29.pdf</a>"
      ],
      "text/plain": [
       "<IPython.core.display.Markdown object>"
      ]
     },
     "metadata": {},
     "output_type": "display_data"
    },
    {
     "data": {
      "text/markdown": [
       " <a href='https://docs.google.com/gview?url=https://github.com/pandemiaventana/pandemiaventana/raw/main/out/diario/pdf/2021.06.27.pdf&embedded=true'>2021.06.27.pdf</a>"
      ],
      "text/plain": [
       "<IPython.core.display.Markdown object>"
      ]
     },
     "metadata": {},
     "output_type": "display_data"
    },
    {
     "data": {
      "text/markdown": [
       " <a href='https://docs.google.com/gview?url=https://github.com/pandemiaventana/pandemiaventana/raw/main/out/diario/pdf/2021.06.25.pdf&embedded=true'>2021.06.25.pdf</a>"
      ],
      "text/plain": [
       "<IPython.core.display.Markdown object>"
      ]
     },
     "metadata": {},
     "output_type": "display_data"
    },
    {
     "data": {
      "text/markdown": [
       " <a href='https://docs.google.com/gview?url=https://github.com/pandemiaventana/pandemiaventana/raw/main/out/diario/pdf/2021.06.28.pdf&embedded=true'>2021.06.28.pdf</a>"
      ],
      "text/plain": [
       "<IPython.core.display.Markdown object>"
      ]
     },
     "metadata": {},
     "output_type": "display_data"
    },
    {
     "data": {
      "text/markdown": [
       " <a href='https://docs.google.com/gview?url=https://github.com/pandemiaventana/pandemiaventana/raw/main/out/diario/pdf/2021.06.26.pdf&embedded=true'>2021.06.26.pdf</a>"
      ],
      "text/plain": [
       "<IPython.core.display.Markdown object>"
      ]
     },
     "metadata": {},
     "output_type": "display_data"
    },
    {
     "data": {
      "text/markdown": [
       " <a href='https://docs.google.com/gview?url=https://github.com/pandemiaventana/pandemiaventana/raw/main/out/diario/pdf/2021.07.01.pdf&embedded=true'>2021.07.01.pdf</a>"
      ],
      "text/plain": [
       "<IPython.core.display.Markdown object>"
      ]
     },
     "metadata": {},
     "output_type": "display_data"
    },
    {
     "data": {
      "text/markdown": [
       "<h2>Balance de vacunas</h2>"
      ],
      "text/plain": [
       "<IPython.core.display.Markdown object>"
      ]
     },
     "metadata": {},
     "output_type": "display_data"
    },
    {
     "data": {
      "text/markdown": [
       "Encontré los siguientes PDF:"
      ],
      "text/plain": [
       "<IPython.core.display.Markdown object>"
      ]
     },
     "metadata": {},
     "output_type": "display_data"
    },
    {
     "data": {
      "text/markdown": [
       " <a href='https://docs.google.com/gview?url=https://github.com/pandemiaventana/pandemiaventana/raw/main/out/vacuna/pdf/2021.06.30.pdf&embedded=true'>2021.06.30.pdf</a>"
      ],
      "text/plain": [
       "<IPython.core.display.Markdown object>"
      ]
     },
     "metadata": {},
     "output_type": "display_data"
    },
    {
     "data": {
      "text/markdown": [
       " <a href='https://docs.google.com/gview?url=https://github.com/pandemiaventana/pandemiaventana/raw/main/out/vacuna/pdf/2021.06.29.pdf&embedded=true'>2021.06.29.pdf</a>"
      ],
      "text/plain": [
       "<IPython.core.display.Markdown object>"
      ]
     },
     "metadata": {},
     "output_type": "display_data"
    },
    {
     "data": {
      "text/markdown": [
       " <a href='https://docs.google.com/gview?url=https://github.com/pandemiaventana/pandemiaventana/raw/main/out/vacuna/pdf/2021.06.28.pdf&embedded=true'>2021.06.28.pdf</a>"
      ],
      "text/plain": [
       "<IPython.core.display.Markdown object>"
      ]
     },
     "metadata": {},
     "output_type": "display_data"
    },
    {
     "data": {
      "text/markdown": [
       " <a href='https://docs.google.com/gview?url=https://github.com/pandemiaventana/pandemiaventana/raw/main/out/vacuna/pdf/2021.06.26.pdf&embedded=true'>2021.06.26.pdf</a>"
      ],
      "text/plain": [
       "<IPython.core.display.Markdown object>"
      ]
     },
     "metadata": {},
     "output_type": "display_data"
    },
    {
     "data": {
      "text/markdown": [
       " <a href='https://docs.google.com/gview?url=https://github.com/pandemiaventana/pandemiaventana/raw/main/out/vacuna/pdf/2021.07.01.pdf&embedded=true'>2021.07.01.pdf</a>"
      ],
      "text/plain": [
       "<IPython.core.display.Markdown object>"
      ]
     },
     "metadata": {},
     "output_type": "display_data"
    },
    {
     "data": {
      "text/markdown": [
       "<h2>Indicador de Fase</h2>"
      ],
      "text/plain": [
       "<IPython.core.display.Markdown object>"
      ]
     },
     "metadata": {},
     "output_type": "display_data"
    },
    {
     "data": {
      "text/markdown": [
       "Encontré los siguientes PDF:"
      ],
      "text/plain": [
       "<IPython.core.display.Markdown object>"
      ]
     },
     "metadata": {},
     "output_type": "display_data"
    },
    {
     "data": {
      "text/markdown": [
       " <a href='https://docs.google.com/gview?url=https://github.com/pandemiaventana/pandemiaventana/raw/main/out/indicadorfase/pdf/2021.06.25.pdf&embedded=true'>2021.06.25.pdf</a>"
      ],
      "text/plain": [
       "<IPython.core.display.Markdown object>"
      ]
     },
     "metadata": {},
     "output_type": "display_data"
    },
    {
     "data": {
      "text/markdown": [
       " <a href='https://docs.google.com/gview?url=https://github.com/pandemiaventana/pandemiaventana/raw/main/out/indicadorfase/pdf/2021.06.28.pdf&embedded=true'>2021.06.28.pdf</a>"
      ],
      "text/plain": [
       "<IPython.core.display.Markdown object>"
      ]
     },
     "metadata": {},
     "output_type": "display_data"
    }
   ],
   "source": [
    "### Gracias a Daniel Stutzbach y Bruno Bronosky (stackoverflow.com/a/2632251/13746427) ###\n",
    "sum_ = []\n",
    "dirr = ['diario', 'vacuna', 'indicadorfase']\n",
    "names = ['Reporte diario', 'Balance de vacunas', 'Indicador de Fase']\n",
    "p = 0\n",
    "for reporte in dirr:\n",
    "    display(Markdown('<h2>{}</h2>'.format(names[p])))\n",
    "    display(Markdown('Encontré los siguientes PDF:'.format(names[p])))\n",
    "    exec('sum_{} = []'.format(reporte))\n",
    "    for string in [name for name in os.listdir('../../out/{}/pdf'.format(reporte))]:\n",
    "        if os.path.isdir('../../out/diario/pdf/{}'.format(string)):\n",
    "            pass\n",
    "        else:\n",
    "            exec('sum_{} += [string]'.format(reporte))\n",
    "    exec('''for ipdf in sum_{}:\n",
    "        display(Markdown(\" <a href='https://docs.google.com/gview?url=https://github.com/pandemiaventana/pandemiaventana/raw/main/out/\" + reporte + \"/pdf/\" + ipdf + \"&embedded=true'>\" + ipdf + \"</a>\"))'''.format(reporte))\n",
    "    p += 1\n",
    "    \n",
    "txt2 = \"\"\"# Archivo\n",
    "\n",
    "\"\"\""
   ]
  },
  {
   "cell_type": "markdown",
   "id": "91fd73c3",
   "metadata": {},
   "source": [
    "## Salida de archivos PDF"
   ]
  },
  {
   "cell_type": "code",
   "execution_count": 5,
   "id": "117ce9e8",
   "metadata": {},
   "outputs": [
    {
     "data": {
      "application/javascript": [
       "{\n",
       "    let outputs=[...document.querySelectorAll(\".cell\")].map(\n",
       "        cell=> {\n",
       "            let output=cell.querySelector(\".output\")\n",
       "            if(output) return output.innerHTML\n",
       "            output=cell.querySelector(\".rendered_html\")\n",
       "            if(output) return output.innerHTML\n",
       "            return \"\"\n",
       "        }\n",
       "    )\n",
       "\n",
       "    IPython.notebook.kernel.execute(\"cell_outputs=\"+JSON.stringify(outputs))\n",
       "    IPython.notebook.kernel.execute(\"soup = BeautifulSoup(cell_outputs[7])\")\n",
       "    IPython.notebook.kernel.execute(\"removals = soup.find_all(attrs={'class': 'prompt'})\")\n",
       "    IPython.notebook.kernel.execute(\"for removal in removals: removal.decompose()\")\n",
       "    IPython.notebook.kernel.execute(\"soup = str(soup)\")   \n",
       "    IPython.notebook.kernel.execute(\"op = open('../5_reportes/4_reportes.md' , 'w', encoding='utf-8')\")\n",
       "    IPython.notebook.kernel.execute(\"full = md(txt2) + md(soup)\")\n",
       "    IPython.notebook.kernel.execute(\"op.writelines(full)\")\n",
       "    IPython.notebook.kernel.execute(\"op.close()\")\n",
       "}"
      ],
      "text/plain": [
       "<IPython.core.display.Javascript object>"
      ]
     },
     "execution_count": 5,
     "metadata": {},
     "output_type": "execute_result"
    }
   ],
   "source": [
    "### Gracias a BenVida (stackoverflow.com/a/64495269/13746427) ###\n",
    "\n",
    "Javascript('''{\n",
    "    let outputs=[...document.querySelectorAll(\".cell\")].map(\n",
    "        cell=> {\n",
    "            let output=cell.querySelector(\".output\")\n",
    "            if(output) return output.innerHTML\n",
    "            output=cell.querySelector(\".rendered_html\")\n",
    "            if(output) return output.innerHTML\n",
    "            return \"\"\n",
    "        }\n",
    "    )\n",
    "\n",
    "    IPython.notebook.kernel.execute(\"cell_outputs=\"+JSON.stringify(outputs))\n",
    "    IPython.notebook.kernel.execute(\"soup = BeautifulSoup(cell_outputs[7])\")\n",
    "    IPython.notebook.kernel.execute(\"removals = soup.find_all(attrs={'class': 'prompt'})\")\n",
    "    IPython.notebook.kernel.execute(\"for removal in removals: removal.decompose()\")\n",
    "    IPython.notebook.kernel.execute(\"soup = str(soup)\")   \n",
    "    IPython.notebook.kernel.execute(\"op = open('../5_reportes/4_reportes.md' , 'w', encoding='utf-8')\")\n",
    "    IPython.notebook.kernel.execute(\"full = md(txt2) + md(soup)\")\n",
    "    IPython.notebook.kernel.execute(\"op.writelines(full)\")\n",
    "    IPython.notebook.kernel.execute(\"op.close()\")\n",
    "}''')"
   ]
  },
  {
   "cell_type": "markdown",
   "id": "02a816a6",
   "metadata": {},
   "source": [
    "## Información de sesión"
   ]
  },
  {
   "cell_type": "code",
   "execution_count": 6,
   "id": "dcc2ec19",
   "metadata": {},
   "outputs": [
    {
     "data": {
      "text/html": [
       "            <details>\n",
       "            <summary>Click to view session information</summary>\n",
       "            <pre>\n",
       "            -----\n",
       "            bs4                 4.9.3\n",
       "            markdownify         NA\n",
       "            numpy               1.19.5\n",
       "            os                  NA\n",
       "            pandas              1.2.3\n",
       "            session_info        1.0.0\n",
       "            -----\n",
       "            </pre>\n",
       "            <details>\n",
       "            <summary>Click to view modules imported as dependencies</summary>\n",
       "            <pre>\n",
       "            abc                 NA\n",
       "            argparse            1.1\n",
       "            array               NA\n",
       "            ast                 NA\n",
       "            asyncio             NA\n",
       "            atexit              NA\n",
       "            backcall            0.2.0\n",
       "            base64              NA\n",
       "            bdb                 NA\n",
       "            binascii            NA\n",
       "            bisect              NA\n",
       "            bz2                 NA\n",
       "            cProfile            NA\n",
       "            calendar            NA\n",
       "            chardet             4.0.0\n",
       "            cmath               NA\n",
       "            cmd                 NA\n",
       "            code                NA\n",
       "            codecs              NA\n",
       "            codeop              NA\n",
       "            collections         NA\n",
       "            colorama            0.4.4\n",
       "            colorsys            NA\n",
       "            concurrent          NA\n",
       "            contextlib          NA\n",
       "            contextvars         NA\n",
       "            copy                NA\n",
       "            copyreg             NA\n",
       "            csv                 1.0\n",
       "            ctypes              1.1.0\n",
       "            curses              NA\n",
       "            cython_runtime      NA\n",
       "            dataclasses         NA\n",
       "            datetime            NA\n",
       "            dateutil            2.8.1\n",
       "            debugpy             1.3.0\n",
       "            decimal             1.70\n",
       "            decorator           5.0.9\n",
       "            difflib             NA\n",
       "            dis                 NA\n",
       "            distutils           3.7.10\n",
       "            email               NA\n",
       "            encodings           NA\n",
       "            enum                NA\n",
       "            errno               NA\n",
       "            faulthandler        NA\n",
       "            fcntl               NA\n",
       "            filecmp             NA\n",
       "            fnmatch             NA\n",
       "            functools           NA\n",
       "            gc                  NA\n",
       "            genericpath         NA\n",
       "            getopt              NA\n",
       "            getpass             NA\n",
       "            gettext             NA\n",
       "            glob                NA\n",
       "            grp                 NA\n",
       "            gzip                NA\n",
       "            hashlib             NA\n",
       "            heapq               NA\n",
       "            hmac                NA\n",
       "            html                NA\n",
       "            http                NA\n",
       "            imp                 NA\n",
       "            importlib           NA\n",
       "            inspect             NA\n",
       "            io                  NA\n",
       "            ipykernel           6.0.0\n",
       "            ipython_genutils    0.2.0\n",
       "            itertools           NA\n",
       "            jedi                0.18.0\n",
       "            json                2.0.9\n",
       "            keyword             NA\n",
       "            linecache           NA\n",
       "            locale              NA\n",
       "            logging             0.5.1.2\n",
       "            lzma                NA\n",
       "            marshal             4\n",
       "            math                NA\n",
       "            mimetypes           NA\n",
       "            mmap                NA\n",
       "            mpl_toolkits        NA\n",
       "            multiprocessing     NA\n",
       "            ntpath              NA\n",
       "            numbers             NA\n",
       "            opcode              NA\n",
       "            operator            NA\n",
       "            parso               0.8.2\n",
       "            pathlib             NA\n",
       "            pdb                 NA\n",
       "            pexpect             4.8.0\n",
       "            pickle              NA\n",
       "            pickleshare         0.7.5\n",
       "            pkgutil             NA\n",
       "            platform            1.0.8\n",
       "            posix               NA\n",
       "            posixpath           NA\n",
       "            pprint              NA\n",
       "            profile             NA\n",
       "            prompt_toolkit      3.0.19\n",
       "            pstats              NA\n",
       "            pty                 NA\n",
       "            ptyprocess          0.7.0\n",
       "            pwd                 NA\n",
       "            pydoc               NA\n",
       "            pydoc_data          NA\n",
       "            pygments            2.9.0\n",
       "            pytz                2021.1\n",
       "            queue               NA\n",
       "            quopri              NA\n",
       "            random              NA\n",
       "            re                  2.2.1\n",
       "            reprlib             NA\n",
       "            resource            NA\n",
       "            runpy               NA\n",
       "            secrets             NA\n",
       "            select              NA\n",
       "            selectors           NA\n",
       "            shlex               NA\n",
       "            shutil              NA\n",
       "            signal              NA\n",
       "            site                NA\n",
       "            six                 1.16.0\n",
       "            socket              NA\n",
       "            soupsieve           2.2.1\n",
       "            sphinxcontrib       NA\n",
       "            sqlite3             2.6.0\n",
       "            sre_compile         NA\n",
       "            sre_constants       NA\n",
       "            sre_parse           NA\n",
       "            ssl                 NA\n",
       "            stat                NA\n",
       "            storemagic          NA\n",
       "            string              NA\n",
       "            struct              NA\n",
       "            subprocess          NA\n",
       "            sys                 3.7.10 (default, Feb 16 2021, 12:01:19) \n",
       "[GCC 9.3.0]\n",
       "            sysconfig           NA\n",
       "            tarfile             0.9.0\n",
       "            tempfile            NA\n",
       "            termios             NA\n",
       "            textwrap            NA\n",
       "            threading           NA\n",
       "            time                NA\n",
       "            timeit              NA\n",
       "            token               NA\n",
       "            tokenize            NA\n",
       "            tornado             6.1\n",
       "            traceback           NA\n",
       "            traitlets           5.0.5\n",
       "            tty                 NA\n",
       "            types               NA\n",
       "            typing              NA\n",
       "            unicodedata         NA\n",
       "            urllib              NA\n",
       "            uu                  NA\n",
       "            uuid                NA\n",
       "            warnings            NA\n",
       "            wcwidth             0.2.5\n",
       "            weakref             NA\n",
       "            xml                 NA\n",
       "            zipfile             NA\n",
       "            zipimport           NA\n",
       "            zlib                1.0\n",
       "            zmq                 22.1.0\n",
       "            </pre>\n",
       "            </details> <!-- seems like this ends pre, so might as well be explicit -->\n",
       "            <pre>\n",
       "            -----\n",
       "            IPython             7.25.0\n",
       "            jupyter_client      6.1.12\n",
       "            jupyter_core        4.7.1\n",
       "            notebook            6.4.0\n",
       "            -----\n",
       "            Python 3.7.10 (default, Feb 16 2021, 12:01:19) [GCC 9.3.0]\n",
       "            Linux-5.8.0-1036-azure-x86_64-with-debian-bullseye-sid\n",
       "            2 logical CPU cores, x86_64\n",
       "            -----\n",
       "            Session information updated at 2021-07-01 19:22\n",
       "            </pre>\n",
       "            </details>"
      ],
      "text/plain": [
       "<IPython.core.display.HTML object>"
      ]
     },
     "execution_count": 6,
     "metadata": {},
     "output_type": "execute_result"
    }
   ],
   "source": [
    "session_info.show(cpu=True, jupyter=True, std_lib=True, write_req_file=True, dependencies=True, req_file_name='4_requeriments.txt')"
   ]
  }
 ],
 "metadata": {
  "kernelspec": {
   "display_name": "Python 3",
   "language": "python",
   "name": "python3"
  },
  "language_info": {
   "codemirror_mode": {
    "name": "ipython",
    "version": 3
   },
   "file_extension": ".py",
   "mimetype": "text/x-python",
   "name": "python",
   "nbconvert_exporter": "python",
   "pygments_lexer": "ipython3",
   "version": "3.7.10"
  }
 },
 "nbformat": 4,
 "nbformat_minor": 5
}